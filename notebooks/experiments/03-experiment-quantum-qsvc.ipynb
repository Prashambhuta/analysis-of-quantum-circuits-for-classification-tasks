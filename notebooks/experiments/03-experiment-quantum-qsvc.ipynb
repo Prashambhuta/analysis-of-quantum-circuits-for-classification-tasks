{
 "cells": [
  {
   "cell_type": "markdown",
   "id": "af849bc8-1360-418d-9c21-b107b714af12",
   "metadata": {},
   "source": [
    "# Quantum QSVC Training\n",
    "## Multiclass Performance with Single Label Training & Prediction\n",
    "\n",
    "This notebook represents the Quantum Support Vector Classifier side of experiments."
   ]
  },
  {
   "cell_type": "code",
   "execution_count": null,
   "id": "c474a626-eec6-44c5-afdb-ef7411a4f4a6",
   "metadata": {},
   "outputs": [],
   "source": [
    "# For dataset.\n",
    "from sklearn.datasets import make_multilabel_classification, make_classification\n",
    "from qiskit_algorithms.utils import algorithm_globals\n",
    "from qiskit.algorithms.optimizers import COBYLA, L_BFGS_B\n",
    "from qiskit_machine_learning.algorithms.classifiers import NeuralNetworkClassifier, VQC, QSVC\n",
    "from qiskit_machine_learning.kernels.algorithms import QuantumKernelTrainer\n",
    "from qiskit_machine_learning.kernels import BaseKernel, TrainableFidelityQuantumKernel"
   ]
  },
  {
   "cell_type": "code",
   "execution_count": null,
   "id": "6ca50a41-4da4-4264-b890-0fff7b5f83b6",
   "metadata": {},
   "outputs": [],
   "source": [
    "import numpy as np\n",
    "import matplotlib.pyplot as plt\n",
    "from IPython.display import clear_output\n",
    "import time\n",
    "import pandas as pd\n",
    "import abc"
   ]
  },
  {
   "cell_type": "code",
   "execution_count": null,
   "id": "dd270f39-ad61-4587-b2da-95a86128118b",
   "metadata": {},
   "outputs": [],
   "source": [
    "# for data split\n",
    "from sklearn.model_selection import train_test_split\n",
    "from sklearn.metrics import accuracy_score, f1_score"
   ]
  },
  {
   "cell_type": "code",
   "execution_count": null,
   "id": "c86c9b8f-6e9d-45c1-8f9e-7c0b4971ef92",
   "metadata": {},
   "outputs": [],
   "source": [
    "from qiskit.circuit.library import ZFeatureMap, ZZFeatureMap\n",
    "from qiskit.circuit.library import RealAmplitudes"
   ]
  },
  {
   "cell_type": "code",
   "execution_count": null,
   "id": "4a27bb0e-78d8-48f5-8118-589a8059b221",
   "metadata": {},
   "outputs": [],
   "source": [
    "from qiskit.primitives import Sampler\n",
    "from qiskit_algorithms.state_fidelities import ComputeUncompute\n",
    "from qiskit_machine_learning.kernels import FidelityQuantumKernel, FidelityStatevectorKernel"
   ]
  },
  {
   "cell_type": "markdown",
   "id": "98b9bc34-c835-4b10-bf60-64e8e8b7cde4",
   "metadata": {},
   "source": [
    "----"
   ]
  },
  {
   "cell_type": "code",
   "execution_count": null,
   "id": "fdb91a5e-9311-490c-b7b2-88bca2020348",
   "metadata": {},
   "outputs": [],
   "source": [
    "def conv_to_int(vector):\n",
    "        val = \"\".join(vector.astype(str))\n",
    "        value = int(val, 2)\n",
    "        return value"
   ]
  },
  {
   "cell_type": "code",
   "execution_count": null,
   "id": "4398cb17-b59f-4d47-bca2-1095b19cae1b",
   "metadata": {},
   "outputs": [],
   "source": [
    "def int_to_hot(x, no_of_classes):\n",
    "        format = '{' + '0:0{:d}b'.format(no_of_classes) + '}'\n",
    "        result = format.format(x)\n",
    "        list_of_ints = [int(x) for x in result]\n",
    "        return np.array(list_of_ints)"
   ]
  },
  {
   "cell_type": "code",
   "execution_count": null,
   "id": "9c515bb1-d901-4a3d-a273-47e5d9729cd9",
   "metadata": {},
   "outputs": [],
   "source": [
    "def get_mapping(no_of_classes):\n",
    "        dictionary = {}\n",
    "        numbers = list(range(0, 2**no_of_classes))\n",
    "        for i in numbers:\n",
    "            dictionary[i] = int_to_hot(i, no_of_classes)\n",
    "        return dictionary"
   ]
  },
  {
   "cell_type": "code",
   "execution_count": null,
   "id": "5170a46f-607f-4712-aac8-5aef83dba47b",
   "metadata": {},
   "outputs": [],
   "source": [
    "# get data\n",
    "def data_generation(n_samples, n_features, n_classes, n_labels):\n",
    "        \"\"\"\n",
    "        Generate classification data using sklearn's data generation.\\\n",
    "        \"\"\"\n",
    "        X, y = make_multilabel_classification(n_samples=n_samples, \n",
    "                                              n_features=n_features, \n",
    "                                              n_classes=n_classes, \n",
    "                                              n_labels=n_labels,\n",
    "                                              random_state=algorithm_globals.random_seed\n",
    "                                             )\n",
    "        y_new = np.array([conv_to_int(val) for val in y])\n",
    "        print(X.shape, y.shape, y_new.shape)\n",
    "        print(X[:5], y[:5], y_new[:5])\n",
    "        return X, y, y_new"
   ]
  },
  {
   "cell_type": "code",
   "execution_count": null,
   "id": "57d50db7-92f4-4afd-acbd-01dd86f474ae",
   "metadata": {},
   "outputs": [],
   "source": [
    "results = {}\n",
    "model = 'QSVC Kernel'\n",
    "no_of_samples = 1024\n",
    "no_of_features = [2,4,8,12] # as much as quantum side allows\n",
    "no_of_classes = [3] \n",
    "no_of_labels = [3] \n",
    "no_of_featuremap_reps = [2,3,4,5,6,8,12]"
   ]
  },
  {
   "cell_type": "code",
   "execution_count": null,
   "id": "ba19eeb3-8233-4d88-b39f-d08a57f82f05",
   "metadata": {},
   "outputs": [],
   "source": [
    "for no_feature in no_of_features:\n",
    "    for reps in no_of_featuremap_reps:\n",
    "        for no_class in no_of_classes:\n",
    "            for no_label in no_of_labels:\n",
    "                if no_label <= no_class:\n",
    "                    X, y, y_new = data_generation(no_of_samples, no_feature, no_class, no_label)\n",
    "                    adhoc_feature_map = ZZFeatureMap(feature_dimension=no_feature, reps=reps, entanglement=\"linear\")\n",
    "                    adhoc_kernel = FidelityStatevectorKernel(feature_map=adhoc_feature_map)\n",
    "                    optimizer = COBYLA(maxiter=50)\n",
    "                    qsvc = QSVC(quantum_kernel=adhoc_kernel)\n",
    "                    start = time.time()\n",
    "                    qsvc.fit(X, y_new)\n",
    "                    elapsed = time.time() - start\n",
    "                    predictions = qsvc.predict(X)\n",
    "                    mapping = get_mapping(no_class)\n",
    "                    predictions_labels_final = np.array([mapping[val] for val in predictions])\n",
    "                    print(predictions_labels_final[:5])\n",
    "                    accuracy_scores = accuracy_score(y, predictions_labels_final)\n",
    "                    f1_scores = f1_score(y, predictions_labels_final, average='weighted')\n",
    "                    results.setdefault('Model', []).append(model)\n",
    "                    results.setdefault('No of features', []).append(no_feature)\n",
    "                    results.setdefault('No of samples', []).append(no_of_samples)\n",
    "                    results.setdefault('No of classes', []).append(no_class)\n",
    "                    results.setdefault('No of labels', []).append(no_label)\n",
    "                    results.setdefault('No of feature map reps', []).append(reps)\n",
    "                    results.setdefault('Accuracy', []).append(accuracy_scores)\n",
    "                    results.setdefault('F1', []).append(f1_scores)\n",
    "                    results.setdefault('Time taken', []).append(elapsed)"
   ]
  },
  {
   "cell_type": "code",
   "execution_count": null,
   "id": "07ccbbe1-94f0-42f9-a62b-7f45f4b4fb4d",
   "metadata": {},
   "outputs": [],
   "source": [
    "df = pd.DataFrame(results)\n",
    "df.to_csv(f'''results/Final/QSVC-experiments.csv''', index=False)"
   ]
  }
 ],
 "metadata": {
  "kernelspec": {
   "display_name": "quantum-base",
   "language": "python",
   "name": "quantum-base"
  },
  "language_info": {
   "codemirror_mode": {
    "name": "ipython",
    "version": 3
   },
   "file_extension": ".py",
   "mimetype": "text/x-python",
   "name": "python",
   "nbconvert_exporter": "python",
   "pygments_lexer": "ipython3",
   "version": "3.9.17"
  }
 },
 "nbformat": 4,
 "nbformat_minor": 5
}

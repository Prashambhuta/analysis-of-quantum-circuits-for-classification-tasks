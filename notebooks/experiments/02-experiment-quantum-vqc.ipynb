{
 "cells": [
  {
   "cell_type": "markdown",
   "id": "b04b7bde-509f-4d5f-bbf0-9d375865f102",
   "metadata": {},
   "source": [
    "# Quantum VQC Running\n",
    "## Multiclass Performance with Single Label Training & Prediction\n",
    "\n",
    "Here are the experiments with the quantum side of things. In this notebook we run the VQC model."
   ]
  },
  {
   "cell_type": "code",
   "execution_count": null,
   "id": "70020c00-b97a-4357-8de0-07bd346cd55b",
   "metadata": {},
   "outputs": [],
   "source": [
    "# For dataset.\n",
    "from sklearn.datasets import make_multilabel_classification, make_classification\n",
    "from qiskit_algorithms.utils import algorithm_globals\n",
    "from qiskit.algorithms.optimizers import COBYLA, L_BFGS_B\n",
    "from qiskit_machine_learning.algorithms.classifiers import NeuralNetworkClassifier, VQC, QSVC\n",
    "from qiskit_machine_learning.kernels.algorithms import QuantumKernelTrainer\n",
    "from qiskit_machine_learning.kernels import BaseKernel, TrainableFidelityQuantumKernel"
   ]
  },
  {
   "cell_type": "code",
   "execution_count": null,
   "id": "dd4257ef-a8af-476d-847c-11a99b0b496f",
   "metadata": {},
   "outputs": [],
   "source": [
    "import numpy as np\n",
    "import matplotlib.pyplot as plt\n",
    "from IPython.display import clear_output\n",
    "import time\n",
    "import pandas as pd\n",
    "import abc"
   ]
  },
  {
   "cell_type": "code",
   "execution_count": null,
   "id": "5a63a50d-072c-4aad-af68-17915ed2ccc8",
   "metadata": {},
   "outputs": [],
   "source": [
    "# for data split\n",
    "from sklearn.model_selection import train_test_split\n",
    "from sklearn.metrics import accuracy_score, f1_score"
   ]
  },
  {
   "cell_type": "code",
   "execution_count": null,
   "id": "97b5ece4-1a00-4c17-b15a-06435821cb0e",
   "metadata": {},
   "outputs": [],
   "source": [
    "from qiskit.circuit.library import ZFeatureMap, ZZFeatureMap"
   ]
  },
  {
   "cell_type": "code",
   "execution_count": null,
   "id": "d507e92c-6e49-4fb9-b8ec-985ab6153452",
   "metadata": {},
   "outputs": [],
   "source": [
    "from qiskit.circuit.library import RealAmplitudes"
   ]
  },
  {
   "cell_type": "markdown",
   "id": "fea6b7bb-f430-44f7-b1e8-a07a11dfe8fd",
   "metadata": {},
   "source": [
    "----"
   ]
  },
  {
   "cell_type": "code",
   "execution_count": null,
   "id": "7d66fe9a-4e60-468d-8466-121e3efbcbce",
   "metadata": {},
   "outputs": [],
   "source": [
    "class quantumMultiLabelAlgoTrainingVQC:\n",
    "    \"\"\"\n",
    "    Class to train quantum algorithms for multiclass multilabel.\n",
    "    \"\"\"\n",
    "    def __init__(self, no_of_features, no_of_samples, no_of_classes, no_of_labels, no_of_feature_map_reps, no_of_ansatz_reps, models = ['VQC']):\n",
    "        self.no_of_features = no_of_features\n",
    "        self.no_of_samples = no_of_samples\n",
    "        self.no_of_labels = no_of_labels\n",
    "        self.no_of_classes = no_of_classes\n",
    "        self.models = models\n",
    "        self.featuremap_reps = no_of_feature_map_reps\n",
    "        self.ansatz_reps = no_of_ansatz_reps\n",
    "        self.objective_func_vals = []\n",
    "        print(f\"the no of classes is {self.no_of_classes}\")\n",
    "\n",
    "    def data_generation(self):\n",
    "        \"\"\"\n",
    "        Generate classification data using sklearn's data generation.\\\n",
    "        \"\"\"\n",
    "        n_samples=self.no_of_samples\n",
    "        n_features=self.no_of_features\n",
    "        n_classes=self.no_of_classes\n",
    "        n_labels=self.no_of_labels\n",
    "        print(n_samples)\n",
    "        X, y = make_multilabel_classification(n_samples=n_samples, \n",
    "                                              n_features=n_features, \n",
    "                                              n_classes=n_classes, \n",
    "                                              n_labels=n_labels,\n",
    "                                              random_state=algorithm_globals.random_seed\n",
    "                                             )\n",
    "        y_new = np.array([self.conv_to_int(val) for val in y])\n",
    "        print(X.shape, y.shape, y_new.shape)\n",
    "        print(X[:5], y[:5], y_new[:5])\n",
    "        return X, y, y_new\n",
    "\n",
    "    def int_to_hot(self, x):\n",
    "        format = '{' + '0:0{:d}b'.format(self.no_of_classes) + '}'\n",
    "        result = format.format(x)\n",
    "        list_of_ints = [int(x) for x in result]\n",
    "        return np.array(list_of_ints)\n",
    "\n",
    "    def get_mapping(self):\n",
    "        dictionary = {}\n",
    "        numbers = list(range(0, 2**self.no_of_classes))\n",
    "        for i in numbers:\n",
    "            dictionary[i] = self.int_to_hot(i)\n",
    "        return dictionary\n",
    "\n",
    "    def conv_to_int(self, vector):\n",
    "        val = \"\".join(vector.astype(str))\n",
    "        value = int(val, 2)\n",
    "        return value\n",
    "\n",
    "    def generate_featuremap(self):\n",
    "        \"\"\" Generating the feature map.\"\"\"\n",
    "        feature_map = ZZFeatureMap(feature_dimension=self.no_of_features, reps=self.featuremap_reps)\n",
    "        return feature_map\n",
    "\n",
    "    def generate_ansatz(self):\n",
    "        \"\"\"Generating ansatz.\"\"\"\n",
    "        ansatz = RealAmplitudes(num_qubits=self.no_of_features, reps=self.ansatz_reps)\n",
    "        return ansatz\n",
    "\n",
    "    def callback_graph(self, weights, obj_func_eval):\n",
    "        clear_output(wait=True)\n",
    "        self.objective_func_vals.append(obj_func_eval)\n",
    "        plt.title(\"Objective function value against iteration\")\n",
    "        plt.xlabel(\"Iteration\")\n",
    "        plt.ylabel(\"Objective function value\")\n",
    "        plt.plot(range(len(self.objective_func_vals)), self.objective_func_vals)\n",
    "        plt.show()\n",
    "\n",
    "    def quantum_training(self):\n",
    "        X, y, y_new = self.data_generation()\n",
    "        mapping = self.get_mapping()\n",
    "        optimizer = COBYLA(maxiter=50)\n",
    "        model = 'VQC'\n",
    "        vqc = VQC(\n",
    "            feature_map=self.generate_featuremap(),\n",
    "            ansatz=self.generate_ansatz(),\n",
    "            loss='cross_entropy',\n",
    "            optimizer=optimizer,\n",
    "            callback=self.callback_graph,\n",
    "        )\n",
    "        \n",
    "        # clear objective value history\n",
    "        objective_func_vals = []\n",
    "        \n",
    "        start = time.time()\n",
    "        vqc.fit(X, y_new)\n",
    "        elapsed = time.time() - start\n",
    "      \n",
    "        print(f\"Training time: {round(elapsed)} seconds\")\n",
    "        \n",
    "        # testing the QSVC scores\n",
    "        predictions = vqc.predict(X)\n",
    "\n",
    "        # Use list comprehension to create the new array\n",
    "        print(f\"The type of predictions is: {type(predictions)}\")\n",
    "        \n",
    "        predictions_labels_final = np.array([mapping[val] for val in predictions])\n",
    "        print(y.shape, predictions_labels_final.shape)\n",
    "        print(predictions_labels_final[:5])\n",
    "        accuracy_scores = accuracy_score(y, predictions_labels_final)\n",
    "        f1_scores = f1_score(y, predictions_labels_final, average='weighted')\n",
    "        results.setdefault('Model', []).append(model)\n",
    "        results.setdefault('No of features', []).append(self.no_of_features)\n",
    "        results.setdefault('No of samples', []).append(self.no_of_samples)\n",
    "        results.setdefault('No of classes', []).append(self.no_of_classes)\n",
    "        results.setdefault('No of labels', []).append(self.no_of_labels)\n",
    "        results.setdefault('No of feature map reps', []).append(self.featuremap_reps)\n",
    "        results.setdefault('No of ansatz reps', []).append(self.ansatz_reps)\n",
    "        results.setdefault('Accuracy', []).append(accuracy_scores)\n",
    "        results.setdefault('F1', []).append(f1_scores)\n",
    "        results.setdefault('Time taken', []).append(elapsed)"
   ]
  },
  {
   "cell_type": "code",
   "execution_count": null,
   "id": "dee9b8c9-88ae-4624-b37c-4c6765c2f26b",
   "metadata": {},
   "outputs": [],
   "source": [
    "results = {}\n",
    "no_of_features = [2,4,6,8,12,16]\n",
    "no_of_samples = [1024]\n",
    "no_of_classes = [3]\n",
    "no_of_labels = [3]\n",
    "no_of_feature_map_reps = [3]\n",
    "no_of_ansatz_reps = [3]"
   ]
  },
  {
   "cell_type": "code",
   "execution_count": null,
   "id": "78e22006-7dad-48f3-8095-b2a691615a45",
   "metadata": {},
   "outputs": [],
   "source": [
    "for feature in no_of_features:\n",
    "    for sample in no_of_samples:\n",
    "        for featuremap_reps in no_of_feature_map_reps:\n",
    "            for ansatz_reps in no_of_ansatz_reps:\n",
    "                for clas in no_of_classes:\n",
    "                    for lab in no_of_labels:\n",
    "                        if lab <= clas:\n",
    "                            \n",
    "                            training_object = quantumMultiLabelAlgoTrainingVQC(feature, sample, clas, lab, featuremap_reps, ansatz_reps)\n",
    "                            training_object.quantum_training()"
   ]
  },
  {
   "cell_type": "code",
   "execution_count": null,
   "id": "5725e6ba",
   "metadata": {},
   "outputs": [],
   "source": [
    "df = pd.DataFrame(results)"
   ]
  },
  {
   "cell_type": "markdown",
   "id": "2cfe7fc0-7117-40c8-a3e2-cea8bdca62ca",
   "metadata": {},
   "source": [
    "-----"
   ]
  }
 ],
 "metadata": {
  "kernelspec": {
   "display_name": "quantum-base",
   "language": "python",
   "name": "quantum-base"
  },
  "language_info": {
   "codemirror_mode": {
    "name": "ipython",
    "version": 3
   },
   "file_extension": ".py",
   "mimetype": "text/x-python",
   "name": "python",
   "nbconvert_exporter": "python",
   "pygments_lexer": "ipython3",
   "version": "3.9.17"
  }
 },
 "nbformat": 4,
 "nbformat_minor": 5
}

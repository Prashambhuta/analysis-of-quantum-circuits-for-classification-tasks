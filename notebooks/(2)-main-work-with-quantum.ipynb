{
 "cells": [
  {
   "cell_type": "markdown",
   "id": "249ca813-d44d-45b3-ae05-a5d933048ea2",
   "metadata": {},
   "source": [
    "# Quantum Classification\n",
    "\n",
    "The idea is to work with quantum classification tasks, for the thesis."
   ]
  },
  {
   "cell_type": "markdown",
   "id": "8a7cacb2-b778-48c4-802c-385f42226e90",
   "metadata": {},
   "source": [
    "## Imports"
   ]
  },
  {
   "cell_type": "code",
   "execution_count": 1,
   "id": "a62168ff-59c0-4192-9197-bf9c601edb6b",
   "metadata": {},
   "outputs": [
    {
     "name": "stdout",
     "output_type": "stream",
     "text": [
      "0.25.0\n"
     ]
    }
   ],
   "source": [
    "from qiskit.version import get_version_info\n",
    "print(get_version_info())"
   ]
  },
  {
   "cell_type": "code",
   "execution_count": 2,
   "id": "14978182-94fc-4972-a56d-74b991a04016",
   "metadata": {},
   "outputs": [],
   "source": [
    "import numpy as np\n",
    "import matplotlib.pyplot as plt\n",
    "from IPython.display import clear_output\n",
    "import time"
   ]
  },
  {
   "cell_type": "code",
   "execution_count": 3,
   "id": "4959a453-83cf-4256-a845-b1ce5f68ff1e",
   "metadata": {},
   "outputs": [],
   "source": [
    "# For EstimatorQNN\n",
    "from qiskit_machine_learning.algorithms.regressors import NeuralNetworkRegressor\n",
    "from qiskit.algorithms.optimizers import L_BFGS_B\n"
   ]
  },
  {
   "cell_type": "code",
   "execution_count": 4,
   "id": "975e9ac9-9091-4aad-9ed0-d7e35f6c4ee7",
   "metadata": {},
   "outputs": [],
   "source": [
    "# For Quantum Convolution Neural Network\n",
    "import json\n",
    "import matplotlib.pyplot as plt\n",
    "import numpy as np\n",
    "from IPython.display import clear_output\n",
    "from qiskit import QuantumCircuit\n",
    "from qiskit.algorithms.optimizers import COBYLA, L_BFGS_B\n",
    "from qiskit.circuit import ParameterVector\n",
    "from qiskit.circuit.library import ZFeatureMap, ZZFeatureMap\n",
    "from qiskit.quantum_info import SparsePauliOp\n",
    "from qiskit.utils import algorithm_globals\n",
    "from qiskit_machine_learning.algorithms.classifiers import NeuralNetworkClassifier, VQC\n",
    "from qiskit_machine_learning.algorithms.regressors import NeuralNetworkRegressor, VQR\n",
    "from qiskit_machine_learning.neural_networks import EstimatorQNN, SamplerQNN\n",
    "from sklearn.model_selection import train_test_split\n",
    "\n",
    "algorithm_globals.random_seed = 12345"
   ]
  },
  {
   "cell_type": "code",
   "execution_count": 5,
   "id": "2120269e-23e3-47f8-a1db-001ed0b93df6",
   "metadata": {},
   "outputs": [],
   "source": [
    "# For dataset.\n",
    "from sklearn.datasets import make_multilabel_classification"
   ]
  },
  {
   "cell_type": "code",
   "execution_count": 6,
   "id": "497e82a8-b88a-4c59-b4a9-845e84761630",
   "metadata": {},
   "outputs": [],
   "source": [
    "# for data split\n",
    "from sklearn.model_selection import train_test_split\n",
    "from qiskit_algorithms.utils import algorithm_globals\n",
    "algorithm_globals.random_seed = 123"
   ]
  },
  {
   "cell_type": "code",
   "execution_count": 7,
   "id": "a8d0f3bf-1845-42e3-ae45-1ed95d7b9c23",
   "metadata": {},
   "outputs": [],
   "source": [
    "# for classical computing\n",
    "from sklearn.svm import SVC"
   ]
  },
  {
   "cell_type": "code",
   "execution_count": 8,
   "id": "5f23b41e-4eb6-4ede-ae10-3c450d0d5782",
   "metadata": {},
   "outputs": [],
   "source": [
    "# For Sampling\n",
    "from qiskit.primitives import Sampler"
   ]
  },
  {
   "cell_type": "markdown",
   "id": "3c2e41c9-229b-41d0-950c-8a85549c5131",
   "metadata": {},
   "source": [
    "## Dataset"
   ]
  },
  {
   "cell_type": "code",
   "execution_count": 27,
   "id": "f6733da9-f414-4011-a34f-c8dcb3c4f69a",
   "metadata": {},
   "outputs": [],
   "source": [
    "# generate fake data\n",
    "from sklearn.datasets import make_classification\n",
    "from sklearn.preprocessing import MinMaxScaler\n",
    "\n",
    "X, y = make_classification(\n",
    "    n_samples=10000,\n",
    "    n_features=2,\n",
    "    n_classes=2,\n",
    "    n_redundant=0,\n",
    "    n_clusters_per_class=1,\n",
    "    class_sep=2.0,\n",
    "    random_state=algorithm_globals.random_seed,\n",
    ")"
   ]
  },
  {
   "cell_type": "code",
   "execution_count": 28,
   "id": "cdf44cee-bb03-4e08-9059-66ea3180cd0d",
   "metadata": {},
   "outputs": [
    {
     "data": {
      "text/plain": [
       "((10000, 2), (10000,))"
      ]
     },
     "execution_count": 28,
     "metadata": {},
     "output_type": "execute_result"
    }
   ],
   "source": [
    "X.shape, y.shape"
   ]
  },
  {
   "cell_type": "code",
   "execution_count": 29,
   "id": "62f4ef9c-cfd1-4556-b77b-ad61a2ea4a1b",
   "metadata": {},
   "outputs": [
    {
     "data": {
      "text/plain": [
       "array([2, 0, 0, 0, 1])"
      ]
     },
     "execution_count": 29,
     "metadata": {},
     "output_type": "execute_result"
    }
   ],
   "source": [
    "y[:5]"
   ]
  },
  {
   "cell_type": "code",
   "execution_count": 30,
   "id": "e46c0461-b214-40a0-8026-8645c7e2bc1b",
   "metadata": {},
   "outputs": [
    {
     "data": {
      "text/plain": [
       "9984"
      ]
     },
     "execution_count": 30,
     "metadata": {},
     "output_type": "execute_result"
    }
   ],
   "source": [
    "np.sum(y, axis=0)"
   ]
  },
  {
   "cell_type": "code",
   "execution_count": 31,
   "id": "2f0714b4-a5c3-4cf2-8668-297617e36b5e",
   "metadata": {},
   "outputs": [],
   "source": [
    "## Train test split\n",
    "train_features, test_features, train_labels, test_labels = train_test_split(\n",
    "    X, y, train_size=0.8, random_state=algorithm_globals.random_seed\n",
    ")"
   ]
  },
  {
   "cell_type": "markdown",
   "id": "33065eef-905f-4348-81f9-724a3c77ff3e",
   "metadata": {},
   "source": [
    "## Building Quantum ML"
   ]
  },
  {
   "cell_type": "code",
   "execution_count": 32,
   "id": "d0b40a52-7a1a-4e81-ac87-f7c8bfe58900",
   "metadata": {},
   "outputs": [],
   "source": [
    "num_features = X.shape[1]"
   ]
  },
  {
   "cell_type": "code",
   "execution_count": 33,
   "id": "9ab1e69b-106b-4e20-830c-717b07504ae8",
   "metadata": {},
   "outputs": [
    {
     "data": {
      "image/png": "[encoded data removed]",
      "text/plain": [
       "<Figure size 705.35x200.667 with 1 Axes>"
      ]
     },
     "execution_count": 33,
     "metadata": {},
     "output_type": "execute_result"
    }
   ],
   "source": [
    "feature_map = ZZFeatureMap(feature_dimension=num_features, reps=1)\n",
    "feature_map.decompose().draw(output=\"mpl\", fold=20)"
   ]
  },
  {
   "cell_type": "code",
   "execution_count": 34,
   "id": "b5885bfb-c993-47dd-9028-3d6a4f294870",
   "metadata": {},
   "outputs": [],
   "source": [
    "from qiskit.circuit.library import RealAmplitudes\n",
    "\n",
    "ansatz = RealAmplitudes(num_qubits=num_features, reps=3)\n",
    "# ansatz.decompose().draw(output=\"mpl\", fold=20)"
   ]
  },
  {
   "cell_type": "markdown",
   "id": "2b370ed7-3c7a-4064-8e88-ce9cf4f91737",
   "metadata": {},
   "source": [
    "There are 8 parameters, which are the trainable weights of the classifier."
   ]
  },
  {
   "cell_type": "code",
   "execution_count": 35,
   "id": "574034bc-ee78-4ec6-a96a-2ebb7e90659b",
   "metadata": {},
   "outputs": [],
   "source": [
    "# defining the optimiser\n",
    "optimizer = COBYLA(maxiter=100)"
   ]
  },
  {
   "cell_type": "markdown",
   "id": "2014983d-58b5-471f-b497-94d6d8ee70bf",
   "metadata": {},
   "source": [
    "Next we define to train our classifier. We use the instance of Sampler primitive."
   ]
  },
  {
   "cell_type": "code",
   "execution_count": 36,
   "id": "0e4f73f5-dec6-4d0c-a94d-bc1a841bf8c2",
   "metadata": {},
   "outputs": [],
   "source": [
    "sampler = Sampler()"
   ]
  },
  {
   "cell_type": "code",
   "execution_count": 37,
   "id": "09df072d-c541-4fec-9edb-9719efda730c",
   "metadata": {},
   "outputs": [],
   "source": [
    "objective_func_vals = []\n",
    "plt.rcParams[\"figure.figsize\"] = (12, 6)\n",
    "\n",
    "\n",
    "def callback_graph(weights, obj_func_eval):\n",
    "    clear_output(wait=True)\n",
    "    objective_func_vals.append(obj_func_eval)\n",
    "    plt.title(\"Objective function value against iteration\")\n",
    "    plt.xlabel(\"Iteration\")\n",
    "    plt.ylabel(\"Objective function value\")\n",
    "    plt.plot(range(len(objective_func_vals)), objective_func_vals)\n",
    "    plt.show()"
   ]
  },
  {
   "cell_type": "markdown",
   "id": "050d1e29-d4d3-4d52-8c72-d13d905d0914",
   "metadata": {},
   "source": [
    "VQC stands for variational quantum classifier. it takes the feature map and an ansatz and constructs a quantum neural network."
   ]
  },
  {
   "cell_type": "code",
   "execution_count": 38,
   "id": "472bddd7-f30b-40cf-bcf5-fd0e83da2d4d",
   "metadata": {},
   "outputs": [
    {
     "data": {
      "text/plain": [
       "(8000,)"
      ]
     },
     "execution_count": 38,
     "metadata": {},
     "output_type": "execute_result"
    }
   ],
   "source": [
    "train_labels.shape"
   ]
  },
  {
   "cell_type": "code",
   "execution_count": 39,
   "id": "e703f356-ca15-41fe-8028-8b1e81826040",
   "metadata": {},
   "outputs": [
    {
     "data": {
      "image/png": "[encoded data removed]",
      "text/plain": [
       "<Figure size 1200x600 with 1 Axes>"
      ]
     },
     "metadata": {},
     "output_type": "display_data"
    },
    {
     "name": "stdout",
     "output_type": "stream",
     "text": [
      "Training time: 751 seconds\n"
     ]
    }
   ],
   "source": [
    "vqc = VQC(\n",
    "    # sampler=sampler,\n",
    "    feature_map=feature_map,\n",
    "    ansatz=ansatz,\n",
    "    loss='cross_entropy',\n",
    "    optimizer=optimizer,\n",
    "    callback=callback_graph,\n",
    ")\n",
    "\n",
    "# clear objective value history\n",
    "objective_func_vals = []\n",
    "\n",
    "start = time.time()\n",
    "vqc.fit(train_features, train_labels)\n",
    "elapsed = time.time() - start\n",
    "\n",
    "print(f\"Training time: {round(elapsed)} seconds\")"
   ]
  },
  {
   "cell_type": "code",
   "execution_count": 24,
   "id": "258cb621-12d2-4705-9a7f-09836240db91",
   "metadata": {},
   "outputs": [
    {
     "name": "stdout",
     "output_type": "stream",
     "text": [
      "Quantum VQC on the training dataset: 0.34\n",
      "Quantum VQC on the test dataset:     0.33\n"
     ]
    }
   ],
   "source": [
    "# testing the QSVC scores\n",
    "train_score_q4 = vqc.score(train_features, train_labels)\n",
    "test_score_q4 = vqc.score(test_features, test_labels)\n",
    "\n",
    "print(f\"Quantum VQC on the training dataset: {train_score_q4:.2f}\")\n",
    "print(f\"Quantum VQC on the test dataset:     {test_score_q4:.2f}\")"
   ]
  },
  {
   "cell_type": "markdown",
   "id": "bab6b1f5-ea44-4761-957a-1f2ac920f0e1",
   "metadata": {},
   "source": [
    "To scores are decent, to get better models:\n",
    "1. The key components are feature map and the ansatz. The `reps` parameter that specifies how many repetitions of a gate pattern we add to the circuit. Larger values lead to more entanglement opearions and more parameters.\n",
    "2. Changing the optimizers. Gradient based optimizer eg. L_BFGS_B increases the training time. Gradient based optimizer have to evaluate the gradient alongwidth the objective function, which leads to an increase number of circuit execution per iteration.\n",
    "3. Another option is to sample initial_point and fit the model several times."
   ]
  },
  {
   "cell_type": "markdown",
   "id": "13ee6491-067b-4c30-a8d4-250baaa47f2b",
   "metadata": {},
   "source": [
    "## Building SVC first (Classical side)"
   ]
  },
  {
   "cell_type": "code",
   "execution_count": 25,
   "id": "ac1802a0-f940-4372-bac3-7c227de972c7",
   "metadata": {},
   "outputs": [],
   "source": [
    "svc = SVC()\n",
    "_ = svc.fit(train_features, train_labels)"
   ]
  },
  {
   "cell_type": "code",
   "execution_count": 26,
   "id": "126f38ac-872b-4ec6-a500-2eebeae0a0f3",
   "metadata": {},
   "outputs": [
    {
     "name": "stdout",
     "output_type": "stream",
     "text": [
      "Classical SVC on the training dataset: 0.99\n",
      "Classical SVC on the test dataset:     1.00\n"
     ]
    }
   ],
   "source": [
    "train_score_c4 = svc.score(train_features, train_labels)\n",
    "test_score_c4 = svc.score(test_features, test_labels)\n",
    "\n",
    "print(f\"Classical SVC on the training dataset: {train_score_c4:.2f}\")\n",
    "print(f\"Classical SVC on the test dataset:     {test_score_c4:.2f}\")"
   ]
  },
  {
   "cell_type": "code",
   "execution_count": null,
   "id": "714c4174-6d3b-45c3-99bf-b0ec5a1c8f44",
   "metadata": {},
   "outputs": [],
   "source": []
  }
 ],
 "metadata": {
  "kernelspec": {
   "display_name": "quantum-base",
   "language": "python",
   "name": "quantum-base"
  },
  "language_info": {
   "codemirror_mode": {
    "name": "ipython",
    "version": 3
   },
   "file_extension": ".py",
   "mimetype": "text/x-python",
   "name": "python",
   "nbconvert_exporter": "python",
   "pygments_lexer": "ipython3",
   "version": "3.9.17"
  }
 },
 "nbformat": 4,
 "nbformat_minor": 5
}

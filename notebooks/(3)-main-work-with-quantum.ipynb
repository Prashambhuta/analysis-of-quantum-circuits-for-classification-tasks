{
 "cells": [
  {
   "cell_type": "markdown",
   "id": "84c4799c-38f9-4749-ad93-cbc3af443d6f",
   "metadata": {},
   "source": [
    "# Classical ML"
   ]
  },
  {
   "cell_type": "markdown",
   "id": "0aee27b4-7eed-434a-a325-db32ac26445c",
   "metadata": {},
   "source": [
    "Here we run the algorithms to try with classical ML. Methods we use are:\n",
    "\n",
    "1. Tree (Forest) based -\n",
    "2. SVM based -\n",
    "3. Regression based -\n",
    "4. Gradient based - "
   ]
  },
  {
   "cell_type": "code",
   "execution_count": 1,
   "id": "c1341f37-b6a3-4325-ab12-b11f3f8f3da7",
   "metadata": {},
   "outputs": [],
   "source": [
    "# Imports\n",
    "import numpy as np\n",
    "import pandas as pd"
   ]
  },
  {
   "cell_type": "code",
   "execution_count": 2,
   "id": "33d4bfbe-932b-4bed-8c0b-c69cf0867a70",
   "metadata": {},
   "outputs": [],
   "source": [
    "# generate fake data\n",
    "from sklearn.datasets import make_classification\n",
    "from sklearn.preprocessing import MinMaxScaler"
   ]
  },
  {
   "cell_type": "code",
   "execution_count": 12,
   "id": "ca435d2b-7f6c-476e-9640-36765f633b8b",
   "metadata": {},
   "outputs": [],
   "source": [
    "# for data split\n",
    "from sklearn.model_selection import train_test_split\n",
    "from qiskit_algorithms.utils import algorithm_globals\n",
    "algorithm_globals.random_seed = 123\n",
    "from pycaret.classification import *"
   ]
  },
  {
   "cell_type": "code",
   "execution_count": 15,
   "id": "fa82aad5-2645-4a1b-87b6-1825ec694290",
   "metadata": {},
   "outputs": [],
   "source": [
    "X, y = make_classification(\n",
    "    n_samples=10000,\n",
    "    n_features=2,\n",
    "    n_classes=3,\n",
    "    n_redundant=0,\n",
    "    n_clusters_per_class=1,\n",
    "    class_sep=2.0,\n",
    "    random_state=algorithm_globals.random_seed,\n",
    ")"
   ]
  },
  {
   "cell_type": "code",
   "execution_count": 42,
   "id": "347e45f4-ae26-47a7-9ef5-3db21a9500db",
   "metadata": {},
   "outputs": [
    {
     "data": {
      "text/plain": [
       "9984"
      ]
     },
     "execution_count": 42,
     "metadata": {},
     "output_type": "execute_result"
    }
   ],
   "source": [
    "np.sum(y, axis=0)"
   ]
  },
  {
   "cell_type": "code",
   "execution_count": 27,
   "id": "9f28b88f-0a7f-4f36-bafd-1663c28e328c",
   "metadata": {},
   "outputs": [],
   "source": [
    "## Train test split\n",
    "train_features, test_features, train_labels, test_labels = train_test_split(\n",
    "    X, y, train_size=0.8, random_state=algorithm_globals.random_seed\n",
    ")"
   ]
  },
  {
   "cell_type": "code",
   "execution_count": 35,
   "id": "64b11762-56da-4195-b3e3-cfb9450298ce",
   "metadata": {},
   "outputs": [
    {
     "data": {
      "text/html": [
       "<style type=\"text/css\">\n",
       "#T_bd218_row8_col1 {\n",
       "  background-color: lightgreen;\n",
       "}\n",
       "</style>\n",
       "<table id=\"T_bd218\">\n",
       "  <thead>\n",
       "    <tr>\n",
       "      <th class=\"blank level0\" >&nbsp;</th>\n",
       "      <th id=\"T_bd218_level0_col0\" class=\"col_heading level0 col0\" >Description</th>\n",
       "      <th id=\"T_bd218_level0_col1\" class=\"col_heading level0 col1\" >Value</th>\n",
       "    </tr>\n",
       "  </thead>\n",
       "  <tbody>\n",
       "    <tr>\n",
       "      <th id=\"T_bd218_level0_row0\" class=\"row_heading level0 row0\" >0</th>\n",
       "      <td id=\"T_bd218_row0_col0\" class=\"data row0 col0\" >Session id</td>\n",
       "      <td id=\"T_bd218_row0_col1\" class=\"data row0 col1\" >8676</td>\n",
       "    </tr>\n",
       "    <tr>\n",
       "      <th id=\"T_bd218_level0_row1\" class=\"row_heading level0 row1\" >1</th>\n",
       "      <td id=\"T_bd218_row1_col0\" class=\"data row1 col0\" >Target</td>\n",
       "      <td id=\"T_bd218_row1_col1\" class=\"data row1 col1\" >target</td>\n",
       "    </tr>\n",
       "    <tr>\n",
       "      <th id=\"T_bd218_level0_row2\" class=\"row_heading level0 row2\" >2</th>\n",
       "      <td id=\"T_bd218_row2_col0\" class=\"data row2 col0\" >Target type</td>\n",
       "      <td id=\"T_bd218_row2_col1\" class=\"data row2 col1\" >Multiclass</td>\n",
       "    </tr>\n",
       "    <tr>\n",
       "      <th id=\"T_bd218_level0_row3\" class=\"row_heading level0 row3\" >3</th>\n",
       "      <td id=\"T_bd218_row3_col0\" class=\"data row3 col0\" >Original data shape</td>\n",
       "      <td id=\"T_bd218_row3_col1\" class=\"data row3 col1\" >(10000, 3)</td>\n",
       "    </tr>\n",
       "    <tr>\n",
       "      <th id=\"T_bd218_level0_row4\" class=\"row_heading level0 row4\" >4</th>\n",
       "      <td id=\"T_bd218_row4_col0\" class=\"data row4 col0\" >Transformed data shape</td>\n",
       "      <td id=\"T_bd218_row4_col1\" class=\"data row4 col1\" >(10000, 3)</td>\n",
       "    </tr>\n",
       "    <tr>\n",
       "      <th id=\"T_bd218_level0_row5\" class=\"row_heading level0 row5\" >5</th>\n",
       "      <td id=\"T_bd218_row5_col0\" class=\"data row5 col0\" >Transformed train set shape</td>\n",
       "      <td id=\"T_bd218_row5_col1\" class=\"data row5 col1\" >(8000, 3)</td>\n",
       "    </tr>\n",
       "    <tr>\n",
       "      <th id=\"T_bd218_level0_row6\" class=\"row_heading level0 row6\" >6</th>\n",
       "      <td id=\"T_bd218_row6_col0\" class=\"data row6 col0\" >Transformed test set shape</td>\n",
       "      <td id=\"T_bd218_row6_col1\" class=\"data row6 col1\" >(2000, 3)</td>\n",
       "    </tr>\n",
       "    <tr>\n",
       "      <th id=\"T_bd218_level0_row7\" class=\"row_heading level0 row7\" >7</th>\n",
       "      <td id=\"T_bd218_row7_col0\" class=\"data row7 col0\" >Numeric features</td>\n",
       "      <td id=\"T_bd218_row7_col1\" class=\"data row7 col1\" >2</td>\n",
       "    </tr>\n",
       "    <tr>\n",
       "      <th id=\"T_bd218_level0_row8\" class=\"row_heading level0 row8\" >8</th>\n",
       "      <td id=\"T_bd218_row8_col0\" class=\"data row8 col0\" >Preprocess</td>\n",
       "      <td id=\"T_bd218_row8_col1\" class=\"data row8 col1\" >True</td>\n",
       "    </tr>\n",
       "    <tr>\n",
       "      <th id=\"T_bd218_level0_row9\" class=\"row_heading level0 row9\" >9</th>\n",
       "      <td id=\"T_bd218_row9_col0\" class=\"data row9 col0\" >Imputation type</td>\n",
       "      <td id=\"T_bd218_row9_col1\" class=\"data row9 col1\" >simple</td>\n",
       "    </tr>\n",
       "    <tr>\n",
       "      <th id=\"T_bd218_level0_row10\" class=\"row_heading level0 row10\" >10</th>\n",
       "      <td id=\"T_bd218_row10_col0\" class=\"data row10 col0\" >Numeric imputation</td>\n",
       "      <td id=\"T_bd218_row10_col1\" class=\"data row10 col1\" >mean</td>\n",
       "    </tr>\n",
       "    <tr>\n",
       "      <th id=\"T_bd218_level0_row11\" class=\"row_heading level0 row11\" >11</th>\n",
       "      <td id=\"T_bd218_row11_col0\" class=\"data row11 col0\" >Categorical imputation</td>\n",
       "      <td id=\"T_bd218_row11_col1\" class=\"data row11 col1\" >mode</td>\n",
       "    </tr>\n",
       "    <tr>\n",
       "      <th id=\"T_bd218_level0_row12\" class=\"row_heading level0 row12\" >12</th>\n",
       "      <td id=\"T_bd218_row12_col0\" class=\"data row12 col0\" >Fold Generator</td>\n",
       "      <td id=\"T_bd218_row12_col1\" class=\"data row12 col1\" >StratifiedKFold</td>\n",
       "    </tr>\n",
       "    <tr>\n",
       "      <th id=\"T_bd218_level0_row13\" class=\"row_heading level0 row13\" >13</th>\n",
       "      <td id=\"T_bd218_row13_col0\" class=\"data row13 col0\" >Fold Number</td>\n",
       "      <td id=\"T_bd218_row13_col1\" class=\"data row13 col1\" >10</td>\n",
       "    </tr>\n",
       "    <tr>\n",
       "      <th id=\"T_bd218_level0_row14\" class=\"row_heading level0 row14\" >14</th>\n",
       "      <td id=\"T_bd218_row14_col0\" class=\"data row14 col0\" >CPU Jobs</td>\n",
       "      <td id=\"T_bd218_row14_col1\" class=\"data row14 col1\" >-1</td>\n",
       "    </tr>\n",
       "    <tr>\n",
       "      <th id=\"T_bd218_level0_row15\" class=\"row_heading level0 row15\" >15</th>\n",
       "      <td id=\"T_bd218_row15_col0\" class=\"data row15 col0\" >Use GPU</td>\n",
       "      <td id=\"T_bd218_row15_col1\" class=\"data row15 col1\" >False</td>\n",
       "    </tr>\n",
       "    <tr>\n",
       "      <th id=\"T_bd218_level0_row16\" class=\"row_heading level0 row16\" >16</th>\n",
       "      <td id=\"T_bd218_row16_col0\" class=\"data row16 col0\" >Log Experiment</td>\n",
       "      <td id=\"T_bd218_row16_col1\" class=\"data row16 col1\" >False</td>\n",
       "    </tr>\n",
       "    <tr>\n",
       "      <th id=\"T_bd218_level0_row17\" class=\"row_heading level0 row17\" >17</th>\n",
       "      <td id=\"T_bd218_row17_col0\" class=\"data row17 col0\" >Experiment Name</td>\n",
       "      <td id=\"T_bd218_row17_col1\" class=\"data row17 col1\" >clf-default-name</td>\n",
       "    </tr>\n",
       "    <tr>\n",
       "      <th id=\"T_bd218_level0_row18\" class=\"row_heading level0 row18\" >18</th>\n",
       "      <td id=\"T_bd218_row18_col0\" class=\"data row18 col0\" >USI</td>\n",
       "      <td id=\"T_bd218_row18_col1\" class=\"data row18 col1\" >7e3d</td>\n",
       "    </tr>\n",
       "  </tbody>\n",
       "</table>\n"
      ],
      "text/plain": [
       "<pandas.io.formats.style.Styler at 0x2a1bea950>"
      ]
     },
     "metadata": {},
     "output_type": "display_data"
    }
   ],
   "source": [
    "\n",
    "exp_name = setup(data = X,  target = y, train_size=0.8)"
   ]
  },
  {
   "cell_type": "code",
   "execution_count": 36,
   "id": "ee9de02c-989f-4a19-8e65-e6af5a51e841",
   "metadata": {},
   "outputs": [],
   "source": [
    "include_models = ['knn', 'qda', 'rf', 'lightgbm', 'svm']"
   ]
  },
  {
   "cell_type": "code",
   "execution_count": 37,
   "id": "944f0114-1822-4aee-8b74-9e26b92b3cc2",
   "metadata": {},
   "outputs": [
    {
     "data": {
      "text/html": [],
      "text/plain": [
       "<IPython.core.display.HTML object>"
      ]
     },
     "metadata": {},
     "output_type": "display_data"
    },
    {
     "data": {
      "text/html": [
       "<style type=\"text/css\">\n",
       "#T_9724f th {\n",
       "  text-align: left;\n",
       "}\n",
       "#T_9724f_row0_col0, #T_9724f_row1_col0, #T_9724f_row1_col1, #T_9724f_row1_col3, #T_9724f_row1_col4, #T_9724f_row1_col5, #T_9724f_row1_col6, #T_9724f_row1_col7, #T_9724f_row2_col0, #T_9724f_row2_col1, #T_9724f_row2_col2, #T_9724f_row2_col3, #T_9724f_row2_col4, #T_9724f_row2_col5, #T_9724f_row2_col6, #T_9724f_row2_col7, #T_9724f_row3_col0, #T_9724f_row3_col1, #T_9724f_row3_col3, #T_9724f_row3_col4, #T_9724f_row3_col5, #T_9724f_row3_col6, #T_9724f_row3_col7, #T_9724f_row4_col0, #T_9724f_row4_col1, #T_9724f_row4_col2, #T_9724f_row4_col3, #T_9724f_row4_col4, #T_9724f_row4_col5, #T_9724f_row4_col6, #T_9724f_row4_col7 {\n",
       "  text-align: left;\n",
       "}\n",
       "#T_9724f_row0_col1, #T_9724f_row0_col2, #T_9724f_row0_col3, #T_9724f_row0_col4, #T_9724f_row0_col5, #T_9724f_row0_col6, #T_9724f_row0_col7, #T_9724f_row1_col2, #T_9724f_row3_col2 {\n",
       "  text-align: left;\n",
       "  background-color: yellow;\n",
       "}\n",
       "#T_9724f_row0_col8, #T_9724f_row2_col8, #T_9724f_row3_col8, #T_9724f_row4_col8 {\n",
       "  text-align: left;\n",
       "  background-color: lightgrey;\n",
       "}\n",
       "#T_9724f_row1_col8 {\n",
       "  text-align: left;\n",
       "  background-color: yellow;\n",
       "  background-color: lightgrey;\n",
       "}\n",
       "</style>\n",
       "<table id=\"T_9724f\">\n",
       "  <thead>\n",
       "    <tr>\n",
       "      <th class=\"blank level0\" >&nbsp;</th>\n",
       "      <th id=\"T_9724f_level0_col0\" class=\"col_heading level0 col0\" >Model</th>\n",
       "      <th id=\"T_9724f_level0_col1\" class=\"col_heading level0 col1\" >Accuracy</th>\n",
       "      <th id=\"T_9724f_level0_col2\" class=\"col_heading level0 col2\" >AUC</th>\n",
       "      <th id=\"T_9724f_level0_col3\" class=\"col_heading level0 col3\" >Recall</th>\n",
       "      <th id=\"T_9724f_level0_col4\" class=\"col_heading level0 col4\" >Prec.</th>\n",
       "      <th id=\"T_9724f_level0_col5\" class=\"col_heading level0 col5\" >F1</th>\n",
       "      <th id=\"T_9724f_level0_col6\" class=\"col_heading level0 col6\" >Kappa</th>\n",
       "      <th id=\"T_9724f_level0_col7\" class=\"col_heading level0 col7\" >MCC</th>\n",
       "      <th id=\"T_9724f_level0_col8\" class=\"col_heading level0 col8\" >TT (Sec)</th>\n",
       "    </tr>\n",
       "  </thead>\n",
       "  <tbody>\n",
       "    <tr>\n",
       "      <th id=\"T_9724f_level0_row0\" class=\"row_heading level0 row0\" >knn</th>\n",
       "      <td id=\"T_9724f_row0_col0\" class=\"data row0 col0\" >K Neighbors Classifier</td>\n",
       "      <td id=\"T_9724f_row0_col1\" class=\"data row0 col1\" >0.9938</td>\n",
       "      <td id=\"T_9724f_row0_col2\" class=\"data row0 col2\" >0.9952</td>\n",
       "      <td id=\"T_9724f_row0_col3\" class=\"data row0 col3\" >0.9938</td>\n",
       "      <td id=\"T_9724f_row0_col4\" class=\"data row0 col4\" >0.9938</td>\n",
       "      <td id=\"T_9724f_row0_col5\" class=\"data row0 col5\" >0.9937</td>\n",
       "      <td id=\"T_9724f_row0_col6\" class=\"data row0 col6\" >0.9906</td>\n",
       "      <td id=\"T_9724f_row0_col7\" class=\"data row0 col7\" >0.9906</td>\n",
       "      <td id=\"T_9724f_row0_col8\" class=\"data row0 col8\" >0.1200</td>\n",
       "    </tr>\n",
       "    <tr>\n",
       "      <th id=\"T_9724f_level0_row1\" class=\"row_heading level0 row1\" >qda</th>\n",
       "      <td id=\"T_9724f_row1_col0\" class=\"data row1 col0\" >Quadratic Discriminant Analysis</td>\n",
       "      <td id=\"T_9724f_row1_col1\" class=\"data row1 col1\" >0.9932</td>\n",
       "      <td id=\"T_9724f_row1_col2\" class=\"data row1 col2\" >0.9952</td>\n",
       "      <td id=\"T_9724f_row1_col3\" class=\"data row1 col3\" >0.9932</td>\n",
       "      <td id=\"T_9724f_row1_col4\" class=\"data row1 col4\" >0.9933</td>\n",
       "      <td id=\"T_9724f_row1_col5\" class=\"data row1 col5\" >0.9932</td>\n",
       "      <td id=\"T_9724f_row1_col6\" class=\"data row1 col6\" >0.9899</td>\n",
       "      <td id=\"T_9724f_row1_col7\" class=\"data row1 col7\" >0.9899</td>\n",
       "      <td id=\"T_9724f_row1_col8\" class=\"data row1 col8\" >0.0040</td>\n",
       "    </tr>\n",
       "    <tr>\n",
       "      <th id=\"T_9724f_level0_row2\" class=\"row_heading level0 row2\" >rf</th>\n",
       "      <td id=\"T_9724f_row2_col0\" class=\"data row2 col0\" >Random Forest Classifier</td>\n",
       "      <td id=\"T_9724f_row2_col1\" class=\"data row2 col1\" >0.9930</td>\n",
       "      <td id=\"T_9724f_row2_col2\" class=\"data row2 col2\" >0.9950</td>\n",
       "      <td id=\"T_9724f_row2_col3\" class=\"data row2 col3\" >0.9930</td>\n",
       "      <td id=\"T_9724f_row2_col4\" class=\"data row2 col4\" >0.9930</td>\n",
       "      <td id=\"T_9724f_row2_col5\" class=\"data row2 col5\" >0.9930</td>\n",
       "      <td id=\"T_9724f_row2_col6\" class=\"data row2 col6\" >0.9895</td>\n",
       "      <td id=\"T_9724f_row2_col7\" class=\"data row2 col7\" >0.9895</td>\n",
       "      <td id=\"T_9724f_row2_col8\" class=\"data row2 col8\" >0.1220</td>\n",
       "    </tr>\n",
       "    <tr>\n",
       "      <th id=\"T_9724f_level0_row3\" class=\"row_heading level0 row3\" >lightgbm</th>\n",
       "      <td id=\"T_9724f_row3_col0\" class=\"data row3 col0\" >Light Gradient Boosting Machine</td>\n",
       "      <td id=\"T_9724f_row3_col1\" class=\"data row3 col1\" >0.9909</td>\n",
       "      <td id=\"T_9724f_row3_col2\" class=\"data row3 col2\" >0.9952</td>\n",
       "      <td id=\"T_9724f_row3_col3\" class=\"data row3 col3\" >0.9909</td>\n",
       "      <td id=\"T_9724f_row3_col4\" class=\"data row3 col4\" >0.9909</td>\n",
       "      <td id=\"T_9724f_row3_col5\" class=\"data row3 col5\" >0.9909</td>\n",
       "      <td id=\"T_9724f_row3_col6\" class=\"data row3 col6\" >0.9863</td>\n",
       "      <td id=\"T_9724f_row3_col7\" class=\"data row3 col7\" >0.9863</td>\n",
       "      <td id=\"T_9724f_row3_col8\" class=\"data row3 col8\" >1.0610</td>\n",
       "    </tr>\n",
       "    <tr>\n",
       "      <th id=\"T_9724f_level0_row4\" class=\"row_heading level0 row4\" >svm</th>\n",
       "      <td id=\"T_9724f_row4_col0\" class=\"data row4 col0\" >SVM - Linear Kernel</td>\n",
       "      <td id=\"T_9724f_row4_col1\" class=\"data row4 col1\" >0.9725</td>\n",
       "      <td id=\"T_9724f_row4_col2\" class=\"data row4 col2\" >0.0000</td>\n",
       "      <td id=\"T_9724f_row4_col3\" class=\"data row4 col3\" >0.9725</td>\n",
       "      <td id=\"T_9724f_row4_col4\" class=\"data row4 col4\" >0.9728</td>\n",
       "      <td id=\"T_9724f_row4_col5\" class=\"data row4 col5\" >0.9725</td>\n",
       "      <td id=\"T_9724f_row4_col6\" class=\"data row4 col6\" >0.9587</td>\n",
       "      <td id=\"T_9724f_row4_col7\" class=\"data row4 col7\" >0.9589</td>\n",
       "      <td id=\"T_9724f_row4_col8\" class=\"data row4 col8\" >0.0070</td>\n",
       "    </tr>\n",
       "  </tbody>\n",
       "</table>\n"
      ],
      "text/plain": [
       "<pandas.io.formats.style.Styler at 0x2a1c02d70>"
      ]
     },
     "metadata": {},
     "output_type": "display_data"
    },
    {
     "data": {
      "text/html": [],
      "text/plain": [
       "<IPython.core.display.HTML object>"
      ]
     },
     "metadata": {},
     "output_type": "display_data"
    },
    {
     "name": "stdout",
     "output_type": "stream",
     "text": [
      "KNeighborsClassifier(algorithm='auto', leaf_size=30, metric='minkowski',\n",
      "                     metric_params=None, n_jobs=-1, n_neighbors=5, p=2,\n",
      "                     weights='uniform')\n"
     ]
    }
   ],
   "source": [
    "best_model = compare_models(include=include_models, sort='f1')\n",
    "print(best_model)"
   ]
  },
  {
   "cell_type": "code",
   "execution_count": 75,
   "id": "7c8b8193-0b44-4af7-b816-c39ff235dec1",
   "metadata": {},
   "outputs": [],
   "source": [
    "knn_model = create_model('knn', verbose=False)\n",
    "\n",
    "# np.savetxt('results/dump.csv', knn_results, delimiter=',')\n"
   ]
  },
  {
   "cell_type": "code",
   "execution_count": 83,
   "id": "b57e6905-161a-4d0f-aa0b-87d9915f97da",
   "metadata": {},
   "outputs": [],
   "source": [
    "knn_model"
   ]
  },
  {
   "cell_type": "code",
   "execution_count": 76,
   "id": "c695eaf4-f29b-4b1b-8600-3c185d20e38a",
   "metadata": {},
   "outputs": [
    {
     "data": {
      "text/html": [
       "<style type=\"text/css\">\n",
       "</style>\n",
       "<table id=\"T_874d8\">\n",
       "  <thead>\n",
       "    <tr>\n",
       "      <th class=\"blank level0\" >&nbsp;</th>\n",
       "      <th id=\"T_874d8_level0_col0\" class=\"col_heading level0 col0\" >Model</th>\n",
       "      <th id=\"T_874d8_level0_col1\" class=\"col_heading level0 col1\" >Accuracy</th>\n",
       "      <th id=\"T_874d8_level0_col2\" class=\"col_heading level0 col2\" >AUC</th>\n",
       "      <th id=\"T_874d8_level0_col3\" class=\"col_heading level0 col3\" >Recall</th>\n",
       "      <th id=\"T_874d8_level0_col4\" class=\"col_heading level0 col4\" >Prec.</th>\n",
       "      <th id=\"T_874d8_level0_col5\" class=\"col_heading level0 col5\" >F1</th>\n",
       "      <th id=\"T_874d8_level0_col6\" class=\"col_heading level0 col6\" >Kappa</th>\n",
       "      <th id=\"T_874d8_level0_col7\" class=\"col_heading level0 col7\" >MCC</th>\n",
       "    </tr>\n",
       "  </thead>\n",
       "  <tbody>\n",
       "    <tr>\n",
       "      <th id=\"T_874d8_level0_row0\" class=\"row_heading level0 row0\" >0</th>\n",
       "      <td id=\"T_874d8_row0_col0\" class=\"data row0 col0\" >K Neighbors Classifier</td>\n",
       "      <td id=\"T_874d8_row0_col1\" class=\"data row0 col1\" >0.9950</td>\n",
       "      <td id=\"T_874d8_row0_col2\" class=\"data row0 col2\" >0.9965</td>\n",
       "      <td id=\"T_874d8_row0_col3\" class=\"data row0 col3\" >0.9950</td>\n",
       "      <td id=\"T_874d8_row0_col4\" class=\"data row0 col4\" >0.9950</td>\n",
       "      <td id=\"T_874d8_row0_col5\" class=\"data row0 col5\" >0.9950</td>\n",
       "      <td id=\"T_874d8_row0_col6\" class=\"data row0 col6\" >0.9925</td>\n",
       "      <td id=\"T_874d8_row0_col7\" class=\"data row0 col7\" >0.9925</td>\n",
       "    </tr>\n",
       "  </tbody>\n",
       "</table>\n"
      ],
      "text/plain": [
       "<pandas.io.formats.style.Styler at 0x2abe59cf0>"
      ]
     },
     "metadata": {},
     "output_type": "display_data"
    }
   ],
   "source": [
    "knn_results = predict_model(knn_model)"
   ]
  },
  {
   "cell_type": "code",
   "execution_count": 81,
   "id": "624c62e5-554f-4006-a146-ab8a763453f7",
   "metadata": {},
   "outputs": [],
   "source": [
    "pull(knn_model).to_csv('results/dump.csv', index=False)"
   ]
  },
  {
   "cell_type": "code",
   "execution_count": 46,
   "id": "865e6de8-c672-4420-b5b4-9714bda6fae7",
   "metadata": {},
   "outputs": [
    {
     "data": {
      "text/html": [
       "<style type=\"text/css\">\n",
       "</style>\n",
       "<table id=\"T_6b07e\">\n",
       "  <thead>\n",
       "    <tr>\n",
       "      <th class=\"blank level0\" >&nbsp;</th>\n",
       "      <th id=\"T_6b07e_level0_col0\" class=\"col_heading level0 col0\" >Model</th>\n",
       "      <th id=\"T_6b07e_level0_col1\" class=\"col_heading level0 col1\" >Accuracy</th>\n",
       "      <th id=\"T_6b07e_level0_col2\" class=\"col_heading level0 col2\" >AUC</th>\n",
       "      <th id=\"T_6b07e_level0_col3\" class=\"col_heading level0 col3\" >Recall</th>\n",
       "      <th id=\"T_6b07e_level0_col4\" class=\"col_heading level0 col4\" >Prec.</th>\n",
       "      <th id=\"T_6b07e_level0_col5\" class=\"col_heading level0 col5\" >F1</th>\n",
       "      <th id=\"T_6b07e_level0_col6\" class=\"col_heading level0 col6\" >Kappa</th>\n",
       "      <th id=\"T_6b07e_level0_col7\" class=\"col_heading level0 col7\" >MCC</th>\n",
       "    </tr>\n",
       "  </thead>\n",
       "  <tbody>\n",
       "    <tr>\n",
       "      <th id=\"T_6b07e_level0_row0\" class=\"row_heading level0 row0\" >0</th>\n",
       "      <td id=\"T_6b07e_row0_col0\" class=\"data row0 col0\" >Quadratic Discriminant Analysis</td>\n",
       "      <td id=\"T_6b07e_row0_col1\" class=\"data row0 col1\" >0.9935</td>\n",
       "      <td id=\"T_6b07e_row0_col2\" class=\"data row0 col2\" >0.9965</td>\n",
       "      <td id=\"T_6b07e_row0_col3\" class=\"data row0 col3\" >0.9935</td>\n",
       "      <td id=\"T_6b07e_row0_col4\" class=\"data row0 col4\" >0.9935</td>\n",
       "      <td id=\"T_6b07e_row0_col5\" class=\"data row0 col5\" >0.9935</td>\n",
       "      <td id=\"T_6b07e_row0_col6\" class=\"data row0 col6\" >0.9902</td>\n",
       "      <td id=\"T_6b07e_row0_col7\" class=\"data row0 col7\" >0.9903</td>\n",
       "    </tr>\n",
       "  </tbody>\n",
       "</table>\n"
      ],
      "text/plain": [
       "<pandas.io.formats.style.Styler at 0x29fcd5db0>"
      ]
     },
     "metadata": {},
     "output_type": "display_data"
    }
   ],
   "source": [
    "qda_model = create_model('qda', verbose=False)\n",
    "qda_results = predict_model(qda_model)"
   ]
  },
  {
   "cell_type": "code",
   "execution_count": 47,
   "id": "e3f30f2b-39e2-4ef3-b9a9-794d0014c470",
   "metadata": {},
   "outputs": [
    {
     "data": {
      "text/html": [
       "<style type=\"text/css\">\n",
       "</style>\n",
       "<table id=\"T_c371e\">\n",
       "  <thead>\n",
       "    <tr>\n",
       "      <th class=\"blank level0\" >&nbsp;</th>\n",
       "      <th id=\"T_c371e_level0_col0\" class=\"col_heading level0 col0\" >Model</th>\n",
       "      <th id=\"T_c371e_level0_col1\" class=\"col_heading level0 col1\" >Accuracy</th>\n",
       "      <th id=\"T_c371e_level0_col2\" class=\"col_heading level0 col2\" >AUC</th>\n",
       "      <th id=\"T_c371e_level0_col3\" class=\"col_heading level0 col3\" >Recall</th>\n",
       "      <th id=\"T_c371e_level0_col4\" class=\"col_heading level0 col4\" >Prec.</th>\n",
       "      <th id=\"T_c371e_level0_col5\" class=\"col_heading level0 col5\" >F1</th>\n",
       "      <th id=\"T_c371e_level0_col6\" class=\"col_heading level0 col6\" >Kappa</th>\n",
       "      <th id=\"T_c371e_level0_col7\" class=\"col_heading level0 col7\" >MCC</th>\n",
       "    </tr>\n",
       "  </thead>\n",
       "  <tbody>\n",
       "    <tr>\n",
       "      <th id=\"T_c371e_level0_row0\" class=\"row_heading level0 row0\" >0</th>\n",
       "      <td id=\"T_c371e_row0_col0\" class=\"data row0 col0\" >Random Forest Classifier</td>\n",
       "      <td id=\"T_c371e_row0_col1\" class=\"data row0 col1\" >0.9945</td>\n",
       "      <td id=\"T_c371e_row0_col2\" class=\"data row0 col2\" >0.9967</td>\n",
       "      <td id=\"T_c371e_row0_col3\" class=\"data row0 col3\" >0.9945</td>\n",
       "      <td id=\"T_c371e_row0_col4\" class=\"data row0 col4\" >0.9945</td>\n",
       "      <td id=\"T_c371e_row0_col5\" class=\"data row0 col5\" >0.9945</td>\n",
       "      <td id=\"T_c371e_row0_col6\" class=\"data row0 col6\" >0.9917</td>\n",
       "      <td id=\"T_c371e_row0_col7\" class=\"data row0 col7\" >0.9918</td>\n",
       "    </tr>\n",
       "  </tbody>\n",
       "</table>\n"
      ],
      "text/plain": [
       "<pandas.io.formats.style.Styler at 0x29ffd89a0>"
      ]
     },
     "metadata": {},
     "output_type": "display_data"
    }
   ],
   "source": [
    "rf_model = create_model('rf', verbose=False)\n",
    "rf_results = predict_model(rf_model)"
   ]
  },
  {
   "cell_type": "code",
   "execution_count": 48,
   "id": "584f89c8-0df9-44ad-921e-acb7b469d49a",
   "metadata": {},
   "outputs": [
    {
     "data": {
      "text/html": [
       "<style type=\"text/css\">\n",
       "</style>\n",
       "<table id=\"T_5f85b\">\n",
       "  <thead>\n",
       "    <tr>\n",
       "      <th class=\"blank level0\" >&nbsp;</th>\n",
       "      <th id=\"T_5f85b_level0_col0\" class=\"col_heading level0 col0\" >Model</th>\n",
       "      <th id=\"T_5f85b_level0_col1\" class=\"col_heading level0 col1\" >Accuracy</th>\n",
       "      <th id=\"T_5f85b_level0_col2\" class=\"col_heading level0 col2\" >AUC</th>\n",
       "      <th id=\"T_5f85b_level0_col3\" class=\"col_heading level0 col3\" >Recall</th>\n",
       "      <th id=\"T_5f85b_level0_col4\" class=\"col_heading level0 col4\" >Prec.</th>\n",
       "      <th id=\"T_5f85b_level0_col5\" class=\"col_heading level0 col5\" >F1</th>\n",
       "      <th id=\"T_5f85b_level0_col6\" class=\"col_heading level0 col6\" >Kappa</th>\n",
       "      <th id=\"T_5f85b_level0_col7\" class=\"col_heading level0 col7\" >MCC</th>\n",
       "    </tr>\n",
       "  </thead>\n",
       "  <tbody>\n",
       "    <tr>\n",
       "      <th id=\"T_5f85b_level0_row0\" class=\"row_heading level0 row0\" >0</th>\n",
       "      <td id=\"T_5f85b_row0_col0\" class=\"data row0 col0\" >Light Gradient Boosting Machine</td>\n",
       "      <td id=\"T_5f85b_row0_col1\" class=\"data row0 col1\" >0.9925</td>\n",
       "      <td id=\"T_5f85b_row0_col2\" class=\"data row0 col2\" >0.9972</td>\n",
       "      <td id=\"T_5f85b_row0_col3\" class=\"data row0 col3\" >0.9925</td>\n",
       "      <td id=\"T_5f85b_row0_col4\" class=\"data row0 col4\" >0.9925</td>\n",
       "      <td id=\"T_5f85b_row0_col5\" class=\"data row0 col5\" >0.9925</td>\n",
       "      <td id=\"T_5f85b_row0_col6\" class=\"data row0 col6\" >0.9887</td>\n",
       "      <td id=\"T_5f85b_row0_col7\" class=\"data row0 col7\" >0.9888</td>\n",
       "    </tr>\n",
       "  </tbody>\n",
       "</table>\n"
      ],
      "text/plain": [
       "<pandas.io.formats.style.Styler at 0x29fcd5f30>"
      ]
     },
     "metadata": {},
     "output_type": "display_data"
    }
   ],
   "source": [
    "lightgbm_model = create_model('lightgbm', verbose=False)\n",
    "lightgbm_results = predict_model(lightgbm_model)"
   ]
  },
  {
   "cell_type": "code",
   "execution_count": 49,
   "id": "99aed1dd-33c6-49ef-ae47-cbd213f289d2",
   "metadata": {},
   "outputs": [
    {
     "data": {
      "text/html": [
       "<style type=\"text/css\">\n",
       "</style>\n",
       "<table id=\"T_3e37b\">\n",
       "  <thead>\n",
       "    <tr>\n",
       "      <th class=\"blank level0\" >&nbsp;</th>\n",
       "      <th id=\"T_3e37b_level0_col0\" class=\"col_heading level0 col0\" >Model</th>\n",
       "      <th id=\"T_3e37b_level0_col1\" class=\"col_heading level0 col1\" >Accuracy</th>\n",
       "      <th id=\"T_3e37b_level0_col2\" class=\"col_heading level0 col2\" >AUC</th>\n",
       "      <th id=\"T_3e37b_level0_col3\" class=\"col_heading level0 col3\" >Recall</th>\n",
       "      <th id=\"T_3e37b_level0_col4\" class=\"col_heading level0 col4\" >Prec.</th>\n",
       "      <th id=\"T_3e37b_level0_col5\" class=\"col_heading level0 col5\" >F1</th>\n",
       "      <th id=\"T_3e37b_level0_col6\" class=\"col_heading level0 col6\" >Kappa</th>\n",
       "      <th id=\"T_3e37b_level0_col7\" class=\"col_heading level0 col7\" >MCC</th>\n",
       "    </tr>\n",
       "  </thead>\n",
       "  <tbody>\n",
       "    <tr>\n",
       "      <th id=\"T_3e37b_level0_row0\" class=\"row_heading level0 row0\" >0</th>\n",
       "      <td id=\"T_3e37b_row0_col0\" class=\"data row0 col0\" >SVM - Linear Kernel</td>\n",
       "      <td id=\"T_3e37b_row0_col1\" class=\"data row0 col1\" >0.9775</td>\n",
       "      <td id=\"T_3e37b_row0_col2\" class=\"data row0 col2\" >0</td>\n",
       "      <td id=\"T_3e37b_row0_col3\" class=\"data row0 col3\" >0.9775</td>\n",
       "      <td id=\"T_3e37b_row0_col4\" class=\"data row0 col4\" >0.9775</td>\n",
       "      <td id=\"T_3e37b_row0_col5\" class=\"data row0 col5\" >0.9775</td>\n",
       "      <td id=\"T_3e37b_row0_col6\" class=\"data row0 col6\" >0.9662</td>\n",
       "      <td id=\"T_3e37b_row0_col7\" class=\"data row0 col7\" >0.9663</td>\n",
       "    </tr>\n",
       "  </tbody>\n",
       "</table>\n"
      ],
      "text/plain": [
       "<pandas.io.formats.style.Styler at 0x2997dfc70>"
      ]
     },
     "metadata": {},
     "output_type": "display_data"
    }
   ],
   "source": [
    "svm_model = create_model('svm', verbose=False)\n",
    "svm_results = predict_model(svm_model)"
   ]
  }
 ],
 "metadata": {
  "kernelspec": {
   "display_name": "classical-ml-base",
   "language": "python",
   "name": "classical-ml-base"
  },
  "language_info": {
   "codemirror_mode": {
    "name": "ipython",
    "version": 3
   },
   "file_extension": ".py",
   "mimetype": "text/x-python",
   "name": "python",
   "nbconvert_exporter": "python",
   "pygments_lexer": "ipython3",
   "version": "3.10.12"
  }
 },
 "nbformat": 4,
 "nbformat_minor": 5
}

{
 "cells": [
  {
   "cell_type": "markdown",
   "id": "1fe9b536-ccac-4b36-a622-2a3d678bfb8c",
   "metadata": {},
   "source": [
    "# Experiments with Quantum QCNN"
   ]
  },
  {
   "cell_type": "markdown",
   "id": "32b3df7d-70e9-4501-8b5a-3c569e5566a6",
   "metadata": {},
   "source": [
    "Construct and run a Quantum Convolutional Neural Network. The QCNN is constructed on the basis of number of features. SO if the number of features is x, we need x number of qbits in the circuit."
   ]
  },
  {
   "cell_type": "code",
   "execution_count": 1,
   "id": "ccca5307-da96-43cc-a322-0cf6514fee5f",
   "metadata": {},
   "outputs": [
    {
     "name": "stderr",
     "output_type": "stream",
     "text": [
      "/var/folders/4z/946_ygn50p3bc_rsjbq9cg240000gn/T/ipykernel_11598/2487926378.py:6: DeprecationWarning: ``qiskit.algorithms`` has been migrated to an independent package: https://github.com/qiskit-community/qiskit-algorithms. The ``qiskit.algorithms`` import path is deprecated as of qiskit-terra 0.25.0 and will be removed no earlier than 3 months after the release date. Please run ``pip install qiskit_algorithms`` and use ``import qiskit_algorithms`` instead.\n",
      "  from qiskit.algorithms.optimizers import COBYLA, L_BFGS_B\n"
     ]
    }
   ],
   "source": [
    "import json\n",
    "import matplotlib.pyplot as plt\n",
    "import numpy as np\n",
    "from IPython.display import clear_output\n",
    "from qiskit import QuantumCircuit\n",
    "from qiskit.algorithms.optimizers import COBYLA, L_BFGS_B\n",
    "from qiskit.circuit import ParameterVector\n",
    "from qiskit.circuit.library import ZFeatureMap\n",
    "from qiskit.quantum_info import SparsePauliOp\n",
    "from qiskit.utils import algorithm_globals\n",
    "from qiskit_machine_learning.algorithms.classifiers import NeuralNetworkClassifier\n",
    "from qiskit_machine_learning.algorithms.regressors import NeuralNetworkRegressor, VQR\n",
    "from qiskit_machine_learning.neural_networks import EstimatorQNN\n",
    "from sklearn.model_selection import train_test_split\n",
    "from qiskit_machine_learning.algorithms import QSVC\n",
    "\n",
    "algorithm_globals.random_seed = 12345"
   ]
  },
  {
   "cell_type": "code",
   "execution_count": 2,
   "id": "ded6162b-1035-4614-b0b9-ba419a044a0b",
   "metadata": {},
   "outputs": [],
   "source": [
    "# For dataset.\n",
    "from sklearn.datasets import make_multilabel_classification, make_classification\n",
    "from qiskit_algorithms.utils import algorithm_globals\n",
    "from qiskit.algorithms.optimizers import COBYLA, L_BFGS_B\n",
    "from qiskit_machine_learning.algorithms.classifiers import NeuralNetworkClassifier, VQC"
   ]
  },
  {
   "cell_type": "code",
   "execution_count": 3,
   "id": "5172fd11-ca07-4f89-9cd6-f0b8d3843ef6",
   "metadata": {},
   "outputs": [],
   "source": [
    "import numpy as np\n",
    "import matplotlib.pyplot as plt\n",
    "from IPython.display import clear_output\n",
    "import time\n",
    "import pandas as pd"
   ]
  },
  {
   "cell_type": "code",
   "execution_count": 4,
   "id": "18f5506a-9ede-4d77-b362-5349a00d574e",
   "metadata": {},
   "outputs": [],
   "source": [
    "# for data split\n",
    "from sklearn.model_selection import train_test_split\n",
    "from sklearn.metrics import accuracy_score, f1_score"
   ]
  },
  {
   "cell_type": "code",
   "execution_count": 5,
   "id": "8b4a465e-b124-4343-b207-86e514d78649",
   "metadata": {},
   "outputs": [],
   "source": [
    "from qiskit.circuit.library import ZFeatureMap, ZZFeatureMap"
   ]
  },
  {
   "cell_type": "code",
   "execution_count": 6,
   "id": "acc372e5-10bc-41aa-9cf6-7259b6c579c0",
   "metadata": {},
   "outputs": [],
   "source": [
    "from qiskit.circuit.library import RealAmplitudes"
   ]
  },
  {
   "cell_type": "code",
   "execution_count": 7,
   "id": "7bf70930-aae0-4590-95e3-b2b48aacb7fd",
   "metadata": {},
   "outputs": [],
   "source": [
    "results = {}"
   ]
  },
  {
   "cell_type": "code",
   "execution_count": 362,
   "id": "c2d99bf4-05a7-4cb4-aa7c-a76da8f625bf",
   "metadata": {},
   "outputs": [],
   "source": [
    "class quantumCNNMultiLabelAlgoTraining:\n",
    "    \"\"\"\n",
    "    Class to train quantum algorithms for multiclass multilabel.\n",
    "    \"\"\"\n",
    "    def __init__(self, no_of_features, no_of_samples, no_of_classes, no_of_labels, no_of_feature_map_reps, no_of_ansatz_reps, models = ['knn', 'qda', 'rf', 'lightgbm', 'svm']):\n",
    "        self.no_of_features = no_of_features\n",
    "        self.no_of_samples = no_of_samples\n",
    "        self.no_of_labels = no_of_labels\n",
    "        self.no_of_classes = no_of_classes\n",
    "        self.models = models\n",
    "        self.featuremap_reps = no_of_feature_map_reps\n",
    "        self.ansatz_reps = no_of_ansatz_reps\n",
    "        self.objective_func_vals = []\n",
    "        print(f\"the no of classes is {self.no_of_classes}\")\n",
    "\n",
    "    def data_generation(self):\n",
    "        \"\"\"\n",
    "        Generate classification data using sklearn's data generation.\\\n",
    "        \"\"\"\n",
    "        n_samples=self.no_of_samples\n",
    "        n_features=self.no_of_features\n",
    "        n_classes=self.no_of_classes\n",
    "        n_labels=self.no_of_labels\n",
    "        print(n_samples)\n",
    "        X, y = make_multilabel_classification(n_samples=n_samples, \n",
    "                                              n_features=n_features, \n",
    "                                              n_classes=n_classes, \n",
    "                                              n_labels=n_labels,\n",
    "                                              random_state=algorithm_globals.random_seed\n",
    "                                             )\n",
    "        y_new = np.array([self.conv_to_int(val) for val in y])\n",
    "        # y_new = y[:,0]*(2**4)+y[:,1]*(2**3)+y[:,2]*(2**2)+y[:,3]*(2**1)+y[:,4]*(2**0)\n",
    "        # y_new = y[:,0]*(2**2)+y[:,1]*(2**1)+y[:,2]*(2**0)\n",
    "        # y_new = y[:,0]*(2**1)+y[:,1]*(2**0)\n",
    "        print(X.shape, y.shape, y_new.shape)\n",
    "        print(X[:5], y[:5], y_new[:5])\n",
    "        return X, y, y_new\n",
    "\n",
    "    def int_to_hot(self, x):\n",
    "        format = '{' + '0:0{:d}b'.format(self.no_of_classes) + '}'\n",
    "        result = format.format(x)\n",
    "        list_of_ints = [int(x) for x in result]\n",
    "        return np.array(list_of_ints)\n",
    "\n",
    "    def get_mapping(self):\n",
    "        dictionary = {}\n",
    "        numbers = list(range(0, 2**self.no_of_classes))\n",
    "        for i in numbers:\n",
    "            dictionary[i] = self.int_to_hot(i)\n",
    "        return dictionary\n",
    "\n",
    "    def conv_to_int(self, vector):\n",
    "        val = \"\".join(vector.astype(str))\n",
    "        value = int(val, 2)\n",
    "        return value\n",
    "\n",
    "    # We now define a two qubit unitary as defined in [3]\n",
    "    def conv_circuit(self, params):\n",
    "        target = QuantumCircuit(2)\n",
    "        target.rz(-np.pi / 2, 1)\n",
    "        target.cx(1, 0)\n",
    "        target.rz(params[0], 0)\n",
    "        target.ry(params[1], 1)\n",
    "        target.cx(0, 1)\n",
    "        target.ry(params[2], 1)\n",
    "        target.cx(1, 0)\n",
    "        target.rz(np.pi / 2, 0)\n",
    "        return target\n",
    "\n",
    "    def conv_layer(self, num_qubits, param_prefix):\n",
    "        qc = QuantumCircuit(num_qubits, name=\"Convolutional Layer\")\n",
    "        qubits = list(range(num_qubits))\n",
    "        param_index = 0\n",
    "        params = ParameterVector(param_prefix, length=num_qubits * 3)\n",
    "        for q1, q2 in zip(qubits[0::2], qubits[1::2]):\n",
    "            qc = qc.compose(self.conv_circuit(params[param_index : (param_index + 3)]), [q1, q2])\n",
    "            qc.barrier()\n",
    "            param_index += 3\n",
    "        for q1, q2 in zip(qubits[1::2], qubits[2::2] + [0]):\n",
    "            qc = qc.compose(self.conv_circuit(params[param_index : (param_index + 3)]), [q1, q2])\n",
    "            qc.barrier()\n",
    "            param_index += 3\n",
    "\n",
    "        qc_inst = qc.to_instruction()\n",
    "\n",
    "        qc = QuantumCircuit(num_qubits)\n",
    "        qc.append(qc_inst, qubits)\n",
    "        return qc\n",
    "\n",
    "    # Defining pooling that will reduce the number of qbits(N)) at each application by half (N/2).\n",
    "    def pool_circuit(self, params):\n",
    "        target = QuantumCircuit(2)\n",
    "        target.rz(-np.pi / 2, 1)\n",
    "        target.cx(1, 0)\n",
    "        target.rz(params[0], 0)\n",
    "        target.ry(params[1], 1)\n",
    "        target.cx(0, 1)\n",
    "        target.ry(params[2], 1)\n",
    "\n",
    "        return target\n",
    "\n",
    "    def pool_layer(self, param_prefix):\n",
    "        sources = self.split_integer_into_lists()[0]\n",
    "        sinks = self.split_integer_into_lists()[1]\n",
    "        num_qubits = len(sources) + len(sinks)\n",
    "        qc = QuantumCircuit(num_qubits, name=\"Pooling Layer\")\n",
    "        param_index = 0\n",
    "        params = ParameterVector(param_prefix, length=num_qubits // 2 * 3)\n",
    "        for source, sink in zip(sources, sinks):\n",
    "            qc = qc.compose(self.pool_circuit(params[param_index : (param_index + 3)]), [source, sink])\n",
    "            qc.barrier()\n",
    "            param_index += 3\n",
    "\n",
    "        qc_inst = qc.to_instruction()\n",
    "\n",
    "        qc = QuantumCircuit(num_qubits)\n",
    "        qc.append(qc_inst, range(num_qubits))\n",
    "        return qc\n",
    "\n",
    "    def split_integer_into_lists(self):\n",
    "    # Calculate half of the integer\n",
    "        half = self.no_of_features // 2\n",
    "    \n",
    "    # Create two lists based on half\n",
    "        list1 = list(range(half))\n",
    "        list2 = list(range(half, self.no_of_features))\n",
    "    \n",
    "        return list1, list2\n",
    "\n",
    "    def get_mapping_old(self):\n",
    "        mapping = {0: [0, 0, 0, 0, 0], 1: [0, 0, 0, 0, 1], 2: [0, 0, 0, 1, 0], 3: [0, 0, 0, 1, 1], 4: [0, 0, 1, 0, 0], 5: [0, 0, 1, 0, 1], 6: [0, 0, 1, 1, 0], 7: [0, 0, 1, 1, 1], 8: [0, 1, 0, 0, 0], 9: [0, 1, 0, 0, 1], 10: [0, 1, 0, 1, 0], 11: [0, 1, 0, 1, 1], 12: [0, 1, 1, 0, 0], 13: [0, 1, 1, 0, 1], 14: [0, 1, 1, 1, 0], 15: [0, 1, 1, 1, 1], 16: [1, 0, 0, 0, 0], 17: [1, 0, 0, 0, 1], 18: [1, 0, 0, 1, 0], 19: [1, 0, 0, 1, 1], 20: [1, 0, 1, 0, 0], 21: [1, 0, 1, 0, 1], 22: [1, 0, 1, 1, 0], 23: [1, 0, 1, 1, 1], 24: [1, 1, 0, 0, 0], 25: [1, 1, 0, 0, 1], 26: [1, 1, 0, 1, 0], 27: [1, 1, 0, 1, 1], 28: [1, 1, 1, 0, 0], 29: [1, 1, 1, 0, 1], 30: [1, 1, 1, 1, 0], 31: [1, 1, 1, 1, 1]}\n",
    "        return mapping\n",
    "        # mapping = {0: [0,0,0], 1: [0,0,1], 2:[0,1,0], 3:[0,1,1], 4:[1, 0, 0], 5:[1, 0, 1], 6:[1, 1, 0], 7:[1, 1, 1]}\n",
    "        # mapping = {0: [0,0], 1: [0,1], 2: [1,0], 3:[1,1]}\n",
    "\n",
    "    # def train_test_split(self):\n",
    "    #     \"\"\"\n",
    "    #     splitting the data into train test split\n",
    "    #     \"\"\"\n",
    "    #     ## Train test split\n",
    "    #     # X, y = self.data_generation()\n",
    "    #     train_features, test_features, train_labels, test_labels = train_test_split(\n",
    "    #         X, y, train_size=0.8, random_state=algorithm_globals.random_seed\n",
    "    #     )\n",
    "    #     return train_features, test_features, train_labels, test_labels\n",
    "\n",
    "    def generate_featuremap(self):\n",
    "        \"\"\" Generating the feature map.\"\"\"\n",
    "        feature_map = ZZFeatureMap(feature_dimension=self.no_of_features, reps=self.featuremap_reps)\n",
    "        return feature_map\n",
    "\n",
    "    def generate_ansatz(self):\n",
    "        \"\"\"Generating ansatz.\"\"\"\n",
    "        ansatz = RealAmplitudes(num_qubits=self.no_of_features, reps=self.ansatz_reps)\n",
    "        return ansatz\n",
    "\n",
    "    def construct_qcnn_network(self):\n",
    "        \"\"\"Design a qcnn circuit based on the no of features.\"\"\"\n",
    "        feature_map = self.generate_featuremap() # feature map\n",
    "\n",
    "        ansatz = self.generate_ansatz()\n",
    "        counter = 1\n",
    "\n",
    "        start_point = self.no_of_features\n",
    "        while start_point % 2 == 0:\n",
    "    \n",
    "            # Convolutional Layer\n",
    "            ansatz.compose(self.conv_layer(start_point, f\"с{counter}\"), list(range(start_point)), inplace=True)\n",
    "\n",
    "            sources = split_integer_into_lists(start_point)[0]\n",
    "            sinks = split_integer_into_lists(start_point)[1]\n",
    "            ansatz.compose(self.pool_layer(f\"p{counter}\"), list(range(start_point)), inplace=True)\n",
    "\n",
    "            counter += 1\n",
    "            start_point = start_point // 2\n",
    "\n",
    "        # Combining the feature map and ansatz\n",
    "        circuit = QuantumCircuit(self.no_of_features)\n",
    "        circuit.compose(feature_map, range(self.no_of_features), inplace=True)\n",
    "        circuit.compose(ansatz, range(self.no_of_features), inplace=True)\n",
    "        return circuit, feature_map.parameters, ansatz.parameters\n",
    "\n",
    "    def get_observable(self):\n",
    "        observable = SparsePauliOp.from_list([(\"Z\" + \"I\" * (self.no_of_features-1), 2)])\n",
    "        return observable\n",
    "        \n",
    "    def callback_graph(self, weights, obj_func_eval):\n",
    "        clear_output(wait=True)\n",
    "        self.objective_func_vals.append(obj_func_eval)\n",
    "        plt.title(\"Objective function value against iteration\")\n",
    "        plt.xlabel(\"Iteration\")\n",
    "        plt.ylabel(\"Objective function value\")\n",
    "        plt.plot(range(len(self.objective_func_vals)), self.objective_func_vals)\n",
    "        plt.show()\n",
    "\n",
    "    def quantum_training(self):\n",
    "        X, y, y_new = self.data_generation()\n",
    "        print(X.shape, y.shape, y_new.shape)\n",
    "        # best_model = compare_models(include=self.models, sort='f1')\n",
    "        # print(best_model)\n",
    "        mapping = self.get_mapping()\n",
    "        optimizer = COBYLA(maxiter=100)\n",
    "        model = 'QCNN'\n",
    "        QCNN_network = self.construct_qcnn_network()\n",
    "        circuit = QCNN_network[0]\n",
    "        input_parameters = QCNN_network[1]\n",
    "        weight_parameters = QCNN_network[2]\n",
    "        qnn = EstimatorQNN(\n",
    "            circuit=circuit.decompose(),\n",
    "            observables=self.get_observable(),\n",
    "            input_params=input_parameters,\n",
    "            weight_params=weight_parameters\n",
    "        )\n",
    "        classifier = NeuralNetworkClassifier(\n",
    "        qnn,\n",
    "        optimizer=COBYLA(maxiter=400),  # Set max iterations here\n",
    "        callback=self.callback_graph,\n",
    "        one_hot=True\n",
    "        # initial_point=initial_point,\n",
    "        )\n",
    "\n",
    "        regressor = NeuralNetworkRegressor(\n",
    "        neural_network=qnn,\n",
    "        loss=\"squared_error\",\n",
    "        optimizer=L_BFGS_B(maxiter=30),\n",
    "        callback=self.callback_graph,\n",
    "        )\n",
    "        \n",
    "        # clear objective value history\n",
    "        objective_func_vals = []\n",
    "        \n",
    "        start = time.time()\n",
    "        classifier.fit(X,np.array([1]))\n",
    "        elapsed = time.time() - start\n",
    "        \n",
    "        print(f\"Training time: {round(elapsed)} seconds\")\n",
    "        # testing the QSVC scores\n",
    "        predictions = classifier.predict(X)\n",
    "\n",
    "        # Use list comprehension to create the new array\n",
    "        # print(f\"The type of predictions is: {type(predictions)}\")\n",
    "        # predictions_to_list = predictions.tolist()\n",
    "        # predictions_labels_final = np.array([mapping[val] for val in predictions_to_list])\n",
    "        # print(y.shape, predictions_labels_final.shape)\n",
    "        # print(predictions_labels_final[:5])\n",
    "        accuracy_scores = accuracy_score(y, predictions)\n",
    "        f1_scores = f1_score(y, predictions, average='weighted')\n",
    "        results.setdefault('Model', []).append(model)\n",
    "        results.setdefault('No of features', []).append(self.no_of_features)\n",
    "        results.setdefault('No of samples', []).append(self.no_of_samples)\n",
    "        results.setdefault('No of classes', []).append(self.no_of_classes)\n",
    "        results.setdefault('No of labels', []).append(self.no_of_labels)\n",
    "        results.setdefault('No of feature map reps', []).append(self.featuremap_reps)\n",
    "        results.setdefault('No of ansatz reps', []).append(self.ansatz_reps)\n",
    "        results.setdefault('Accuracy', []).append(accuracy_scores)\n",
    "        results.setdefault('F1', []).append(f1_scores)\n",
    "        # df = pd.DataFrame(results)\n",
    "        # df.to_csv(f'''results/Quantum-MC-ML-features_{self.no_of_features}-samples_{self.no_of_samples}-classes_{self.no_of_classes}-labels_{self.no_of_labels}-featuremapReps_{self.featuremap_reps}-ansatzReps_{self.ansatz_reps}.csv''', index=False)\n",
    "        # return df"
   ]
  },
  {
   "cell_type": "code",
   "execution_count": 363,
   "id": "29d933f2-23cc-4002-b867-2eae609a355d",
   "metadata": {},
   "outputs": [],
   "source": [
    "# # Defining pooling that will reduce the number of qbits(N)) at each application by half (N/2).\n",
    "# def pool_circuit(params):\n",
    "#     target = QuantumCircuit(8)\n",
    "#     target.rz(-np.pi / 2, 1)\n",
    "#     target.cx(1, 0)\n",
    "#     target.rz(params[0], 0)\n",
    "#     target.ry(params[1], 1)\n",
    "#     target.cx(0, 1)\n",
    "#     target.ry(params[2], 1)\n",
    "\n",
    "#     return target"
   ]
  },
  {
   "cell_type": "code",
   "execution_count": 364,
   "id": "f781249b-e4a5-47cd-a8d5-9e5fd97671fb",
   "metadata": {},
   "outputs": [],
   "source": [
    "# def pool_layer(sources, sinks, param_prefix):\n",
    "#     num_qubits = len(sources) + len(sinks)\n",
    "#     qc = QuantumCircuit(num_qubits, name=\"Pooling Layer\")\n",
    "#     param_index = 0\n",
    "#     params = ParameterVector(param_prefix, length=num_qubits // 2 * 3)\n",
    "#     for source, sink in zip(sources, sinks):\n",
    "#         qc = qc.compose(pool_circuit(params[param_index : (param_index + 3)]), [source, sink])\n",
    "#         qc.barrier()\n",
    "#         param_index += 3\n",
    "\n",
    "#     qc_inst = qc.to_instruction()\n",
    "\n",
    "#     qc = QuantumCircuit(num_qubits)\n",
    "#     qc.append(qc_inst, range(num_qubits))\n",
    "#     return qc"
   ]
  },
  {
   "cell_type": "code",
   "execution_count": 365,
   "id": "b2c71624-9764-44fe-b6ed-1f3dd8cb1562",
   "metadata": {},
   "outputs": [],
   "source": [
    "# sources = split_integer_into_lists(8)[0]\n",
    "# sinks = split_integer_into_lists(8)[1]\n",
    "# circuit = pool_layer(sources, sinks, \"θ\")\n",
    "# circuit.decompose().draw(\"mpl\")"
   ]
  },
  {
   "cell_type": "code",
   "execution_count": 11,
   "id": "882992e0-35f1-4ce4-9a68-501bc87b01e0",
   "metadata": {},
   "outputs": [],
   "source": [
    "no_of_features = [2]\n",
    "no_of_samples = [1024]\n",
    "no_of_classes = [3]\n",
    "no_of_labels = [3]\n",
    "no_of_feature_map_reps = [3]\n",
    "no_of_ansatz_reps = [3]"
   ]
  },
  {
   "cell_type": "code",
   "execution_count": 12,
   "id": "bd928f5e-4079-44bb-9c73-4dc613f1ce4b",
   "metadata": {},
   "outputs": [
    {
     "ename": "NameError",
     "evalue": "name 'quantumCNNMultiLabelAlgoTraining' is not defined",
     "output_type": "error",
     "traceback": [
      "\u001b[0;31m---------------------------------------------------------------------------\u001b[0m",
      "\u001b[0;31mNameError\u001b[0m                                 Traceback (most recent call last)",
      "Cell \u001b[0;32mIn[12], line 7\u001b[0m\n\u001b[1;32m      5\u001b[0m \u001b[38;5;28;01mfor\u001b[39;00m featuremap_reps \u001b[38;5;129;01min\u001b[39;00m no_of_feature_map_reps:\n\u001b[1;32m      6\u001b[0m     \u001b[38;5;28;01mfor\u001b[39;00m ansatz_reps \u001b[38;5;129;01min\u001b[39;00m no_of_ansatz_reps:\n\u001b[0;32m----> 7\u001b[0m         training_object \u001b[38;5;241m=\u001b[39m \u001b[43mquantumCNNMultiLabelAlgoTraining\u001b[49m(feature, sample, clas, lab, featuremap_reps, ansatz_reps)\n\u001b[1;32m      8\u001b[0m         training_object\u001b[38;5;241m.\u001b[39mquantum_training()\n",
      "\u001b[0;31mNameError\u001b[0m: name 'quantumCNNMultiLabelAlgoTraining' is not defined"
     ]
    }
   ],
   "source": [
    "for lab in no_of_labels:\n",
    "    for clas in no_of_classes:\n",
    "        for feature in no_of_features:\n",
    "            for sample in no_of_samples:\n",
    "                for featuremap_reps in no_of_feature_map_reps:\n",
    "                    for ansatz_reps in no_of_ansatz_reps:\n",
    "                        training_object = quantumCNNMultiLabelAlgoTraining(feature, sample, clas, lab, featuremap_reps, ansatz_reps)\n",
    "                        training_object.quantum_training()"
   ]
  },
  {
   "cell_type": "code",
   "execution_count": 361,
   "id": "fd840447-c3ae-4acb-8e92-8d3bfa788afa",
   "metadata": {},
   "outputs": [
    {
     "data": {
      "text/plain": [
       "1"
      ]
     },
     "execution_count": 361,
     "metadata": {},
     "output_type": "execute_result"
    }
   ],
   "source": [
    "len(np.array([1]).shape)"
   ]
  },
  {
   "cell_type": "markdown",
   "id": "27b49789-247e-4e05-8ae7-e4801dc176c8",
   "metadata": {},
   "source": [
    "\n",
    "-----"
   ]
  },
  {
   "cell_type": "markdown",
   "id": "d8188cb3-8395-491f-a6fc-2c8fc779750f",
   "metadata": {},
   "source": [
    "## Trying different approach."
   ]
  },
  {
   "cell_type": "code",
   "execution_count": 8,
   "id": "a6099f82-8e27-4996-b983-6f51891faa34",
   "metadata": {},
   "outputs": [],
   "source": [
    "def split_integer_into_lists(n):\n",
    "    # Calculate half of the integer\n",
    "    half = n // 2\n",
    "    \n",
    "    # Create two lists based on half\n",
    "    list1 = list(range(half))\n",
    "    list2 = list(range(half, n))\n",
    "    \n",
    "    return list1, list2"
   ]
  },
  {
   "cell_type": "code",
   "execution_count": 9,
   "id": "71901b70-a193-4a88-937b-d2b3df830fac",
   "metadata": {},
   "outputs": [],
   "source": [
    "def conv_to_int(vector):\n",
    "        val = \"\".join(vector.astype(str))\n",
    "        value = int(val, 2)\n",
    "        return value"
   ]
  },
  {
   "cell_type": "code",
   "execution_count": 10,
   "id": "f560cd32-d79b-44b1-877a-c35522d0808e",
   "metadata": {},
   "outputs": [],
   "source": [
    "def int_to_hot(x, no_of_classes):\n",
    "        format = '{' + '0:0{:d}b'.format(no_of_classes) + '}'\n",
    "        result = format.format(x)\n",
    "        list_of_ints = [int(x) for x in result]\n",
    "        return np.array(list_of_ints)"
   ]
  },
  {
   "cell_type": "code",
   "execution_count": 11,
   "id": "30e44fc5-4019-4060-9d62-e2dda2f79316",
   "metadata": {},
   "outputs": [],
   "source": [
    "def get_mapping(no_of_classes):\n",
    "        dictionary = {}\n",
    "        numbers = list(range(0, 2**no_of_classes))\n",
    "        for i in numbers:\n",
    "            dictionary[i] = int_to_hot(i, no_of_classes)\n",
    "        return dictionary"
   ]
  },
  {
   "cell_type": "code",
   "execution_count": 12,
   "id": "410a19e2-54af-41a1-93bd-6f765ae20ca2",
   "metadata": {},
   "outputs": [],
   "source": [
    "# get data\n",
    "def data_generation(n_samples, n_features, n_classes, n_labels):\n",
    "        \"\"\"\n",
    "        Generate classification data using sklearn's data generation.\\\n",
    "        \"\"\"\n",
    "        X, y = make_multilabel_classification(n_samples=n_samples, \n",
    "                                              n_features=n_features, \n",
    "                                              n_classes=n_classes, \n",
    "                                              n_labels=n_labels,\n",
    "                                              random_state=algorithm_globals.random_seed\n",
    "                                             )\n",
    "        y_new = np.array([conv_to_int(val) for val in y])\n",
    "        # y_new = y[:,0]*(2**4)+y[:,1]*(2**3)+y[:,2]*(2**2)+y[:,3]*(2**1)+y[:,4]*(2**0)\n",
    "        # y_new = y[:,0]*(2**2)+y[:,1]*(2**1)+y[:,2]*(2**0)\n",
    "        # y_new = y[:,0]*(2**1)+y[:,1]*(2**0)\n",
    "        print(X.shape, y.shape, y_new.shape)\n",
    "        print(X[:5], y[:5], y_new[:5])\n",
    "        return X, y, y_new"
   ]
  },
  {
   "cell_type": "code",
   "execution_count": 13,
   "id": "3c133627-15a2-4cb2-b9e5-c9e2d3eb291b",
   "metadata": {},
   "outputs": [],
   "source": [
    "# We now define a two qubit unitary as defined in [3]\n",
    "def conv_circuit(params):\n",
    "    target = QuantumCircuit(2)\n",
    "    target.rz(-np.pi / 2, 1)\n",
    "    target.cx(1, 0)\n",
    "    target.rz(params[0], 0)\n",
    "    target.ry(params[1], 1)\n",
    "    target.cx(0, 1)\n",
    "    target.ry(params[2], 1)\n",
    "    target.cx(1, 0)\n",
    "    target.rz(np.pi / 2, 0)\n",
    "    return target"
   ]
  },
  {
   "cell_type": "code",
   "execution_count": 14,
   "id": "9db623b1-b983-46bf-9e8d-cae63144c73d",
   "metadata": {},
   "outputs": [],
   "source": [
    "def conv_layer(num_qubits, param_prefix):\n",
    "    qc = QuantumCircuit(num_qubits, name=\"Convolutional Layer\")\n",
    "    qubits = list(range(num_qubits))\n",
    "    param_index = 0\n",
    "    params = ParameterVector(param_prefix, length=num_qubits * 3)\n",
    "    for q1, q2 in zip(qubits[0::2], qubits[1::2]):\n",
    "        qc = qc.compose(conv_circuit(params[param_index : (param_index + 3)]), [q1, q2])\n",
    "        qc.barrier()\n",
    "        param_index += 3\n",
    "    for q1, q2 in zip(qubits[1::2], qubits[2::2] + [0]):\n",
    "        qc = qc.compose(conv_circuit(params[param_index : (param_index + 3)]), [q1, q2])\n",
    "        qc.barrier()\n",
    "        param_index += 3\n",
    "\n",
    "    qc_inst = qc.to_instruction()\n",
    "\n",
    "    qc = QuantumCircuit(num_qubits)\n",
    "    qc.append(qc_inst, qubits)\n",
    "    return qc"
   ]
  },
  {
   "cell_type": "code",
   "execution_count": 15,
   "id": "1250f9bc-ba88-4b72-80b3-da4dcc45cae2",
   "metadata": {},
   "outputs": [],
   "source": [
    "def pool_circuit(params):\n",
    "    target = QuantumCircuit(2)\n",
    "    target.rz(-np.pi / 2, 1)\n",
    "    target.cx(1, 0)\n",
    "    target.rz(params[0], 0)\n",
    "    target.ry(params[1], 1)\n",
    "    target.cx(0, 1)\n",
    "    target.ry(params[2], 1)\n",
    "\n",
    "    return target"
   ]
  },
  {
   "cell_type": "code",
   "execution_count": 16,
   "id": "627c7205-4cb6-4896-8ba8-62639fc1fb93",
   "metadata": {},
   "outputs": [],
   "source": [
    "def pool_layer(sources, sinks, param_prefix):\n",
    "    num_qubits = len(sources) + len(sinks)\n",
    "    qc = QuantumCircuit(num_qubits, name=\"Pooling Layer\")\n",
    "    param_index = 0\n",
    "    params = ParameterVector(param_prefix, length=num_qubits // 2 * 3)\n",
    "    for source, sink in zip(sources, sinks):\n",
    "        qc = qc.compose(pool_circuit(params[param_index : (param_index + 3)]), [source, sink])\n",
    "        qc.barrier()\n",
    "        param_index += 3\n",
    "\n",
    "    qc_inst = qc.to_instruction()\n",
    "\n",
    "    qc = QuantumCircuit(num_qubits)\n",
    "    qc.append(qc_inst, range(num_qubits))\n",
    "    return qc"
   ]
  },
  {
   "cell_type": "code",
   "execution_count": 17,
   "id": "d6719059-381b-4358-8073-2c88ce241984",
   "metadata": {},
   "outputs": [],
   "source": [
    "def construct_qcnn_network(no_feature):\n",
    "    \"\"\"Design a qcnn circuit based on the no of features.\"\"\"\n",
    "    feature_map = ZZFeatureMap(no_feature)\n",
    "\n",
    "    ansatz = RealAmplitudes(no_feature)\n",
    "    counter = 1\n",
    "\n",
    "    start_point = no_feature\n",
    "    sources, sinks = split_integer_into_lists(start_point)\n",
    "    while start_point % 2 == 0:\n",
    "    \n",
    "        # Convolutional Layer\n",
    "        ansatz.compose(conv_layer(start_point, f\"с{counter}\"), list(range(start_point)), inplace=True)\n",
    "\n",
    "        sources = split_integer_into_lists(start_point)[0]\n",
    "        sinks = split_integer_into_lists(start_point)[1]\n",
    "        ansatz.compose(pool_layer(sources, sinks, f\"p{counter}\"), list(range(start_point)), inplace=True)\n",
    "\n",
    "        counter += 1\n",
    "        start_point = start_point // 2\n",
    "\n",
    "    # Combining the feature map and ansatz\n",
    "    circuit = QuantumCircuit(no_feature)\n",
    "    circuit.compose(feature_map, range(no_feature), inplace=True)\n",
    "    circuit.compose(ansatz, range(no_feature), inplace=True)\n",
    "    return circuit, feature_map.parameters, ansatz.parameters"
   ]
  },
  {
   "cell_type": "code",
   "execution_count": 18,
   "id": "6fd48ac5-c681-4317-aa05-91c13d1fdba1",
   "metadata": {},
   "outputs": [],
   "source": [
    "def callback_graph(weights, obj_func_eval):\n",
    "    clear_output(wait=True)\n",
    "    objective_func_vals.append(obj_func_eval)\n",
    "    plt.title(\"Objective function value against iteration\")\n",
    "    plt.xlabel(\"Iteration\")\n",
    "    plt.ylabel(\"Objective function value\")\n",
    "    plt.plot(range(len(objective_func_vals)), objective_func_vals)\n",
    "    plt.show()"
   ]
  },
  {
   "cell_type": "code",
   "execution_count": 19,
   "id": "cd680b9d-71d5-4665-870a-348ef29e1193",
   "metadata": {},
   "outputs": [],
   "source": [
    "results = {}\n",
    "model = 'Quantum CNN'\n",
    "no_of_samples = 1024\n",
    "no_of_features = [8] # as much as quantum side allows\n",
    "no_of_classes = [1] # look for quantum side\n",
    "no_of_labels = [1] # starting from 2, till max no of classes.\n",
    "no_of_featuremap_reps = [2]"
   ]
  },
  {
   "cell_type": "code",
   "execution_count": 20,
   "id": "13825dba-5ef5-4adf-9d34-86ebab16feac",
   "metadata": {},
   "outputs": [],
   "source": [
    "def generate_dataset(num_images):\n",
    "    images = []\n",
    "    labels = []\n",
    "    hor_array = np.zeros((6, 8))\n",
    "    ver_array = np.zeros((4, 8))\n",
    "\n",
    "    j = 0\n",
    "    for i in range(0, 7):\n",
    "        if i != 3:\n",
    "            hor_array[j][i] = np.pi / 2\n",
    "            hor_array[j][i + 1] = np.pi / 2\n",
    "            j += 1\n",
    "\n",
    "    j = 0\n",
    "    for i in range(0, 4):\n",
    "        ver_array[j][i] = np.pi / 2\n",
    "        ver_array[j][i + 4] = np.pi / 2\n",
    "        j += 1\n",
    "\n",
    "    for n in range(num_images):\n",
    "        rng = algorithm_globals.random.integers(0, 2)\n",
    "        if rng == 0:\n",
    "            labels.append(-1)\n",
    "            random_image = algorithm_globals.random.integers(0, 6)\n",
    "            images.append(np.array(hor_array[random_image]))\n",
    "        elif rng == 1:\n",
    "            labels.append(1)\n",
    "            random_image = algorithm_globals.random.integers(0, 4)\n",
    "            images.append(np.array(ver_array[random_image]))\n",
    "\n",
    "        # Create noise\n",
    "        for i in range(8):\n",
    "            if images[-1][i] == 0:\n",
    "                images[-1][i] = algorithm_globals.random.uniform(0, np.pi / 4)\n",
    "    return images, labels"
   ]
  },
  {
   "cell_type": "code",
   "execution_count": 21,
   "id": "92143e19-58bb-4665-884d-c4bb69ff454f",
   "metadata": {},
   "outputs": [
    {
     "name": "stderr",
     "output_type": "stream",
     "text": [
      "/var/folders/4z/946_ygn50p3bc_rsjbq9cg240000gn/T/ipykernel_11598/593309357.py:21: DeprecationWarning: Using random that is seeded via qiskit.utils algorithm_globals is deprecated since version 0.2.0. Instead set random_seed directly to qiskit_algorithms.utils algorithm_globals.\n",
      "  rng = algorithm_globals.random.integers(0, 2)\n",
      "/var/folders/4z/946_ygn50p3bc_rsjbq9cg240000gn/T/ipykernel_11598/593309357.py:28: DeprecationWarning: Using random that is seeded via qiskit.utils algorithm_globals is deprecated since version 0.2.0. Instead set random_seed directly to qiskit_algorithms.utils algorithm_globals.\n",
      "  random_image = algorithm_globals.random.integers(0, 4)\n",
      "/var/folders/4z/946_ygn50p3bc_rsjbq9cg240000gn/T/ipykernel_11598/593309357.py:34: DeprecationWarning: Using random that is seeded via qiskit.utils algorithm_globals is deprecated since version 0.2.0. Instead set random_seed directly to qiskit_algorithms.utils algorithm_globals.\n",
      "  images[-1][i] = algorithm_globals.random.uniform(0, np.pi / 4)\n",
      "/var/folders/4z/946_ygn50p3bc_rsjbq9cg240000gn/T/ipykernel_11598/593309357.py:24: DeprecationWarning: Using random that is seeded via qiskit.utils algorithm_globals is deprecated since version 0.2.0. Instead set random_seed directly to qiskit_algorithms.utils algorithm_globals.\n",
      "  random_image = algorithm_globals.random.integers(0, 6)\n"
     ]
    }
   ],
   "source": [
    "images, labels = generate_dataset(50)"
   ]
  },
  {
   "cell_type": "code",
   "execution_count": 22,
   "id": "54ec2747-53d2-40a3-b29d-328278f071a1",
   "metadata": {},
   "outputs": [],
   "source": [
    "train_images, test_images, train_labels, test_labels = train_test_split(\n",
    "    images, labels, test_size=0.3\n",
    ")"
   ]
  },
  {
   "cell_type": "code",
   "execution_count": 23,
   "id": "dd501fad-060b-4807-af15-54e3438130a4",
   "metadata": {},
   "outputs": [],
   "source": [
    "x = np.asarray(train_images)\n",
    "y = np.asarray(train_labels)"
   ]
  },
  {
   "cell_type": "code",
   "execution_count": 24,
   "id": "498c371d-0f96-4df4-be20-e37ada382d78",
   "metadata": {},
   "outputs": [
    {
     "data": {
      "text/plain": [
       "((35, 8), (35,))"
      ]
     },
     "execution_count": 24,
     "metadata": {},
     "output_type": "execute_result"
    }
   ],
   "source": [
    "x.shape, y.shape"
   ]
  },
  {
   "cell_type": "code",
   "execution_count": 15,
   "id": "811cf712-ee1b-4d50-b0a4-178941363fdb",
   "metadata": {
    "scrolled": true
   },
   "outputs": [
    {
     "ename": "NameError",
     "evalue": "name 'make_multilabel_classification' is not defined",
     "output_type": "error",
     "traceback": [
      "\u001b[0;31m---------------------------------------------------------------------------\u001b[0m",
      "\u001b[0;31mNameError\u001b[0m                                 Traceback (most recent call last)",
      "Cell \u001b[0;32mIn[15], line 6\u001b[0m\n\u001b[1;32m      4\u001b[0m \u001b[38;5;28;01mfor\u001b[39;00m no_label \u001b[38;5;129;01min\u001b[39;00m no_of_labels:\n\u001b[1;32m      5\u001b[0m     \u001b[38;5;28;01mif\u001b[39;00m no_label \u001b[38;5;241m<\u001b[39m\u001b[38;5;241m=\u001b[39m no_class:\n\u001b[0;32m----> 6\u001b[0m         X, y, y_new \u001b[38;5;241m=\u001b[39m \u001b[43mdata_generation\u001b[49m\u001b[43m(\u001b[49m\u001b[43mno_of_samples\u001b[49m\u001b[43m,\u001b[49m\u001b[43m \u001b[49m\u001b[43mno_feature\u001b[49m\u001b[43m,\u001b[49m\u001b[43m \u001b[49m\u001b[43mno_class\u001b[49m\u001b[43m,\u001b[49m\u001b[43m \u001b[49m\u001b[43mno_label\u001b[49m\u001b[43m)\u001b[49m\n\u001b[1;32m      7\u001b[0m         \u001b[38;5;28mprint\u001b[39m(X\u001b[38;5;241m.\u001b[39mshape, y\u001b[38;5;241m.\u001b[39mshape, y_new\u001b[38;5;241m.\u001b[39mshape)\n\u001b[1;32m      8\u001b[0m         QCNN_network \u001b[38;5;241m=\u001b[39m construct_qcnn_network(no_feature)\n",
      "Cell \u001b[0;32mIn[7], line 6\u001b[0m, in \u001b[0;36mdata_generation\u001b[0;34m(n_samples, n_features, n_classes, n_labels)\u001b[0m\n\u001b[1;32m      2\u001b[0m \u001b[38;5;28;01mdef\u001b[39;00m \u001b[38;5;21mdata_generation\u001b[39m(n_samples, n_features, n_classes, n_labels):\n\u001b[1;32m      3\u001b[0m \u001b[38;5;250m        \u001b[39m\u001b[38;5;124;03m\"\"\"\u001b[39;00m\n\u001b[1;32m      4\u001b[0m \u001b[38;5;124;03m        Generate classification data using sklearn's data generation.\\\u001b[39;00m\n\u001b[1;32m      5\u001b[0m \u001b[38;5;124;03m        \"\"\"\u001b[39;00m\n\u001b[0;32m----> 6\u001b[0m         X, y \u001b[38;5;241m=\u001b[39m \u001b[43mmake_multilabel_classification\u001b[49m(n_samples\u001b[38;5;241m=\u001b[39mn_samples, \n\u001b[1;32m      7\u001b[0m                                               n_features\u001b[38;5;241m=\u001b[39mn_features, \n\u001b[1;32m      8\u001b[0m                                               n_classes\u001b[38;5;241m=\u001b[39mn_classes, \n\u001b[1;32m      9\u001b[0m                                               n_labels\u001b[38;5;241m=\u001b[39mn_labels,\n\u001b[1;32m     10\u001b[0m                                               random_state\u001b[38;5;241m=\u001b[39malgorithm_globals\u001b[38;5;241m.\u001b[39mrandom_seed\n\u001b[1;32m     11\u001b[0m                                              )\n\u001b[1;32m     12\u001b[0m         y_new \u001b[38;5;241m=\u001b[39m np\u001b[38;5;241m.\u001b[39marray([conv_to_int(val) \u001b[38;5;28;01mfor\u001b[39;00m val \u001b[38;5;129;01min\u001b[39;00m y])\n\u001b[1;32m     13\u001b[0m         \u001b[38;5;66;03m# y_new = y[:,0]*(2**4)+y[:,1]*(2**3)+y[:,2]*(2**2)+y[:,3]*(2**1)+y[:,4]*(2**0)\u001b[39;00m\n\u001b[1;32m     14\u001b[0m         \u001b[38;5;66;03m# y_new = y[:,0]*(2**2)+y[:,1]*(2**1)+y[:,2]*(2**0)\u001b[39;00m\n\u001b[1;32m     15\u001b[0m         \u001b[38;5;66;03m# y_new = y[:,0]*(2**1)+y[:,1]*(2**0)\u001b[39;00m\n",
      "\u001b[0;31mNameError\u001b[0m: name 'make_multilabel_classification' is not defined"
     ]
    }
   ],
   "source": [
    "for no_feature in no_of_features:\n",
    "    for reps in no_of_featuremap_reps:\n",
    "        for no_class in no_of_classes:\n",
    "            for no_label in no_of_labels:\n",
    "                if no_label <= no_class:\n",
    "                    X, y, y_new = data_generation(no_of_samples, no_feature, no_class, no_label)\n",
    "                    print(X.shape, y.shape, y_new.shape)\n",
    "                    QCNN_network = construct_qcnn_network(no_feature)\n",
    "                    circuit = QCNN_network[0]\n",
    "                    input_params = QCNN_network[1]\n",
    "                    weight_params = QCNN_network[2]\n",
    "                    observable = SparsePauliOp.from_list([(\"Z\" + \"I\" * 7, 1)])\n",
    "                    qnn = EstimatorQNN(circuit=circuit.decompose(), observables=observable, \n",
    "                                       input_params=input_params, weight_params=weight_params)\n",
    "                    classifier = NeuralNetworkClassifier(qnn, \n",
    "                                                         optimizer=COBYLA(maxiter=200),\n",
    "                                                         callback=callback_graph,\n",
    "                                                         one_hot=True\n",
    "                                                        )\n",
    "                    classifier.fit(X, y)\n",
    "                    "
   ]
  },
  {
   "cell_type": "code",
   "execution_count": null,
   "id": "496b6176-7d3f-4388-b707-31fd1e475399",
   "metadata": {},
   "outputs": [
    {
     "name": "stderr",
     "output_type": "stream",
     "text": [
      "Traceback (most recent call last):\n",
      "capi_return is NULL\n",
      "Call-back cb_calcfc_in__cobyla__user__routines failed.\n",
      "Fatal Python error: F2PySwapThreadLocalCallbackPtr: F2PySwapThreadLocalCallbackPtr: PyLong_AsVoidPtr failed\n",
      "Python runtime state: initialized\n",
      "  File \"/Users/prasham/miniconda3/envs/quantum-base/lib/python3.9/site-packages/scipy/optimize/_cobyla_py.py\", line 258, in calcfc\n",
      "    f = fun(np.copy(x), *args)\n",
      "  File \"/Users/prasham/miniconda3/envs/quantum-base/lib/python3.9/site-packages/qiskit_machine_learning/algorithms/trainable_model.py\", line 271, in objective\n",
      "    objective_value = function.objective(objective_weights)\n",
      "  File \"/Users/prasham/miniconda3/envs/quantum-base/lib/python3.9/site-packages/qiskit_machine_learning/algorithms/objective_functions.py\", line 115, in objective\n",
      "    predict = self._neural_network_forward(weights)\n",
      "  File \"/Users/prasham/miniconda3/envs/quantum-base/lib/python3.9/site-packages/qiskit_machine_learning/algorithms/objective_functions.py\", line 102, in _neural_network_forward\n",
      "    self._last_forward = self._neural_network.forward(self._X, weights)\n",
      "  File \"/Users/prasham/miniconda3/envs/quantum-base/lib/python3.9/site-packages/qiskit_machine_learning/neural_networks/neural_network.py\", line 224, in forward\n",
      "    input_, shape = self._validate_input(input_data)\n",
      "  File \"/Users/prasham/miniconda3/envs/quantum-base/lib/python3.9/site-packages/qiskit_machine_learning/neural_networks/neural_network.py\", line 132, in _validate_input\n",
      "    raise QiskitMachineLearningError(\n",
      "qiskit_machine_learning.exceptions.QiskitMachineLearningError: 'Input data has incorrect shape, last dimension is not equal to the number of inputs: 0, but got: 8.'\n"
     ]
    }
   ],
   "source": [
    "for no_feature in no_of_features:\n",
    "    for reps in no_of_featuremap_reps:\n",
    "        for no_class in no_of_classes:\n",
    "            for no_label in no_of_labels:\n",
    "                if no_label <= no_class:\n",
    "                    # X, y, y_new = data_generation(no_of_samples, no_feature, no_class, no_label)\n",
    "                    # print(X.shape, y.shape, y_new.shape)\n",
    "                    feature_map = ZFeatureMap(8)\n",
    "\n",
    "                    ansatz = QuantumCircuit(8, name=\"Ansatz\")\n",
    "\n",
    "                    # First Convolutional Layer\n",
    "                    ansatz.compose(conv_layer(8, \"с1\"), list(range(8)), inplace=True)\n",
    "\n",
    "                    # First Pooling Layer\n",
    "                    ansatz.compose(pool_layer([0, 1, 2, 3], [4, 5, 6, 7], \"p1\"), list(range(8)), inplace=True)\n",
    "\n",
    "                    # Second Convolutional Layer\n",
    "                    ansatz.compose(conv_layer(4, \"c2\"), list(range(4, 8)), inplace=True)\n",
    "\n",
    "                    # Second Pooling Layer\n",
    "                    ansatz.compose(pool_layer([0, 1], [2, 3], \"p2\"), list(range(4, 8)), inplace=True)\n",
    "\n",
    "                    # Third Convolutional Layer\n",
    "                    ansatz.compose(conv_layer(2, \"c3\"), list(range(6, 8)), inplace=True)\n",
    "\n",
    "                    # Third Pooling Layer\n",
    "                    ansatz.compose(pool_layer([0], [1], \"p3\"), list(range(6, 8)), inplace=True)\n",
    "\n",
    "                    # Combining the feature map and ansatz\n",
    "                    circuit = QuantumCircuit(8)\n",
    "                    circuit.compose(feature_map, range(8), inplace=True)\n",
    "                    circuit.compose(ansatz, range(8), inplace=True)\n",
    "\n",
    "                    observable = SparsePauliOp.from_list([(\"Z\" + \"I\" * 7, 1)])\n",
    "                    # qnn = EstimatorQNN(circuit=circuit.decompose(),\n",
    "                    #                    input_params=feature_map.parameters,\n",
    "                    #                    weight_params=ansatz.parameters,)\n",
    "                    qnn = EstimatorQNN(circuit=circuit.decompose(), observables=observable)\n",
    "                    classifier = NeuralNetworkClassifier(qnn, \n",
    "                                                         optimizer=COBYLA(maxiter=200),\n",
    "                                                         callback=callback_graph,)\n",
    "                    classifier.fit(x, y)"
   ]
  },
  {
   "cell_type": "code",
   "execution_count": null,
   "id": "cd33687d-ee6b-4541-afc1-92b4c9c5e513",
   "metadata": {},
   "outputs": [],
   "source": []
  },
  {
   "cell_type": "code",
   "execution_count": null,
   "id": "98248361-5322-4e16-8852-2edec941c1bf",
   "metadata": {},
   "outputs": [],
   "source": []
  }
 ],
 "metadata": {
  "kernelspec": {
   "display_name": "quantum-base",
   "language": "python",
   "name": "quantum-base"
  },
  "language_info": {
   "codemirror_mode": {
    "name": "ipython",
    "version": 3
   },
   "file_extension": ".py",
   "mimetype": "text/x-python",
   "name": "python",
   "nbconvert_exporter": "python",
   "pygments_lexer": "ipython3",
   "version": "3.9.17"
  }
 },
 "nbformat": 4,
 "nbformat_minor": 5
}

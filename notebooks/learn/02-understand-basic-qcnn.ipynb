{
 "cells": [
  {
   "cell_type": "markdown",
   "id": "57b6d90c-1ac9-45d0-8a73-f6687b25cfc4",
   "metadata": {},
   "source": [
    "# Quantum Convolution Network\n",
    "\n",
    "This notebook is based on the tutorial: https://qiskit.org/ecosystem/machine-learning/tutorials/11_quantum_convolutional_neural_networks.html. \n",
    "\n",
    "This notebook is useful to learn and understand the basics behind the construction and instantization of quantum convolutional neural network with convolution and pooling layers."
   ]
  },
  {
   "cell_type": "markdown",
   "id": "bbc4e8b3-0d84-412a-899c-159fcda04da6",
   "metadata": {},
   "source": [
    "Key references are -\n",
    "\n",
    "[1] Cong, I., Choi, S. & Lukin, M.D. Quantum convolutional neural networks. Nat. Phys. 15, 1273–1278 (2019). https://doi.org/10.1038/s41567-019-0648-8\n",
    "\n",
    "[2] IBM Convolutional Neural Networks https://www.ibm.com/cloud/learn/convolutional-neural-networks\n",
    "\n",
    "[3] Vatan, Farrokh, and Colin Williams. “Optimal quantum circuits for general two-qubit gates.” Physical Review A 69.3 (2004): 032315."
   ]
  },
  {
   "cell_type": "code",
   "execution_count": null,
   "id": "ffd16a68-57dc-4e83-baf7-c35f558606df",
   "metadata": {},
   "outputs": [],
   "source": [
    "import json\n",
    "import matplotlib.pyplot as plt\n",
    "import numpy as np\n",
    "from IPython.display import clear_output\n",
    "from qiskit import QuantumCircuit\n",
    "from qiskit.algorithms.optimizers import COBYLA, L_BFGS_B\n",
    "from qiskit.circuit import ParameterVector\n",
    "from qiskit.circuit.library import ZFeatureMap\n",
    "from qiskit.quantum_info import SparsePauliOp\n",
    "from qiskit.utils import algorithm_globals\n",
    "from qiskit_machine_learning.algorithms.classifiers import NeuralNetworkClassifier\n",
    "from qiskit_machine_learning.algorithms.regressors import NeuralNetworkRegressor, VQR\n",
    "from qiskit_machine_learning.neural_networks import EstimatorQNN\n",
    "from sklearn.model_selection import train_test_split\n",
    "\n",
    "algorithm_globals.random_seed = 12345"
   ]
  },
  {
   "cell_type": "markdown",
   "id": "51487864-93ee-4ce4-8fa2-58ed013d11b6",
   "metadata": {},
   "source": [
    "Classical Convolutional Neural Networks (CCNNs) are a subclass of artificial neural networks which have the ability to determine particular features and patterns of a given input. Because of this, they are commonly used in image recognition and audio processing.\n",
    "\n",
    "The capability of determining features is a result of the two types of layers used in a CCNN, the convolutional layer and pooling layer."
   ]
  },
  {
   "cell_type": "markdown",
   "id": "d135001d-6b8d-45f0-a4d6-642bc71bc41c",
   "metadata": {},
   "source": [
    "## Quantum CNN"
   ]
  },
  {
   "cell_type": "markdown",
   "id": "181e3143-8f61-4ce3-be96-2c17b9905cbe",
   "metadata": {},
   "source": [
    "Quantum Convolutional Neural Networks (QCNN) behave in a similar manner to CCNNs. First, we encode our pixelated image into a quantum circuit using a given feature map, such Qiskit’s ZFeatureMap or ZZFeatureMap or others available in the circuit library."
   ]
  },
  {
   "cell_type": "markdown",
   "id": "e4673c99-463b-4d0a-bdf5-564fff34558c",
   "metadata": {},
   "source": [
    "After encoding our image, we apply alternating convolutional and pooling layers, as defined in the next section. By applying these alternating layers, we reduce the dimensionality of our circuit until we are left with one qubit. We can then classify our input image by measuring the output of this one remaining qubit.\n",
    "\n"
   ]
  },
  {
   "cell_type": "markdown",
   "id": "01bb5b40-669f-4ecc-b6d2-f800a8dc0bde",
   "metadata": {},
   "source": [
    "## Convolution Layer"
   ]
  },
  {
   "cell_type": "code",
   "execution_count": null,
   "id": "95d97990-ab81-4cc0-917d-932392b75f32",
   "metadata": {},
   "outputs": [],
   "source": [
    "# We now define a two qubit unitary as defined in [3]\n",
    "def conv_circuit(params):\n",
    "    target = QuantumCircuit(2)\n",
    "    target.rz(-np.pi / 2, 1)\n",
    "    target.cx(1, 0)\n",
    "    target.rz(params[0], 0)\n",
    "    target.ry(params[1], 1)\n",
    "    target.cx(0, 1)\n",
    "    target.ry(params[2], 1)\n",
    "    target.cx(1, 0)\n",
    "    target.rz(np.pi / 2, 0)\n",
    "    return target\n",
    "\n",
    "\n",
    "# Let's draw this circuit and see what it looks like\n",
    "params = ParameterVector(\"θ\", length=3)\n",
    "circuit = conv_circuit(params)\n",
    "circuit.draw(\"mpl\")"
   ]
  },
  {
   "cell_type": "markdown",
   "id": "47b1faf5-3b01-4f32-9a74-9fe2e43702c1",
   "metadata": {},
   "source": [
    "Now that we have defined these unitaries, it is time to create a function for the convolutional layer in our QCNN. To do so, we apply the two qubit unitary to neighboring qubits as seen in the conv_layer function below.\n",
    "\n",
    "Note that we first apply the two qubit unitary to all even pairs of qubits followed by applying to odd pairs of qubits in a circular coupling manner, i.e. the as well as neighboring qubits being coupled, the first and final qubit are also coupled through a unitary gate.\n",
    "\n",
    "Note that we add barriers into our quantum circuits for convenience when plotting, however they are not required for the actual QCNN and can be extracted from the following circuits.\n",
    "\n"
   ]
  },
  {
   "cell_type": "code",
   "execution_count": null,
   "id": "6dee1b53-24ef-40ce-bfe8-396685a3b2ac",
   "metadata": {},
   "outputs": [],
   "source": [
    "def conv_layer(num_qubits, param_prefix):\n",
    "    qc = QuantumCircuit(num_qubits, name=\"Convolutional Layer\")\n",
    "    qubits = list(range(num_qubits))\n",
    "    param_index = 0\n",
    "    params = ParameterVector(param_prefix, length=num_qubits * 3)\n",
    "    for q1, q2 in zip(qubits[0::2], qubits[1::2]):\n",
    "        qc = qc.compose(conv_circuit(params[param_index : (param_index + 3)]), [q1, q2])\n",
    "        qc.barrier()\n",
    "        param_index += 3\n",
    "    for q1, q2 in zip(qubits[1::2], qubits[2::2] + [0]):\n",
    "        qc = qc.compose(conv_circuit(params[param_index : (param_index + 3)]), [q1, q2])\n",
    "        qc.barrier()\n",
    "        param_index += 3\n",
    "\n",
    "    qc_inst = qc.to_instruction()\n",
    "\n",
    "    qc = QuantumCircuit(num_qubits)\n",
    "    qc.append(qc_inst, qubits)\n",
    "    return qc\n",
    "\n",
    "\n",
    "circuit = conv_layer(4, \"0\")\n",
    "circuit.decompose().draw(\"mpl\")"
   ]
  },
  {
   "cell_type": "markdown",
   "id": "dc2ba1c0-b896-408a-8bd7-4991509eaaec",
   "metadata": {},
   "source": [
    "## Pooling Layer"
   ]
  },
  {
   "cell_type": "markdown",
   "id": "7e48eeb7-75ca-47ec-bef4-f0248d30e178",
   "metadata": {},
   "source": [
    "The purpose of a pooling layer is to reduce the dimensions of our Quantum Circuit, i.e. reduce the number of qubits in our circuit, while retaining as much information as possible from previously learned data. Reducing the amount of qubits also reduces the computational cost of the overall circuit, as the number of parameters that the QCNN needs to learn decreases.\n",
    "\n",
    "However, one cannot simply decrease the amount of qubits in our quantum circuit. Because of this, we must define the pooling layer in a different manner compared with the classical approach.\n",
    "\n",
    "To ‘artificially’ reduce the number of qubits in our circuit, we first begin by creating pairs of the \n",
    " qubits in our system.\n",
    "\n",
    "After initially pairing all the qubits, we apply our generalized 2 qubit unitary to each pair, as described previously. After applying this two qubit unitary, we then ignore one qubit from each pair of qubits for the remainder of the neural network.\n",
    "\n",
    "This layer therefore has the overall effect of ‘combining’ the information of the two qubits into one qubit by first applying the unitary circuit, encoding information from one qubit into another, before disregarding one of qubits for the remainder of the circuit and not performing any operations or measurements on it."
   ]
  },
  {
   "cell_type": "code",
   "execution_count": null,
   "id": "a1656659-1b3b-449e-8222-4ab76f80f1e8",
   "metadata": {},
   "outputs": [],
   "source": [
    "# Defining pooling that will reduce the number of qbits(N)) at each application by half (N/2).\n",
    "def pool_circuit(params):\n",
    "    target = QuantumCircuit(2)\n",
    "    target.rz(-np.pi / 2, 1)\n",
    "    target.cx(1, 0)\n",
    "    target.rz(params[0], 0)\n",
    "    target.ry(params[1], 1)\n",
    "    target.cx(0, 1)\n",
    "    target.ry(params[2], 1)\n",
    "\n",
    "    return target\n",
    "\n",
    "\n",
    "params = ParameterVector(\"θ\", length=3)\n",
    "circuit = pool_circuit(params)\n",
    "circuit.draw(\"mpl\")"
   ]
  },
  {
   "cell_type": "code",
   "execution_count": null,
   "id": "acd218e4-2e5f-4bf9-9433-89f03fc8a865",
   "metadata": {},
   "outputs": [],
   "source": [
    "def pool_layer(sources, sinks, param_prefix):\n",
    "    num_qubits = len(sources) + len(sinks)\n",
    "    qc = QuantumCircuit(num_qubits, name=\"Pooling Layer\")\n",
    "    param_index = 0\n",
    "    params = ParameterVector(param_prefix, length=num_qubits // 2 * 3)\n",
    "    for source, sink in zip(sources, sinks):\n",
    "        qc = qc.compose(pool_circuit(params[param_index : (param_index + 3)]), [source, sink])\n",
    "        qc.barrier()\n",
    "        param_index += 3\n",
    "\n",
    "    qc_inst = qc.to_instruction()\n",
    "\n",
    "    qc = QuantumCircuit(num_qubits)\n",
    "    qc.append(qc_inst, range(num_qubits))\n",
    "    return qc\n",
    "\n",
    "\n",
    "sources = [0, 1]\n",
    "sinks = [2, 3]\n",
    "circuit = pool_layer(sources, sinks, \"θ\")\n",
    "circuit.decompose().draw(\"mpl\")"
   ]
  },
  {
   "cell_type": "markdown",
   "id": "92a15e60-04f0-425c-b824-0aa6b1f48271",
   "metadata": {},
   "source": [
    "## Data Generation"
   ]
  },
  {
   "cell_type": "code",
   "execution_count": null,
   "id": "a777f134-ca2c-4c1a-b1a3-29ed5fee8d8b",
   "metadata": {},
   "outputs": [],
   "source": [
    "def generate_dataset(num_images):\n",
    "    images = []\n",
    "    labels = []\n",
    "    hor_array = np.zeros((6, 8))\n",
    "    ver_array = np.zeros((4, 8))\n",
    "\n",
    "    j = 0\n",
    "    for i in range(0, 7):\n",
    "        if i != 3:\n",
    "            hor_array[j][i] = np.pi / 2\n",
    "            hor_array[j][i + 1] = np.pi / 2\n",
    "            j += 1\n",
    "\n",
    "    j = 0\n",
    "    for i in range(0, 4):\n",
    "        ver_array[j][i] = np.pi / 2\n",
    "        ver_array[j][i + 4] = np.pi / 2\n",
    "        j += 1\n",
    "\n",
    "    for n in range(num_images):\n",
    "        rng = algorithm_globals.random.integers(0, 2)\n",
    "        if rng == 0:\n",
    "            labels.append(-1)\n",
    "            random_image = algorithm_globals.random.integers(0, 6)\n",
    "            images.append(np.array(hor_array[random_image]))\n",
    "        elif rng == 1:\n",
    "            labels.append(1)\n",
    "            random_image = algorithm_globals.random.integers(0, 4)\n",
    "            images.append(np.array(ver_array[random_image]))\n",
    "\n",
    "        # Create noise\n",
    "        for i in range(8):\n",
    "            if images[-1][i] == 0:\n",
    "                images[-1][i] = algorithm_globals.random.uniform(0, np.pi / 4)\n",
    "    return images, labels"
   ]
  },
  {
   "cell_type": "code",
   "execution_count": null,
   "id": "00c12ae8-53df-4c6c-8dc0-ce7c12e9ecaf",
   "metadata": {},
   "outputs": [],
   "source": [
    "# splitting dataset\n",
    "images, labels = generate_dataset(10)\n",
    "\n",
    "train_images, test_images, train_labels, test_labels = train_test_split(\n",
    "    images, labels, test_size=0.3\n",
    ")"
   ]
  },
  {
   "cell_type": "code",
   "execution_count": null,
   "id": "75323dfa-9461-41f0-8cac-ff89c54a4832",
   "metadata": {},
   "outputs": [],
   "source": [
    "fig, ax = plt.subplots(2, 2, figsize=(10, 6), subplot_kw={\"xticks\": [], \"yticks\": []})\n",
    "for i in range(4):\n",
    "    ax[i // 2, i % 2].imshow(\n",
    "        train_images[i].reshape(2, 4),  # Change back to 2 by 4\n",
    "        aspect=\"equal\",\n",
    "    )\n",
    "plt.subplots_adjust(wspace=0.1, hspace=0.025)"
   ]
  },
  {
   "cell_type": "markdown",
   "id": "aaa5d84c-ff1b-4c3e-aa98-70e2808e29aa",
   "metadata": {},
   "source": [
    "## Modelling the QNN"
   ]
  },
  {
   "cell_type": "markdown",
   "id": "bea9c3cb-3993-41da-9dbf-d22d428d3731",
   "metadata": {},
   "source": [
    "Now that we have defined both the convolutional layers it is now time to build our QCNN, which will consist of alternating pooling and convolutional layers.\n",
    "\n",
    "As the images in our dataset contains 8 pixels, we will use 8 qubits in our QCNN.\n",
    "\n",
    "We encode our dataset into our QCNN by applying a feature map. One can create a feature map using one of Qiskit’s built in feature maps, such as ZFeatureMap or ZZFeatureMap."
   ]
  },
  {
   "cell_type": "code",
   "execution_count": null,
   "id": "c65386fe-e074-498b-97ee-af0fde82db70",
   "metadata": {},
   "outputs": [],
   "source": [
    "feature_map = ZFeatureMap(8)\n",
    "feature_map.decompose().draw(\"mpl\")"
   ]
  },
  {
   "cell_type": "markdown",
   "id": "07e80e83-72fd-4d42-a7fa-430552b0bc76",
   "metadata": {},
   "source": [
    "## Training"
   ]
  },
  {
   "cell_type": "code",
   "execution_count": null,
   "id": "ddb19152-4aa1-456a-ae3f-d23040bfd767",
   "metadata": {},
   "outputs": [],
   "source": [
    "feature_map = ZFeatureMap(8) # feature map\n",
    "\n",
    "ansatz = QuantumCircuit(8, name=\"Ansatz\")\n",
    "\n",
    "# First Convolutional Layer\n",
    "ansatz.compose(conv_layer(8, \"с1\"), list(range(8)), inplace=True)\n",
    "\n",
    "# First Pooling Layer\n",
    "ansatz.compose(pool_layer([0, 1, 2, 3], [4, 5, 6, 7], \"p1\"), list(range(8)), inplace=True)\n",
    "\n",
    "# Second Convolutional Layer\n",
    "ansatz.compose(conv_layer(4, \"c2\"), list(range(4, 8)), inplace=True)\n",
    "\n",
    "# Second Pooling Layer\n",
    "ansatz.compose(pool_layer([0, 1], [2, 3], \"p2\"), list(range(4, 8)), inplace=True)\n",
    "\n",
    "# Third Convolutional Layer\n",
    "ansatz.compose(conv_layer(2, \"c3\"), list(range(6, 8)), inplace=True)\n",
    "\n",
    "# Third Pooling Layer\n",
    "ansatz.compose(pool_layer([0], [1], \"p3\"), list(range(6, 8)), inplace=True)\n",
    "\n",
    "# Combining the feature map and ansatz\n",
    "circuit = QuantumCircuit(8)\n",
    "circuit.compose(feature_map, range(8), inplace=True)\n",
    "circuit.compose(ansatz, range(8), inplace=True)\n",
    "\n",
    "observable = SparsePauliOp.from_list([(\"Z\" + \"I\" * 7, 1)])\n",
    "\n",
    "# we decompose the circuit for the QNN to avoid additional data copying\n",
    "qnn = EstimatorQNN(\n",
    "    circuit=circuit.decompose(),\n",
    "    observables=observable,\n",
    "    input_params=feature_map.parameters,\n",
    "    weight_params=ansatz.parameters,\n",
    ")"
   ]
  },
  {
   "cell_type": "code",
   "execution_count": null,
   "id": "7a04c065-d40a-44c3-bde3-b2f9afd09a42",
   "metadata": {},
   "outputs": [],
   "source": [
    "circuit.draw(\"mpl\")\n"
   ]
  },
  {
   "cell_type": "code",
   "execution_count": null,
   "id": "2c58c6cd-bb93-4b00-972e-5e04b4b52007",
   "metadata": {},
   "outputs": [],
   "source": [
    "def callback_graph(weights, obj_func_eval):\n",
    "    clear_output(wait=True)\n",
    "    objective_func_vals.append(obj_func_eval)\n",
    "    plt.title(\"Objective function value against iteration\")\n",
    "    plt.xlabel(\"Iteration\")\n",
    "    plt.ylabel(\"Objective function value\")\n",
    "    plt.plot(range(len(objective_func_vals)), objective_func_vals)\n",
    "    plt.show()"
   ]
  },
  {
   "cell_type": "code",
   "execution_count": null,
   "id": "e391bd1c-0f64-4d69-93e9-3118589f6f60",
   "metadata": {},
   "outputs": [],
   "source": [
    "## Change the classifier to regressor, and change the loss function\n",
    "\n",
    "classifier = NeuralNetworkClassifier(\n",
    "    qnn,\n",
    "    optimizer=COBYLA(maxiter=400),  # Set max iterations here\n",
    "    callback=callback_graph,\n",
    "    # initial_point=initial_point,\n",
    ")"
   ]
  },
  {
   "cell_type": "code",
   "execution_count": null,
   "id": "7b66cf20-b0ee-482c-909f-b928fd4e5977",
   "metadata": {},
   "outputs": [],
   "source": [
    "regressor = NeuralNetworkRegressor(\n",
    "    neural_network=qnn,\n",
    "    loss=\"squared_error\",\n",
    "    optimizer=L_BFGS_B(maxiter=400),\n",
    "    callback=callback_graph,\n",
    ")"
   ]
  },
  {
   "cell_type": "code",
   "execution_count": null,
   "id": "30524894-8ca3-4dff-9d6a-6ef73932492c",
   "metadata": {},
   "outputs": [],
   "source": [
    "x = np.asarray(train_images)\n",
    "y = np.asarray(train_labels) # multiple columns\n",
    "\n",
    "objective_func_vals = []\n",
    "plt.rcParams[\"figure.figsize\"] = (12, 6)\n",
    "# classifier.fit(x, y)\n",
    "regressor.fit(x,y)\n",
    "# score classifier\n",
    "# print(f\"Accuracy from the train data : {np.round(100 * classifier.score(x, y), 2)}%\")\n",
    "print(f\"Accuracy from the train data : {np.round(100 * regressor.score(x, y), 2)}%\")"
   ]
  },
  {
   "cell_type": "markdown",
   "id": "1f89d0e9-78cd-4074-9b90-170dea8c2f6a",
   "metadata": {},
   "source": [
    "## Testing the QCNN"
   ]
  },
  {
   "cell_type": "code",
   "execution_count": null,
   "id": "3bf11d5e-8b82-4f28-8eb6-dd740c46003c",
   "metadata": {},
   "outputs": [],
   "source": [
    "y_predict = classifier.predict(test_images)\n",
    "x = np.asarray(test_images)\n",
    "y = np.asarray(test_labels)\n",
    "print(f\"Accuracy from the test data : {np.round(100 * classifier.score(x, y), 2)}%\")\n",
    "\n",
    "# Let's see some examples in our dataset\n",
    "fig, ax = plt.subplots(4, 2, figsize=(10, 6), subplot_kw={\"xticks\": [], \"yticks\": []})\n",
    "for i in range(0, 8):\n",
    "    ax[i // 2, i % 2].imshow(test_images[i].reshape(2, 4), aspect=\"equal\")\n",
    "    if y_predict[i] == -1:\n",
    "        ax[i // 2, i % 2].set_title(\"The QCNN predicts this is a Horizontal Line\")\n",
    "    if y_predict[i] == +1:\n",
    "        ax[i // 2, i % 2].set_title(\"The QCNN predicts this is a Vertical Line\")\n",
    "plt.subplots_adjust(wspace=0.1, hspace=0.5)"
   ]
  },
  {
   "cell_type": "code",
   "execution_count": null,
   "id": "3243853e-5b5c-4726-adaf-f2a24e2bcf63",
   "metadata": {},
   "outputs": [],
   "source": [
    "no_of_features = 8"
   ]
  },
  {
   "cell_type": "code",
   "execution_count": null,
   "id": "478661c2-a743-4215-a303-8c0b95220982",
   "metadata": {},
   "outputs": [],
   "source": [
    "def split_integer_into_lists(no_of_features):\n",
    "    # Calculate half of the integer\n",
    "    half = no_of_features // 2\n",
    "    \n",
    "    # Create two lists based on half\n",
    "    list1 = list(range(half))\n",
    "    list2 = list(range(half, no_of_features))\n",
    "    \n",
    "    return list1, list2"
   ]
  },
  {
   "cell_type": "code",
   "execution_count": null,
   "id": "032a2c50-d065-40df-8648-f2783e545cc7",
   "metadata": {},
   "outputs": [],
   "source": [
    "no_of_features = 16\n",
    "feature_map = ZFeatureMap(no_of_features) # feature map\n",
    "\n",
    "ansatz = QuantumCircuit(no_of_features, name=\"Ansatz\")\n",
    "counter = 1\n",
    "\n",
    "start_point = no_of_features\n",
    "while start_point % 2 == 0:\n",
    "    \n",
    "    # Convolutional Layer\n",
    "    ansatz.compose(conv_layer(start_point, f\"с{counter}\"), list(range(start_point)), inplace=True)\n",
    "\n",
    "    sources = split_integer_into_lists(start_point)[0]\n",
    "    sinks = split_integer_into_lists(start_point)[1]\n",
    "    ansatz.compose(pool_layer(sources, sinks, f\"p{counter}\"), list(range(start_point)), inplace=True)\n",
    "\n",
    "    counter += 1\n",
    "    start_point = start_point // 2\n",
    "\n",
    "# Combining the feature map and ansatz\n",
    "circuit = QuantumCircuit(no_of_features)\n",
    "circuit.compose(feature_map, range(no_of_features), inplace=True)\n",
    "circuit.compose(ansatz, range(no_of_features), inplace=True)\n",
    "\n",
    "observable = SparsePauliOp.from_list([(\"Z\" + \"I\" * no_of_features, 1)])\n",
    "\n",
    "# we decompose the circuit for the QNN to avoid additional data copying\n",
    "qnn = EstimatorQNN(\n",
    "    circuit=circuit.decompose(),\n",
    "    observables=observable,\n",
    "    input_params=feature_map.parameters,\n",
    "    weight_params=ansatz.parameters,\n",
    ")"
   ]
  },
  {
   "cell_type": "code",
   "execution_count": null,
   "id": "2400bbc2-3bc7-4bbf-b445-345ac8a0cd5d",
   "metadata": {
    "scrolled": true
   },
   "outputs": [],
   "source": [
    "circuit.draw(\"mpl\")"
   ]
  },
  {
   "cell_type": "code",
   "execution_count": null,
   "id": "0f1c2f72-6cdd-4aed-8311-453d4ca271f2",
   "metadata": {},
   "outputs": [],
   "source": [
    "observable"
   ]
  },
  {
   "cell_type": "code",
   "execution_count": null,
   "id": "369c0073-5ffe-411d-bddd-a2905efe7e63",
   "metadata": {},
   "outputs": [],
   "source": [
    "observable.num_qubits"
   ]
  }
 ],
 "metadata": {
  "kernelspec": {
   "display_name": "quantum-base",
   "language": "python",
   "name": "quantum-base"
  },
  "language_info": {
   "codemirror_mode": {
    "name": "ipython",
    "version": 3
   },
   "file_extension": ".py",
   "mimetype": "text/x-python",
   "name": "python",
   "nbconvert_exporter": "python",
   "pygments_lexer": "ipython3",
   "version": "3.9.17"
  }
 },
 "nbformat": 4,
 "nbformat_minor": 5
}

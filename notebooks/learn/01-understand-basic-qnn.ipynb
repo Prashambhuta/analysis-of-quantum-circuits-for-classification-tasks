{
 "cells": [
  {
   "cell_type": "markdown",
   "id": "bf5cc317-69da-465e-9b45-65ced3dba5da",
   "metadata": {},
   "source": [
    "# Basics of Quantum Neural Network Structure\n",
    "\n",
    "This notebook is useful to understand the basics of the quantum neural network. To get hands on with instantizatio of Estimator QNNs, and Sampler QNNs."
   ]
  },
  {
   "cell_type": "code",
   "execution_count": null,
   "id": "dcdfcf7d-8714-430f-ae34-45b06ac59296",
   "metadata": {},
   "outputs": [],
   "source": [
    "from qiskit.utils import algorithm_globals\n",
    "from qiskit_machine_learning.algorithms.regressors import NeuralNetworkRegressor, VQR\n",
    "from qiskit.algorithms.optimizers import L_BFGS_B\n",
    "import numpy as np\n",
    "import matplotlib.pyplot as plt\n",
    "from IPython.display import clear_output\n",
    "algorithm_globals.random_seed = 42\n",
    "from qiskit import QuantumCircuit\n",
    "from qiskit.circuit.library import ZZFeatureMap, RealAmplitudes"
   ]
  },
  {
   "cell_type": "markdown",
   "id": "899d8d04-b40e-4265-9a9f-d54fcd2ae9a6",
   "metadata": {},
   "source": [
    "## Estimator QNN"
   ]
  },
  {
   "cell_type": "markdown",
   "id": "006feeed-4770-4db4-9371-ec27ccf49c13",
   "metadata": {},
   "source": [
    "Estimator QNN takes as input a parameterised circuit. To constructor a Estimator QNN first we need to construct a quantum circuit which will act as input.\n",
    "\n",
    "Creating a quantum cicuit."
   ]
  },
  {
   "cell_type": "code",
   "execution_count": null,
   "id": "3e3a0d85-8316-4299-b45b-a9e844f571c4",
   "metadata": {},
   "outputs": [],
   "source": [
    "from qiskit.circuit import Parameter\n",
    "from qiskit import QuantumCircuit\n",
    "\n",
    "params1 = [Parameter(\"input1\"), Parameter(\"weight1\")]\n",
    "qc1 = QuantumCircuit(1)\n",
    "qc1.h(0)\n",
    "qc1.ry(params1[0], 0)\n",
    "qc1.rx(params1[1], 0)\n",
    "qc1.draw(\"mpl\")"
   ]
  },
  {
   "cell_type": "markdown",
   "id": "29e706c4-b9f8-4120-beaa-c5b4fea1998f",
   "metadata": {},
   "source": [
    "\n",
    "We will now create a quantum observable in the form of Y*no_of_qbits of circuit."
   ]
  },
  {
   "cell_type": "code",
   "execution_count": null,
   "id": "1bae85c5-f148-4f9d-9766-aeb646226163",
   "metadata": {},
   "outputs": [],
   "source": [
    "from qiskit.quantum_info import SparsePauliOp\n",
    "\n",
    "observable1 = SparsePauliOp.from_list([(\"Y\" * qc1.num_qubits, 1)])"
   ]
  },
  {
   "cell_type": "markdown",
   "id": "c5ac3995-9f46-4021-837a-b1fedc9ccbb4",
   "metadata": {},
   "source": [
    "Estimator QNN takes the following input:\n",
    "\n",
    "1. Quantum circuit - qc1 constructed in this case\n",
    "2. Quantum observable - observable1 based on the Y*no_of_qbit\n",
    "3. estimator - (optional) primitive instance\n",
    "4. input_params - list of quantum circuit parameters that can be treated as network inputs.\n",
    "5. weight_params - list of quantum circuit parameters that can be treated as weight parameter.\n"
   ]
  },
  {
   "cell_type": "markdown",
   "id": "2cd6455f-e846-4a99-b94f-54f375335963",
   "metadata": {},
   "source": [
    "Lets create a Estimator QNN"
   ]
  },
  {
   "cell_type": "code",
   "execution_count": null,
   "id": "e063eee1-41d2-471b-9154-66541984551a",
   "metadata": {},
   "outputs": [],
   "source": [
    "from qiskit_machine_learning.neural_networks import EstimatorQNN\n",
    "\n",
    "estimator_qnn = EstimatorQNN(\n",
    "    circuit=qc1, observables=observable1, input_params=[params1[0]], weight_params=[params1[1]]\n",
    ")\n",
    "estimator_qnn"
   ]
  },
  {
   "cell_type": "markdown",
   "id": "e5af4f8d-4bad-4c0d-b3a1-fbf59e978c7e",
   "metadata": {},
   "source": [
    "## Sampler QNN\n",
    "\n",
    "Sampler QNN is constructed in a similar way to Estimator QNN but it does not require a custom observable."
   ]
  },
  {
   "cell_type": "markdown",
   "id": "0accccd7-101c-4773-9498-67ccdef68504",
   "metadata": {},
   "source": [
    "Lets create a Sampler QNN with 2 input parameters and 4 trainable weights."
   ]
  },
  {
   "cell_type": "code",
   "execution_count": null,
   "id": "530ca85a-4e44-47bf-ad71-19bf245aa102",
   "metadata": {},
   "outputs": [],
   "source": [
    "# construct simple feature map\n",
    "param_x = Parameter(\"x\")\n",
    "feature_map = QuantumCircuit(1, name=\"fm\")\n",
    "feature_map.ry(param_x, 0)\n",
    "\n",
    "# construct simple ansatz\n",
    "param_y = Parameter(\"y\")\n",
    "ansatz = QuantumCircuit(1, name=\"vf\")\n",
    "ansatz.ry(param_y, 0)\n",
    "\n",
    "# construct a circuit\n",
    "qc = QuantumCircuit(1)\n",
    "qc.compose(feature_map, inplace=True)\n",
    "qc.compose(ansatz, inplace=True)\n",
    "\n",
    "\n"
   ]
  },
  {
   "cell_type": "code",
   "execution_count": null,
   "id": "e8bfb37a-8d02-4b2b-982d-db238353dfeb",
   "metadata": {},
   "outputs": [],
   "source": [
    "# Creating two qubit circuit\n",
    "num_qubits = 2\n",
    "feature_map = ZZFeatureMap(feature_dimension=num_qubits)\n",
    "ansatz = RealAmplitudes(num_qubits=num_qubits, reps=1)\n",
    "\n",
    "qc = QuantumCircuit(num_qubits)\n",
    "qc.compose(feature_map, inplace=True)\n",
    "qc.compose(ansatz, inplace=True)"
   ]
  },
  {
   "cell_type": "code",
   "execution_count": null,
   "id": "252e7420-8897-414f-941f-252e129ada1b",
   "metadata": {},
   "outputs": [],
   "source": [
    "qc.draw(\"mpl\")"
   ]
  },
  {
   "cell_type": "code",
   "execution_count": null,
   "id": "7edf401a-aad1-45c8-85de-ab0cf664a00c",
   "metadata": {},
   "outputs": [],
   "source": [
    "def parity(x):\n",
    "    return \"{:b}\".format(x).count(\"1\") % 2"
   ]
  },
  {
   "cell_type": "code",
   "execution_count": null,
   "id": "f9b45c24-451a-4090-8fb3-454eae0bf000",
   "metadata": {},
   "outputs": [],
   "source": [
    "from qiskit_machine_learning.neural_networks import SamplerQNN\n",
    "\n",
    "sampler_qnn = SamplerQNN(circuit=qc, input_params=feature_map.parameters, weight_params=ansatz.parameters,interpret=parity , output_shape=2)\n",
    "sampler_qnn"
   ]
  },
  {
   "cell_type": "markdown",
   "id": "b3ad4a8b-3d3d-4934-b5c7-3d860648d7ee",
   "metadata": {},
   "source": [
    "## VQR Regression"
   ]
  },
  {
   "cell_type": "code",
   "execution_count": null,
   "id": "a393be7f-b82b-494c-af66-7d117fd84ce4",
   "metadata": {},
   "outputs": [],
   "source": [
    "vqr = VQR(\n",
    "    feature_map=feature_map,\n",
    "    ansatz=ansatz,\n",
    "    optimizer=L_BFGS_B(maxiter=5),\n",
    "    callback=callback_graph,\n",
    ")"
   ]
  },
  {
   "cell_type": "markdown",
   "id": "d3a2d9ba-b4b0-4eb0-98d7-d416bbd3fc7f",
   "metadata": {},
   "source": [
    "## Linear Regression using SamplerQNN"
   ]
  },
  {
   "cell_type": "code",
   "execution_count": null,
   "id": "18523d22-cc43-4ef3-8fa5-a0c5249fbcd4",
   "metadata": {},
   "outputs": [],
   "source": [
    "def callback_graph(weights, obj_func_eval):\n",
    "    clear_output(wait=True)\n",
    "    objective_func_vals.append(obj_func_eval)\n",
    "    plt.title(\"Objective function value against iteration\")\n",
    "    plt.xlabel(\"Iteration\")\n",
    "    plt.ylabel(\"Objective function value\")\n",
    "    plt.plot(range(len(objective_func_vals)), objective_func_vals)\n",
    "    plt.show()"
   ]
  },
  {
   "cell_type": "code",
   "execution_count": null,
   "id": "59fd0b3e-0de7-4a90-8fec-c8c50dff52a1",
   "metadata": {},
   "outputs": [],
   "source": [
    "# construct the regressor from the neural network\n",
    "regressor = NeuralNetworkRegressor(\n",
    "    neural_network=sampler_qnn,\n",
    "    loss=\"squared_error\",\n",
    "    optimizer=L_BFGS_B(maxiter=30),\n",
    "    callback=callback_graph,\n",
    ")"
   ]
  },
  {
   "cell_type": "markdown",
   "id": "8355b2e3-cce0-4084-9544-2043a8c9722f",
   "metadata": {},
   "source": [
    "### Sample Data"
   ]
  },
  {
   "cell_type": "code",
   "execution_count": null,
   "id": "02a5c41e-d400-4391-bc29-aa9f42e2e589",
   "metadata": {},
   "outputs": [],
   "source": [
    "num_samples = 50\n",
    "eps = 0.2\n",
    "lb, ub = -np.pi, np.pi\n",
    "X_ = np.linspace(lb, ub, num=50).reshape(50, 1)\n",
    "f = lambda x: np.sin(x) \n",
    "\n",
    "X = (ub - lb) * algorithm_globals.random.random([num_samples, 1]) + lb\n",
    "y = f(X[:, 0]) + eps * (2 * algorithm_globals.random.random(num_samples) - 1)\n",
    "\n",
    "plt.plot(X_, f(X_), \"r--\")\n",
    "plt.plot(X, y, \"bo\")\n",
    "plt.show()"
   ]
  },
  {
   "cell_type": "code",
   "execution_count": null,
   "id": "c58bec09-4809-49e5-bb26-cb564b90216f",
   "metadata": {},
   "outputs": [],
   "source": [
    "y.reshape(-1,1).shape"
   ]
  },
  {
   "cell_type": "code",
   "execution_count": null,
   "id": "92140372-487e-4edd-a6d6-c6846c4326c7",
   "metadata": {},
   "outputs": [],
   "source": [
    "x_new = y.reshape(-1,1)"
   ]
  },
  {
   "cell_type": "code",
   "execution_count": null,
   "id": "ade12821-6815-4efc-97da-1c6ae6103cfa",
   "metadata": {},
   "outputs": [],
   "source": [
    "X.reshape(-1)"
   ]
  },
  {
   "cell_type": "code",
   "execution_count": null,
   "id": "663bda73-2642-48d1-ab0d-e7576517a22b",
   "metadata": {},
   "outputs": [],
   "source": [
    "y_new = X.reshape(-1)"
   ]
  },
  {
   "cell_type": "code",
   "execution_count": null,
   "id": "14d7d58e-2c2d-4fab-b47b-561445fca0b3",
   "metadata": {},
   "outputs": [],
   "source": [
    "# create empty array for callback to store evaluations of the objective function\n",
    "objective_func_vals = []\n",
    "plt.rcParams[\"figure.figsize\"] = (12, 6)\n",
    "\n",
    "# fit to data\n",
    "regressor.fit(x_new, y_new)\n",
    "\n",
    "# # return to default figsize\n",
    "plt.rcParams[\"figure.figsize\"] = (6, 4)\n",
    "\n",
    "# # score the result\n",
    "regressor.score(x_new, y_new)"
   ]
  },
  {
   "cell_type": "code",
   "execution_count": null,
   "id": "ea3d0eb3-131f-47b8-b656-076a2477b9a1",
   "metadata": {},
   "outputs": [],
   "source": [
    "y_pred = regressor.predict(x_new)"
   ]
  },
  {
   "cell_type": "code",
   "execution_count": null,
   "id": "5d941d0b-a999-4dc9-a4f7-ee9b01ebefe8",
   "metadata": {},
   "outputs": [],
   "source": [
    "y_pred.shape"
   ]
  },
  {
   "cell_type": "code",
   "execution_count": null,
   "id": "a987fadc-def8-4235-b169-cfcb83e54db4",
   "metadata": {},
   "outputs": [],
   "source": [
    "y_pred"
   ]
  }
 ],
 "metadata": {
  "kernelspec": {
   "display_name": "quantum-base",
   "language": "python",
   "name": "quantum-base"
  },
  "language_info": {
   "codemirror_mode": {
    "name": "ipython",
    "version": 3
   },
   "file_extension": ".py",
   "mimetype": "text/x-python",
   "name": "python",
   "nbconvert_exporter": "python",
   "pygments_lexer": "ipython3",
   "version": "3.9.17"
  }
 },
 "nbformat": 4,
 "nbformat_minor": 5
}

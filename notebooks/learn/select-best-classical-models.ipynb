{
 "cells": [
  {
   "cell_type": "markdown",
   "id": "84c4799c-38f9-4749-ad93-cbc3af443d6f",
   "metadata": {},
   "source": [
    "# Classical ML"
   ]
  },
  {
   "cell_type": "markdown",
   "id": "0aee27b4-7eed-434a-a325-db32ac26445c",
   "metadata": {},
   "source": [
    "Here we run the algorithms to try with classical ML, and choose the best models for our experiments. Methods we use are:\n",
    "\n",
    "1. Tree (Forest) based -\n",
    "2. SVM based -\n",
    "3. Regression based -\n",
    "4. Gradient based - "
   ]
  },
  {
   "cell_type": "code",
   "execution_count": null,
   "id": "c1341f37-b6a3-4325-ab12-b11f3f8f3da7",
   "metadata": {},
   "outputs": [],
   "source": [
    "# Imports\n",
    "import numpy as np\n",
    "import pandas as pd"
   ]
  },
  {
   "cell_type": "code",
   "execution_count": null,
   "id": "33d4bfbe-932b-4bed-8c0b-c69cf0867a70",
   "metadata": {},
   "outputs": [],
   "source": [
    "# generate fake data\n",
    "from sklearn.datasets import make_classification\n",
    "from sklearn.preprocessing import MinMaxScaler"
   ]
  },
  {
   "cell_type": "code",
   "execution_count": null,
   "id": "ca435d2b-7f6c-476e-9640-36765f633b8b",
   "metadata": {},
   "outputs": [],
   "source": [
    "# for data split\n",
    "from sklearn.model_selection import train_test_split\n",
    "from qiskit_algorithms.utils import algorithm_globals\n",
    "algorithm_globals.random_seed = 123\n",
    "from pycaret.classification import *"
   ]
  },
  {
   "cell_type": "code",
   "execution_count": null,
   "id": "fa82aad5-2645-4a1b-87b6-1825ec694290",
   "metadata": {},
   "outputs": [],
   "source": [
    "X, y = make_classification(\n",
    "    n_samples=10000,\n",
    "    n_features=2,\n",
    "    n_classes=3,\n",
    "    n_redundant=0,\n",
    "    n_clusters_per_class=1,\n",
    "    class_sep=2.0,\n",
    "    random_state=algorithm_globals.random_seed,\n",
    ")"
   ]
  },
  {
   "cell_type": "code",
   "execution_count": null,
   "id": "347e45f4-ae26-47a7-9ef5-3db21a9500db",
   "metadata": {},
   "outputs": [],
   "source": [
    "np.sum(y, axis=0)"
   ]
  },
  {
   "cell_type": "code",
   "execution_count": null,
   "id": "9f28b88f-0a7f-4f36-bafd-1663c28e328c",
   "metadata": {},
   "outputs": [],
   "source": [
    "## Train test split\n",
    "train_features, test_features, train_labels, test_labels = train_test_split(\n",
    "    X, y, train_size=0.8, random_state=algorithm_globals.random_seed\n",
    ")"
   ]
  },
  {
   "cell_type": "code",
   "execution_count": null,
   "id": "64b11762-56da-4195-b3e3-cfb9450298ce",
   "metadata": {},
   "outputs": [],
   "source": [
    "\n",
    "exp_name = setup(data = X,  target = y, train_size=0.8)"
   ]
  },
  {
   "cell_type": "code",
   "execution_count": null,
   "id": "ee9de02c-989f-4a19-8e65-e6af5a51e841",
   "metadata": {},
   "outputs": [],
   "source": [
    "include_models = ['knn', 'qda', 'rf', 'lightgbm', 'svm']"
   ]
  },
  {
   "cell_type": "code",
   "execution_count": null,
   "id": "944f0114-1822-4aee-8b74-9e26b92b3cc2",
   "metadata": {},
   "outputs": [],
   "source": [
    "best_model = compare_models(include=include_models, sort='f1')\n",
    "print(best_model)"
   ]
  },
  {
   "cell_type": "code",
   "execution_count": null,
   "id": "7c8b8193-0b44-4af7-b816-c39ff235dec1",
   "metadata": {},
   "outputs": [],
   "source": [
    "knn_model = create_model('knn', verbose=False)\n",
    "\n",
    "# np.savetxt('results/dump.csv', knn_results, delimiter=',')\n"
   ]
  },
  {
   "cell_type": "code",
   "execution_count": null,
   "id": "b57e6905-161a-4d0f-aa0b-87d9915f97da",
   "metadata": {},
   "outputs": [],
   "source": [
    "knn_model"
   ]
  },
  {
   "cell_type": "code",
   "execution_count": null,
   "id": "c695eaf4-f29b-4b1b-8600-3c185d20e38a",
   "metadata": {},
   "outputs": [],
   "source": [
    "knn_results = predict_model(knn_model)"
   ]
  },
  {
   "cell_type": "code",
   "execution_count": null,
   "id": "624c62e5-554f-4006-a146-ab8a763453f7",
   "metadata": {},
   "outputs": [],
   "source": [
    "pull(knn_model).to_csv('results/dump.csv', index=False)"
   ]
  },
  {
   "cell_type": "code",
   "execution_count": null,
   "id": "865e6de8-c672-4420-b5b4-9714bda6fae7",
   "metadata": {},
   "outputs": [],
   "source": [
    "qda_model = create_model('qda', verbose=False)\n",
    "qda_results = predict_model(qda_model)"
   ]
  },
  {
   "cell_type": "code",
   "execution_count": null,
   "id": "e3f30f2b-39e2-4ef3-b9a9-794d0014c470",
   "metadata": {},
   "outputs": [],
   "source": [
    "rf_model = create_model('rf', verbose=False)\n",
    "rf_results = predict_model(rf_model)"
   ]
  },
  {
   "cell_type": "code",
   "execution_count": null,
   "id": "584f89c8-0df9-44ad-921e-acb7b469d49a",
   "metadata": {},
   "outputs": [],
   "source": [
    "lightgbm_model = create_model('lightgbm', verbose=False)\n",
    "lightgbm_results = predict_model(lightgbm_model)"
   ]
  },
  {
   "cell_type": "code",
   "execution_count": null,
   "id": "99aed1dd-33c6-49ef-ae47-cbd213f289d2",
   "metadata": {},
   "outputs": [],
   "source": [
    "svm_model = create_model('svm', verbose=False)\n",
    "svm_results = predict_model(svm_model)"
   ]
  }
 ],
 "metadata": {
  "kernelspec": {
   "display_name": "classical-ml-base",
   "language": "python",
   "name": "python3"
  },
  "language_info": {
   "codemirror_mode": {
    "name": "ipython",
    "version": 3
   },
   "file_extension": ".py",
   "mimetype": "text/x-python",
   "name": "python",
   "nbconvert_exporter": "python",
   "pygments_lexer": "ipython3",
   "version": "3.10.12"
  }
 },
 "nbformat": 4,
 "nbformat_minor": 5
}

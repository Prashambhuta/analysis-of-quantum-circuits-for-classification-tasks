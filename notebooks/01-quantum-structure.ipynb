{
 "cells": [
  {
   "cell_type": "markdown",
   "id": "bf5cc317-69da-465e-9b45-65ced3dba5da",
   "metadata": {},
   "source": [
    "# Basics of Quantum Neural Network Structure"
   ]
  },
  {
   "cell_type": "code",
   "execution_count": 136,
   "id": "dcdfcf7d-8714-430f-ae34-45b06ac59296",
   "metadata": {},
   "outputs": [],
   "source": [
    "from qiskit.utils import algorithm_globals\n",
    "from qiskit_machine_learning.algorithms.regressors import NeuralNetworkRegressor, VQR\n",
    "from qiskit.algorithms.optimizers import L_BFGS_B\n",
    "import numpy as np\n",
    "import matplotlib.pyplot as plt\n",
    "from IPython.display import clear_output\n",
    "algorithm_globals.random_seed = 42\n",
    "from qiskit import QuantumCircuit\n",
    "from qiskit.circuit.library import ZZFeatureMap, RealAmplitudes"
   ]
  },
  {
   "cell_type": "markdown",
   "id": "899d8d04-b40e-4265-9a9f-d54fcd2ae9a6",
   "metadata": {},
   "source": [
    "## Estimator QNN"
   ]
  },
  {
   "cell_type": "markdown",
   "id": "006feeed-4770-4db4-9371-ec27ccf49c13",
   "metadata": {},
   "source": [
    "Estimator QNN takes as input a parameterised circuit. To constructor a Estimator QNN first we need to construct a quantum circuit which will act as input.\n",
    "\n",
    "Creating a quantum cicuit."
   ]
  },
  {
   "cell_type": "code",
   "execution_count": 49,
   "id": "3e3a0d85-8316-4299-b45b-a9e844f571c4",
   "metadata": {},
   "outputs": [
    {
     "data": {
      "image/png": "[encoded data removed]",
      "text/plain": [
       "<Figure size 352.675x117.056 with 1 Axes>"
      ]
     },
     "execution_count": 49,
     "metadata": {},
     "output_type": "execute_result"
    }
   ],
   "source": [
    "from qiskit.circuit import Parameter\n",
    "from qiskit import QuantumCircuit\n",
    "\n",
    "params1 = [Parameter(\"input1\"), Parameter(\"weight1\")]\n",
    "qc1 = QuantumCircuit(1)\n",
    "qc1.h(0)\n",
    "qc1.ry(params1[0], 0)\n",
    "qc1.rx(params1[1], 0)\n",
    "qc1.draw(\"mpl\")"
   ]
  },
  {
   "cell_type": "markdown",
   "id": "29e706c4-b9f8-4120-beaa-c5b4fea1998f",
   "metadata": {},
   "source": [
    "\n",
    "We will now create a quantum observable in the form of Y*no_of_qbits of circuit."
   ]
  },
  {
   "cell_type": "code",
   "execution_count": 50,
   "id": "1bae85c5-f148-4f9d-9766-aeb646226163",
   "metadata": {},
   "outputs": [],
   "source": [
    "from qiskit.quantum_info import SparsePauliOp\n",
    "\n",
    "observable1 = SparsePauliOp.from_list([(\"Y\" * qc1.num_qubits, 1)])"
   ]
  },
  {
   "cell_type": "markdown",
   "id": "c5ac3995-9f46-4021-837a-b1fedc9ccbb4",
   "metadata": {},
   "source": [
    "Estimator QNN takes the following input:\n",
    "\n",
    "1. Quantum circuit - qc1 constructed in this case\n",
    "2. Quantum observable - observable1 based on the Y*no_of_qbit\n",
    "3. estimator - (optional) primitive instance\n",
    "4. input_params - list of quantum circuit parameters that can be treated as network inputs.\n",
    "5. weight_params - list of quantum circuit parameters that can be treated as weight parameter.\n"
   ]
  },
  {
   "cell_type": "markdown",
   "id": "2cd6455f-e846-4a99-b94f-54f375335963",
   "metadata": {},
   "source": [
    "Lets create a Estimator QNN"
   ]
  },
  {
   "cell_type": "code",
   "execution_count": 51,
   "id": "e063eee1-41d2-471b-9154-66541984551a",
   "metadata": {},
   "outputs": [
    {
     "data": {
      "text/plain": [
       "<qiskit_machine_learning.neural_networks.estimator_qnn.EstimatorQNN at 0x291ea25b0>"
      ]
     },
     "execution_count": 51,
     "metadata": {},
     "output_type": "execute_result"
    }
   ],
   "source": [
    "from qiskit_machine_learning.neural_networks import EstimatorQNN\n",
    "\n",
    "estimator_qnn = EstimatorQNN(\n",
    "    circuit=qc1, observables=observable1, input_params=[params1[0]], weight_params=[params1[1]]\n",
    ")\n",
    "estimator_qnn"
   ]
  },
  {
   "cell_type": "markdown",
   "id": "e5af4f8d-4bad-4c0d-b3a1-fbf59e978c7e",
   "metadata": {},
   "source": [
    "## Sampler QNN\n",
    "\n",
    "Sampler QNN is constructed in a similar way to Estimator QNN but it does not require a custom observable."
   ]
  },
  {
   "cell_type": "markdown",
   "id": "0accccd7-101c-4773-9498-67ccdef68504",
   "metadata": {},
   "source": [
    "Lets create a Sampler QNN with 2 input parameters and 4 trainable weights."
   ]
  },
  {
   "cell_type": "code",
   "execution_count": 121,
   "id": "530ca85a-4e44-47bf-ad71-19bf245aa102",
   "metadata": {},
   "outputs": [],
   "source": [
    "# construct simple feature map\n",
    "param_x = Parameter(\"x\")\n",
    "feature_map = QuantumCircuit(1, name=\"fm\")\n",
    "feature_map.ry(param_x, 0)\n",
    "\n",
    "# construct simple ansatz\n",
    "param_y = Parameter(\"y\")\n",
    "ansatz = QuantumCircuit(1, name=\"vf\")\n",
    "ansatz.ry(param_y, 0)\n",
    "\n",
    "# construct a circuit\n",
    "qc = QuantumCircuit(1)\n",
    "qc.compose(feature_map, inplace=True)\n",
    "qc.compose(ansatz, inplace=True)\n",
    "\n",
    "\n"
   ]
  },
  {
   "cell_type": "code",
   "execution_count": 68,
   "id": "e8bfb37a-8d02-4b2b-982d-db238353dfeb",
   "metadata": {},
   "outputs": [],
   "source": [
    "# Creating two qubit circuit\n",
    "num_qubits = 2\n",
    "feature_map = ZZFeatureMap(feature_dimension=num_qubits)\n",
    "ansatz = RealAmplitudes(num_qubits=num_qubits, reps=1)\n",
    "\n",
    "qc = QuantumCircuit(num_qubits)\n",
    "qc.compose(feature_map, inplace=True)\n",
    "qc.compose(ansatz, inplace=True)"
   ]
  },
  {
   "cell_type": "code",
   "execution_count": 122,
   "id": "252e7420-8897-414f-941f-252e129ada1b",
   "metadata": {},
   "outputs": [
    {
     "data": {
      "image/png": "[encoded data removed]",
      "text/plain": [
       "<Figure size 269.064x117.056 with 1 Axes>"
      ]
     },
     "execution_count": 122,
     "metadata": {},
     "output_type": "execute_result"
    }
   ],
   "source": [
    "qc.draw(\"mpl\")"
   ]
  },
  {
   "cell_type": "code",
   "execution_count": 123,
   "id": "7edf401a-aad1-45c8-85de-ab0cf664a00c",
   "metadata": {},
   "outputs": [],
   "source": [
    "def parity(x):\n",
    "    return \"{:b}\".format(x).count(\"1\") % 2"
   ]
  },
  {
   "cell_type": "code",
   "execution_count": 124,
   "id": "f9b45c24-451a-4090-8fb3-454eae0bf000",
   "metadata": {},
   "outputs": [
    {
     "data": {
      "text/plain": [
       "<qiskit_machine_learning.neural_networks.sampler_qnn.SamplerQNN at 0x29340d940>"
      ]
     },
     "execution_count": 124,
     "metadata": {},
     "output_type": "execute_result"
    }
   ],
   "source": [
    "from qiskit_machine_learning.neural_networks import SamplerQNN\n",
    "\n",
    "sampler_qnn = SamplerQNN(circuit=qc, input_params=feature_map.parameters, weight_params=ansatz.parameters,interpret=parity , output_shape=2)\n",
    "sampler_qnn"
   ]
  },
  {
   "cell_type": "markdown",
   "id": "b3ad4a8b-3d3d-4934-b5c7-3d860648d7ee",
   "metadata": {},
   "source": [
    "## VQR Regression"
   ]
  },
  {
   "cell_type": "code",
   "execution_count": 137,
   "id": "a393be7f-b82b-494c-af66-7d117fd84ce4",
   "metadata": {},
   "outputs": [],
   "source": [
    "vqr = VQR(\n",
    "    feature_map=feature_map,\n",
    "    ansatz=ansatz,\n",
    "    optimizer=L_BFGS_B(maxiter=5),\n",
    "    callback=callback_graph,\n",
    ")"
   ]
  },
  {
   "cell_type": "markdown",
   "id": "d3a2d9ba-b4b0-4eb0-98d7-d416bbd3fc7f",
   "metadata": {},
   "source": [
    "## Linear Regression using SamplerQNN"
   ]
  },
  {
   "cell_type": "code",
   "execution_count": 138,
   "id": "18523d22-cc43-4ef3-8fa5-a0c5249fbcd4",
   "metadata": {},
   "outputs": [],
   "source": [
    "def callback_graph(weights, obj_func_eval):\n",
    "    clear_output(wait=True)\n",
    "    objective_func_vals.append(obj_func_eval)\n",
    "    plt.title(\"Objective function value against iteration\")\n",
    "    plt.xlabel(\"Iteration\")\n",
    "    plt.ylabel(\"Objective function value\")\n",
    "    plt.plot(range(len(objective_func_vals)), objective_func_vals)\n",
    "    plt.show()"
   ]
  },
  {
   "cell_type": "code",
   "execution_count": 176,
   "id": "59fd0b3e-0de7-4a90-8fec-c8c50dff52a1",
   "metadata": {},
   "outputs": [],
   "source": [
    "# construct the regressor from the neural network\n",
    "regressor = NeuralNetworkRegressor(\n",
    "    neural_network=sampler_qnn,\n",
    "    loss=\"squared_error\",\n",
    "    optimizer=L_BFGS_B(maxiter=30),\n",
    "    callback=callback_graph,\n",
    ")"
   ]
  },
  {
   "cell_type": "markdown",
   "id": "8355b2e3-cce0-4084-9544-2043a8c9722f",
   "metadata": {},
   "source": [
    "### Sample Data"
   ]
  },
  {
   "cell_type": "code",
   "execution_count": 177,
   "id": "02a5c41e-d400-4391-bc29-aa9f42e2e589",
   "metadata": {},
   "outputs": [
    {
     "data": {
      "image/png": "[encoded data removed]",
      "text/plain": [
       "<Figure size 600x400 with 1 Axes>"
      ]
     },
     "metadata": {},
     "output_type": "display_data"
    }
   ],
   "source": [
    "num_samples = 50\n",
    "eps = 0.2\n",
    "lb, ub = -np.pi, np.pi\n",
    "X_ = np.linspace(lb, ub, num=50).reshape(50, 1)\n",
    "f = lambda x: np.sin(x) \n",
    "\n",
    "X = (ub - lb) * algorithm_globals.random.random([num_samples, 1]) + lb\n",
    "y = f(X[:, 0]) + eps * (2 * algorithm_globals.random.random(num_samples) - 1)\n",
    "\n",
    "plt.plot(X_, f(X_), \"r--\")\n",
    "plt.plot(X, y, \"bo\")\n",
    "plt.show()"
   ]
  },
  {
   "cell_type": "code",
   "execution_count": 178,
   "id": "c58bec09-4809-49e5-bb26-cb564b90216f",
   "metadata": {},
   "outputs": [
    {
     "data": {
      "text/plain": [
       "(50, 1)"
      ]
     },
     "execution_count": 178,
     "metadata": {},
     "output_type": "execute_result"
    }
   ],
   "source": [
    "y.reshape(-1,1).shape"
   ]
  },
  {
   "cell_type": "code",
   "execution_count": 179,
   "id": "92140372-487e-4edd-a6d6-c6846c4326c7",
   "metadata": {},
   "outputs": [],
   "source": [
    "x_new = y.reshape(-1,1)"
   ]
  },
  {
   "cell_type": "code",
   "execution_count": 180,
   "id": "ade12821-6815-4efc-97da-1c6ae6103cfa",
   "metadata": {},
   "outputs": [
    {
     "data": {
      "text/plain": [
       "array([ 2.45056452,  0.58955472, -2.34974579, -2.23858167,  1.21325435,\n",
       "       -2.05495385,  0.0458214 ,  3.08991016, -3.11641213, -3.03741869,\n",
       "        3.0981418 ,  0.53180148, -2.34419376,  2.49632334,  2.38999991,\n",
       "        0.2274539 ,  0.76524189, -1.42510691, -2.82416804,  0.59418581,\n",
       "       -1.28959115,  1.02806136,  2.11269075, -3.02748659,  0.60138738,\n",
       "       -1.68841416,  2.34921072, -1.54777155,  0.69598927,  0.33640702,\n",
       "       -0.65240512,  1.11602417,  1.41855245,  0.42058257,  1.6237148 ,\n",
       "        3.03739907, -0.50722655,  0.09162802, -3.0632421 ,  1.86000228,\n",
       "        0.12710926, -0.57829539, -2.55052108,  2.4482835 , -0.65968897,\n",
       "        1.14719402, -2.20304715,  2.90000185, -2.02041   , -1.88783334])"
      ]
     },
     "execution_count": 180,
     "metadata": {},
     "output_type": "execute_result"
    }
   ],
   "source": [
    "X.reshape(-1)"
   ]
  },
  {
   "cell_type": "code",
   "execution_count": 181,
   "id": "663bda73-2642-48d1-ab0d-e7576517a22b",
   "metadata": {},
   "outputs": [],
   "source": [
    "y_new = X.reshape(-1)"
   ]
  },
  {
   "cell_type": "code",
   "execution_count": 182,
   "id": "14d7d58e-2c2d-4fab-b47b-561445fca0b3",
   "metadata": {},
   "outputs": [
    {
     "data": {
      "image/png": "[encoded data removed]",
      "text/plain": [
       "<Figure size 1200x600 with 1 Axes>"
      ]
     },
     "metadata": {},
     "output_type": "display_data"
    },
    {
     "ename": "ValueError",
     "evalue": "y_true and y_pred have different number of output (1!=2)",
     "output_type": "error",
     "traceback": [
      "\u001b[0;31m---------------------------------------------------------------------------\u001b[0m",
      "\u001b[0;31mValueError\u001b[0m                                Traceback (most recent call last)",
      "Cell \u001b[0;32mIn[182], line 12\u001b[0m\n\u001b[1;32m      9\u001b[0m plt\u001b[38;5;241m.\u001b[39mrcParams[\u001b[38;5;124m\"\u001b[39m\u001b[38;5;124mfigure.figsize\u001b[39m\u001b[38;5;124m\"\u001b[39m] \u001b[38;5;241m=\u001b[39m (\u001b[38;5;241m6\u001b[39m, \u001b[38;5;241m4\u001b[39m)\n\u001b[1;32m     11\u001b[0m \u001b[38;5;66;03m# # score the result\u001b[39;00m\n\u001b[0;32m---> 12\u001b[0m \u001b[43mregressor\u001b[49m\u001b[38;5;241;43m.\u001b[39;49m\u001b[43mscore\u001b[49m\u001b[43m(\u001b[49m\u001b[43mx_new\u001b[49m\u001b[43m,\u001b[49m\u001b[43m \u001b[49m\u001b[43my_new\u001b[49m\u001b[43m)\u001b[49m\n",
      "File \u001b[0;32m~/miniconda3/envs/quantum-base/lib/python3.9/site-packages/qiskit_machine_learning/algorithms/regressors/neural_network_regressor.py:54\u001b[0m, in \u001b[0;36mNeuralNetworkRegressor.score\u001b[0;34m(self, X, y, sample_weight)\u001b[0m\n\u001b[1;32m     51\u001b[0m \u001b[38;5;28;01mdef\u001b[39;00m \u001b[38;5;21mscore\u001b[39m(\n\u001b[1;32m     52\u001b[0m     \u001b[38;5;28mself\u001b[39m, X: np\u001b[38;5;241m.\u001b[39mndarray, y: np\u001b[38;5;241m.\u001b[39mndarray, sample_weight: Optional[np\u001b[38;5;241m.\u001b[39mndarray] \u001b[38;5;241m=\u001b[39m \u001b[38;5;28;01mNone\u001b[39;00m\n\u001b[1;32m     53\u001b[0m ) \u001b[38;5;241m-\u001b[39m\u001b[38;5;241m>\u001b[39m \u001b[38;5;28mfloat\u001b[39m:\n\u001b[0;32m---> 54\u001b[0m     \u001b[38;5;28;01mreturn\u001b[39;00m \u001b[43mRegressorMixin\u001b[49m\u001b[38;5;241;43m.\u001b[39;49m\u001b[43mscore\u001b[49m\u001b[43m(\u001b[49m\u001b[38;5;28;43mself\u001b[39;49m\u001b[43m,\u001b[49m\u001b[43m \u001b[49m\u001b[43mX\u001b[49m\u001b[43m,\u001b[49m\u001b[43m \u001b[49m\u001b[43my\u001b[49m\u001b[43m,\u001b[49m\u001b[43m \u001b[49m\u001b[43msample_weight\u001b[49m\u001b[43m)\u001b[49m\n",
      "File \u001b[0;32m~/miniconda3/envs/quantum-base/lib/python3.9/site-packages/sklearn/base.py:761\u001b[0m, in \u001b[0;36mRegressorMixin.score\u001b[0;34m(self, X, y, sample_weight)\u001b[0m\n\u001b[1;32m    758\u001b[0m \u001b[38;5;28;01mfrom\u001b[39;00m \u001b[38;5;21;01m.\u001b[39;00m\u001b[38;5;21;01mmetrics\u001b[39;00m \u001b[38;5;28;01mimport\u001b[39;00m r2_score\n\u001b[1;32m    760\u001b[0m y_pred \u001b[38;5;241m=\u001b[39m \u001b[38;5;28mself\u001b[39m\u001b[38;5;241m.\u001b[39mpredict(X)\n\u001b[0;32m--> 761\u001b[0m \u001b[38;5;28;01mreturn\u001b[39;00m \u001b[43mr2_score\u001b[49m\u001b[43m(\u001b[49m\u001b[43my\u001b[49m\u001b[43m,\u001b[49m\u001b[43m \u001b[49m\u001b[43my_pred\u001b[49m\u001b[43m,\u001b[49m\u001b[43m \u001b[49m\u001b[43msample_weight\u001b[49m\u001b[38;5;241;43m=\u001b[39;49m\u001b[43msample_weight\u001b[49m\u001b[43m)\u001b[49m\n",
      "File \u001b[0;32m~/miniconda3/envs/quantum-base/lib/python3.9/site-packages/sklearn/utils/_param_validation.py:211\u001b[0m, in \u001b[0;36mvalidate_params.<locals>.decorator.<locals>.wrapper\u001b[0;34m(*args, **kwargs)\u001b[0m\n\u001b[1;32m    205\u001b[0m \u001b[38;5;28;01mtry\u001b[39;00m:\n\u001b[1;32m    206\u001b[0m     \u001b[38;5;28;01mwith\u001b[39;00m config_context(\n\u001b[1;32m    207\u001b[0m         skip_parameter_validation\u001b[38;5;241m=\u001b[39m(\n\u001b[1;32m    208\u001b[0m             prefer_skip_nested_validation \u001b[38;5;129;01mor\u001b[39;00m global_skip_validation\n\u001b[1;32m    209\u001b[0m         )\n\u001b[1;32m    210\u001b[0m     ):\n\u001b[0;32m--> 211\u001b[0m         \u001b[38;5;28;01mreturn\u001b[39;00m \u001b[43mfunc\u001b[49m\u001b[43m(\u001b[49m\u001b[38;5;241;43m*\u001b[39;49m\u001b[43margs\u001b[49m\u001b[43m,\u001b[49m\u001b[43m \u001b[49m\u001b[38;5;241;43m*\u001b[39;49m\u001b[38;5;241;43m*\u001b[39;49m\u001b[43mkwargs\u001b[49m\u001b[43m)\u001b[49m\n\u001b[1;32m    212\u001b[0m \u001b[38;5;28;01mexcept\u001b[39;00m InvalidParameterError \u001b[38;5;28;01mas\u001b[39;00m e:\n\u001b[1;32m    213\u001b[0m     \u001b[38;5;66;03m# When the function is just a wrapper around an estimator, we allow\u001b[39;00m\n\u001b[1;32m    214\u001b[0m     \u001b[38;5;66;03m# the function to delegate validation to the estimator, but we replace\u001b[39;00m\n\u001b[1;32m    215\u001b[0m     \u001b[38;5;66;03m# the name of the estimator by the name of the function in the error\u001b[39;00m\n\u001b[1;32m    216\u001b[0m     \u001b[38;5;66;03m# message to avoid confusion.\u001b[39;00m\n\u001b[1;32m    217\u001b[0m     msg \u001b[38;5;241m=\u001b[39m re\u001b[38;5;241m.\u001b[39msub(\n\u001b[1;32m    218\u001b[0m         \u001b[38;5;124mr\u001b[39m\u001b[38;5;124m\"\u001b[39m\u001b[38;5;124mparameter of \u001b[39m\u001b[38;5;124m\\\u001b[39m\u001b[38;5;124mw+ must be\u001b[39m\u001b[38;5;124m\"\u001b[39m,\n\u001b[1;32m    219\u001b[0m         \u001b[38;5;124mf\u001b[39m\u001b[38;5;124m\"\u001b[39m\u001b[38;5;124mparameter of \u001b[39m\u001b[38;5;132;01m{\u001b[39;00mfunc\u001b[38;5;241m.\u001b[39m\u001b[38;5;18m__qualname__\u001b[39m\u001b[38;5;132;01m}\u001b[39;00m\u001b[38;5;124m must be\u001b[39m\u001b[38;5;124m\"\u001b[39m,\n\u001b[1;32m    220\u001b[0m         \u001b[38;5;28mstr\u001b[39m(e),\n\u001b[1;32m    221\u001b[0m     )\n",
      "File \u001b[0;32m~/miniconda3/envs/quantum-base/lib/python3.9/site-packages/sklearn/metrics/_regression.py:989\u001b[0m, in \u001b[0;36mr2_score\u001b[0;34m(y_true, y_pred, sample_weight, multioutput, force_finite)\u001b[0m\n\u001b[1;32m    848\u001b[0m \u001b[38;5;129m@validate_params\u001b[39m(\n\u001b[1;32m    849\u001b[0m     {\n\u001b[1;32m    850\u001b[0m         \u001b[38;5;124m\"\u001b[39m\u001b[38;5;124my_true\u001b[39m\u001b[38;5;124m\"\u001b[39m: [\u001b[38;5;124m\"\u001b[39m\u001b[38;5;124marray-like\u001b[39m\u001b[38;5;124m\"\u001b[39m],\n\u001b[0;32m   (...)\u001b[0m\n\u001b[1;32m    868\u001b[0m     force_finite\u001b[38;5;241m=\u001b[39m\u001b[38;5;28;01mTrue\u001b[39;00m,\n\u001b[1;32m    869\u001b[0m ):\n\u001b[1;32m    870\u001b[0m \u001b[38;5;250m    \u001b[39m\u001b[38;5;124;03m\"\"\":math:`R^2` (coefficient of determination) regression score function.\u001b[39;00m\n\u001b[1;32m    871\u001b[0m \n\u001b[1;32m    872\u001b[0m \u001b[38;5;124;03m    Best possible score is 1.0 and it can be negative (because the\u001b[39;00m\n\u001b[0;32m   (...)\u001b[0m\n\u001b[1;32m    987\u001b[0m \u001b[38;5;124;03m    -inf\u001b[39;00m\n\u001b[1;32m    988\u001b[0m \u001b[38;5;124;03m    \"\"\"\u001b[39;00m\n\u001b[0;32m--> 989\u001b[0m     y_type, y_true, y_pred, multioutput \u001b[38;5;241m=\u001b[39m \u001b[43m_check_reg_targets\u001b[49m\u001b[43m(\u001b[49m\n\u001b[1;32m    990\u001b[0m \u001b[43m        \u001b[49m\u001b[43my_true\u001b[49m\u001b[43m,\u001b[49m\u001b[43m \u001b[49m\u001b[43my_pred\u001b[49m\u001b[43m,\u001b[49m\u001b[43m \u001b[49m\u001b[43mmultioutput\u001b[49m\n\u001b[1;32m    991\u001b[0m \u001b[43m    \u001b[49m\u001b[43m)\u001b[49m\n\u001b[1;32m    992\u001b[0m     check_consistent_length(y_true, y_pred, sample_weight)\n\u001b[1;32m    994\u001b[0m     \u001b[38;5;28;01mif\u001b[39;00m _num_samples(y_pred) \u001b[38;5;241m<\u001b[39m \u001b[38;5;241m2\u001b[39m:\n",
      "File \u001b[0;32m~/miniconda3/envs/quantum-base/lib/python3.9/site-packages/sklearn/metrics/_regression.py:110\u001b[0m, in \u001b[0;36m_check_reg_targets\u001b[0;34m(y_true, y_pred, multioutput, dtype)\u001b[0m\n\u001b[1;32m    107\u001b[0m     y_pred \u001b[38;5;241m=\u001b[39m y_pred\u001b[38;5;241m.\u001b[39mreshape((\u001b[38;5;241m-\u001b[39m\u001b[38;5;241m1\u001b[39m, \u001b[38;5;241m1\u001b[39m))\n\u001b[1;32m    109\u001b[0m \u001b[38;5;28;01mif\u001b[39;00m y_true\u001b[38;5;241m.\u001b[39mshape[\u001b[38;5;241m1\u001b[39m] \u001b[38;5;241m!=\u001b[39m y_pred\u001b[38;5;241m.\u001b[39mshape[\u001b[38;5;241m1\u001b[39m]:\n\u001b[0;32m--> 110\u001b[0m     \u001b[38;5;28;01mraise\u001b[39;00m \u001b[38;5;167;01mValueError\u001b[39;00m(\n\u001b[1;32m    111\u001b[0m         \u001b[38;5;124m\"\u001b[39m\u001b[38;5;124my_true and y_pred have different number of output (\u001b[39m\u001b[38;5;132;01m{0}\u001b[39;00m\u001b[38;5;124m!=\u001b[39m\u001b[38;5;132;01m{1}\u001b[39;00m\u001b[38;5;124m)\u001b[39m\u001b[38;5;124m\"\u001b[39m\u001b[38;5;241m.\u001b[39mformat(\n\u001b[1;32m    112\u001b[0m             y_true\u001b[38;5;241m.\u001b[39mshape[\u001b[38;5;241m1\u001b[39m], y_pred\u001b[38;5;241m.\u001b[39mshape[\u001b[38;5;241m1\u001b[39m]\n\u001b[1;32m    113\u001b[0m         )\n\u001b[1;32m    114\u001b[0m     )\n\u001b[1;32m    116\u001b[0m n_outputs \u001b[38;5;241m=\u001b[39m y_true\u001b[38;5;241m.\u001b[39mshape[\u001b[38;5;241m1\u001b[39m]\n\u001b[1;32m    117\u001b[0m allowed_multioutput_str \u001b[38;5;241m=\u001b[39m (\u001b[38;5;124m\"\u001b[39m\u001b[38;5;124mraw_values\u001b[39m\u001b[38;5;124m\"\u001b[39m, \u001b[38;5;124m\"\u001b[39m\u001b[38;5;124muniform_average\u001b[39m\u001b[38;5;124m\"\u001b[39m, \u001b[38;5;124m\"\u001b[39m\u001b[38;5;124mvariance_weighted\u001b[39m\u001b[38;5;124m\"\u001b[39m)\n",
      "\u001b[0;31mValueError\u001b[0m: y_true and y_pred have different number of output (1!=2)"
     ]
    }
   ],
   "source": [
    "# create empty array for callback to store evaluations of the objective function\n",
    "objective_func_vals = []\n",
    "plt.rcParams[\"figure.figsize\"] = (12, 6)\n",
    "\n",
    "# fit to data\n",
    "regressor.fit(x_new, y_new)\n",
    "\n",
    "# # return to default figsize\n",
    "plt.rcParams[\"figure.figsize\"] = (6, 4)\n",
    "\n",
    "# # score the result\n",
    "regressor.score(x_new, y_new)"
   ]
  },
  {
   "cell_type": "code",
   "execution_count": 183,
   "id": "ea3d0eb3-131f-47b8-b656-076a2477b9a1",
   "metadata": {},
   "outputs": [],
   "source": [
    "y_pred = regressor.predict(x_new)"
   ]
  },
  {
   "cell_type": "code",
   "execution_count": 184,
   "id": "5d941d0b-a999-4dc9-a4f7-ee9b01ebefe8",
   "metadata": {},
   "outputs": [
    {
     "data": {
      "text/plain": [
       "(50, 2)"
      ]
     },
     "execution_count": 184,
     "metadata": {},
     "output_type": "execute_result"
    }
   ],
   "source": [
    "y_pred.shape"
   ]
  },
  {
   "cell_type": "code",
   "execution_count": 185,
   "id": "a987fadc-def8-4235-b169-cfcb83e54db4",
   "metadata": {},
   "outputs": [
    {
     "data": {
      "text/plain": [
       "array([[3.45483614e-01, 6.54516386e-01],\n",
       "       [3.74227145e-01, 6.25772855e-01],\n",
       "       [9.80905035e-01, 1.90949645e-02],\n",
       "       [9.76656277e-01, 2.33437234e-02],\n",
       "       [2.32963549e-01, 7.67036451e-01],\n",
       "       [9.66104318e-01, 3.38956824e-02],\n",
       "       [7.26140241e-01, 2.73859759e-01],\n",
       "       [6.98515552e-01, 3.01484448e-01],\n",
       "       [6.92514099e-01, 3.07485901e-01],\n",
       "       [7.30125693e-01, 2.69874307e-01],\n",
       "       [6.52589240e-01, 3.47410760e-01],\n",
       "       [4.65869911e-01, 5.34130089e-01],\n",
       "       [9.86792834e-01, 1.32071656e-02],\n",
       "       [3.54029385e-01, 6.45970615e-01],\n",
       "       [3.22793978e-01, 6.77206022e-01],\n",
       "       [5.60853936e-01, 4.39146064e-01],\n",
       "       [4.67069160e-01, 5.32930840e-01],\n",
       "       [9.99996764e-01, 3.23614351e-06],\n",
       "       [8.14951302e-01, 1.85048698e-01],\n",
       "       [5.48750796e-01, 4.51249204e-01],\n",
       "       [9.72202291e-01, 2.77977085e-02],\n",
       "       [3.33063145e-01, 6.66936855e-01],\n",
       "       [2.70126144e-01, 7.29873856e-01],\n",
       "       [7.06423306e-01, 2.93576694e-01],\n",
       "       [4.71569411e-01, 5.28430589e-01],\n",
       "       [9.99627339e-01, 3.72660892e-04],\n",
       "       [3.57609891e-01, 6.42390109e-01],\n",
       "       [9.95334863e-01, 4.66513731e-03],\n",
       "       [4.31192126e-01, 5.68807874e-01],\n",
       "       [5.47896209e-01, 4.52103791e-01],\n",
       "       [8.91568287e-01, 1.08431713e-01],\n",
       "       [2.96727085e-01, 7.03272915e-01],\n",
       "       [3.05114431e-01, 6.94885569e-01],\n",
       "       [5.53682506e-01, 4.46317494e-01],\n",
       "       [2.64909496e-01, 7.35090504e-01],\n",
       "       [7.44218844e-01, 2.55781156e-01],\n",
       "       [9.42699883e-01, 5.73001170e-02],\n",
       "       [6.48439385e-01, 3.51560615e-01],\n",
       "       [7.86116601e-01, 2.13883399e-01],\n",
       "       [1.88065742e-01, 8.11934258e-01],\n",
       "       [7.14118586e-01, 2.85881414e-01],\n",
       "       [9.61108346e-01, 3.88916544e-02],\n",
       "       [8.98585936e-01, 1.01414064e-01],\n",
       "       [3.40462550e-01, 6.59537450e-01],\n",
       "       [9.60057271e-01, 3.99427294e-02],\n",
       "       [3.40012878e-01, 6.59987122e-01],\n",
       "       [9.92651599e-01, 7.34840083e-03],\n",
       "       [6.08477763e-01, 3.91522237e-01],\n",
       "       [9.90926338e-01, 9.07366185e-03],\n",
       "       [9.99169007e-01, 8.30992732e-04]])"
      ]
     },
     "execution_count": 185,
     "metadata": {},
     "output_type": "execute_result"
    }
   ],
   "source": [
    "y_pred"
   ]
  }
 ],
 "metadata": {
  "kernelspec": {
   "display_name": "quantum-base",
   "language": "python",
   "name": "quantum-base"
  },
  "language_info": {
   "codemirror_mode": {
    "name": "ipython",
    "version": 3
   },
   "file_extension": ".py",
   "mimetype": "text/x-python",
   "name": "python",
   "nbconvert_exporter": "python",
   "pygments_lexer": "ipython3",
   "version": "3.9.17"
  }
 },
 "nbformat": 4,
 "nbformat_minor": 5
}

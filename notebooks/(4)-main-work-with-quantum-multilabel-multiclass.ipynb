{
 "cells": [
  {
   "cell_type": "markdown",
   "id": "132891b4-36ed-44a3-b4e1-32ae771a24c5",
   "metadata": {},
   "source": [
    "# Multilabel-multiclass"
   ]
  },
  {
   "cell_type": "code",
   "execution_count": 1,
   "id": "fb8e3710-1ce9-42a4-be4a-6d063ad4839d",
   "metadata": {},
   "outputs": [
    {
     "name": "stderr",
     "output_type": "stream",
     "text": [
      "/var/folders/4z/946_ygn50p3bc_rsjbq9cg240000gn/T/ipykernel_78528/3375632282.py:4: DeprecationWarning: ``qiskit.algorithms`` has been migrated to an independent package: https://github.com/qiskit-community/qiskit-algorithms. The ``qiskit.algorithms`` import path is deprecated as of qiskit-terra 0.25.0 and will be removed no earlier than 3 months after the release date. Please run ``pip install qiskit_algorithms`` and use ``import qiskit_algorithms`` instead.\n",
      "  from qiskit.algorithms.optimizers import COBYLA, L_BFGS_B\n"
     ]
    }
   ],
   "source": [
    "# For dataset.\n",
    "from sklearn.datasets import make_multilabel_classification\n",
    "from qiskit_algorithms.utils import algorithm_globals\n",
    "from qiskit.algorithms.optimizers import COBYLA, L_BFGS_B\n",
    "from qiskit_machine_learning.algorithms.classifiers import NeuralNetworkClassifier, VQC"
   ]
  },
  {
   "cell_type": "code",
   "execution_count": 2,
   "id": "d5c94239-b502-4988-b005-8c59077d1e09",
   "metadata": {},
   "outputs": [],
   "source": [
    "import numpy as np\n",
    "import matplotlib.pyplot as plt\n",
    "from IPython.display import clear_output\n",
    "import time"
   ]
  },
  {
   "cell_type": "code",
   "execution_count": 32,
   "id": "8c266ed7-1c02-4d05-9b42-9c4a4acdff0c",
   "metadata": {},
   "outputs": [],
   "source": [
    "# for data split\n",
    "from sklearn.model_selection import train_test_split\n",
    "from sklearn.metrics import accuracy_score"
   ]
  },
  {
   "cell_type": "code",
   "execution_count": 4,
   "id": "f154aec1-2f85-4a1e-adae-34882a7a3b2c",
   "metadata": {},
   "outputs": [],
   "source": [
    "from qiskit.circuit.library import ZFeatureMap, ZZFeatureMap"
   ]
  },
  {
   "cell_type": "code",
   "execution_count": 5,
   "id": "effc8876-3b37-4ba8-804e-be3d61588975",
   "metadata": {},
   "outputs": [],
   "source": [
    "X, y = make_multilabel_classification(\n",
    "    n_samples=10000,\n",
    "    n_features=2,\n",
    "    n_classes=2,\n",
    "    n_labels=2,\n",
    "    # n_redundant=0,\n",
    "    # n_clusters_per_class=1,\n",
    "    # class_sep=2.0,\n",
    "    random_state=algorithm_globals.random_seed,\n",
    ")"
   ]
  },
  {
   "cell_type": "code",
   "execution_count": 6,
   "id": "14772b70-aa5e-47ca-9967-b8144e599f04",
   "metadata": {},
   "outputs": [
    {
     "data": {
      "text/plain": [
       "((10000, 2), (10000, 2))"
      ]
     },
     "execution_count": 6,
     "metadata": {},
     "output_type": "execute_result"
    }
   ],
   "source": [
    "X.shape, y.shape"
   ]
  },
  {
   "cell_type": "code",
   "execution_count": 7,
   "id": "3cb87de1-88eb-46a1-a44c-488d46a9cab7",
   "metadata": {},
   "outputs": [
    {
     "data": {
      "text/plain": [
       "array([[1, 0],\n",
       "       [1, 1],\n",
       "       [1, 0],\n",
       "       [0, 0],\n",
       "       [1, 0],\n",
       "       [1, 1],\n",
       "       [0, 1],\n",
       "       [1, 1],\n",
       "       [1, 1],\n",
       "       [1, 1]])"
      ]
     },
     "execution_count": 7,
     "metadata": {},
     "output_type": "execute_result"
    }
   ],
   "source": [
    "y[:10] # = [3,1,2,0,2,3,3,3,3,3 ...]"
   ]
  },
  {
   "cell_type": "code",
   "execution_count": 8,
   "id": "ab2b664c-3455-4260-8a6d-56cf11101541",
   "metadata": {},
   "outputs": [],
   "source": [
    "## Train test split\n",
    "train_features, test_features, train_labels, test_labels = train_test_split(\n",
    "    X, y, train_size=0.8, random_state=algorithm_globals.random_seed\n",
    ")"
   ]
  },
  {
   "cell_type": "code",
   "execution_count": 9,
   "id": "1022351d-2a42-471e-953a-a53d611023bc",
   "metadata": {},
   "outputs": [],
   "source": [
    "train_labels_new = train_labels[:,0]*1+train_labels[:,1]*2"
   ]
  },
  {
   "cell_type": "code",
   "execution_count": 10,
   "id": "4f7521ae-bfdf-435c-936c-dc13fe89c02f",
   "metadata": {},
   "outputs": [],
   "source": [
    "test_labels_new = test_labels[:,0]*1+test_labels[:,1]*2"
   ]
  },
  {
   "cell_type": "code",
   "execution_count": 11,
   "id": "1c6405f8-6d93-4ec9-b241-6dc2d61da6bb",
   "metadata": {},
   "outputs": [
    {
     "data": {
      "text/plain": [
       "array([3, 3, 2, 1, 3, 3, 3, 3, 2, 1])"
      ]
     },
     "execution_count": 11,
     "metadata": {},
     "output_type": "execute_result"
    }
   ],
   "source": [
    "train_labels_new[:10]"
   ]
  },
  {
   "cell_type": "code",
   "execution_count": 12,
   "id": "e1c6b7f2-3fc4-4053-9638-ffcae3e2dfcf",
   "metadata": {},
   "outputs": [],
   "source": [
    "num_features = X.shape[1]"
   ]
  },
  {
   "cell_type": "code",
   "execution_count": 13,
   "id": "55f83b80-5f9a-48ac-a5d1-e7ae6a7f0f89",
   "metadata": {},
   "outputs": [
    {
     "data": {
      "image/png": "[encoded data removed]",
      "text/plain": [
       "<Figure size 1792.29x451.5 with 1 Axes>"
      ]
     },
     "execution_count": 13,
     "metadata": {},
     "output_type": "execute_result"
    }
   ],
   "source": [
    "feature_map = ZZFeatureMap(feature_dimension=num_features, reps=3)\n",
    "feature_map.decompose().draw(output=\"mpl\", fold=20)"
   ]
  },
  {
   "cell_type": "code",
   "execution_count": 14,
   "id": "f8683df6-847c-474d-a23c-c05456838d89",
   "metadata": {},
   "outputs": [],
   "source": [
    "from qiskit.circuit.library import RealAmplitudes\n",
    "\n",
    "ansatz = RealAmplitudes(num_qubits=num_features, reps=3)\n",
    "# ansatz.decompose().draw(output=\"mpl\", fold=20)"
   ]
  },
  {
   "cell_type": "code",
   "execution_count": 15,
   "id": "9d9ccfbb-e3c6-4d47-ac1b-9998541ac712",
   "metadata": {},
   "outputs": [],
   "source": [
    "# defining the optimiser\n",
    "optimizer = COBYLA(maxiter=100)"
   ]
  },
  {
   "cell_type": "code",
   "execution_count": 16,
   "id": "afaa3a3f-d068-4696-96a2-5ff3ca79bba2",
   "metadata": {},
   "outputs": [],
   "source": [
    "objective_func_vals = []\n",
    "plt.rcParams[\"figure.figsize\"] = (12, 6)\n",
    "\n",
    "\n",
    "def callback_graph(weights, obj_func_eval):\n",
    "    clear_output(wait=True)\n",
    "    objective_func_vals.append(obj_func_eval)\n",
    "    plt.title(\"Objective function value against iteration\")\n",
    "    plt.xlabel(\"Iteration\")\n",
    "    plt.ylabel(\"Objective function value\")\n",
    "    plt.plot(range(len(objective_func_vals)), objective_func_vals)\n",
    "    plt.show()"
   ]
  },
  {
   "cell_type": "code",
   "execution_count": 17,
   "id": "fdb2b269-1563-4d35-be93-3214ae4def1d",
   "metadata": {},
   "outputs": [
    {
     "data": {
      "image/png": "[encoded data removed]",
      "text/plain": [
       "<Figure size 1200x600 with 1 Axes>"
      ]
     },
     "metadata": {},
     "output_type": "display_data"
    },
    {
     "name": "stdout",
     "output_type": "stream",
     "text": [
      "Training time: 1282 seconds\n"
     ]
    }
   ],
   "source": [
    "vqc = VQC(\n",
    "    # sampler=sampler,\n",
    "    feature_map=feature_map,\n",
    "    ansatz=ansatz,\n",
    "    loss='cross_entropy',\n",
    "    optimizer=optimizer,\n",
    "    callback=callback_graph,\n",
    ")\n",
    "\n",
    "# clear objective value history\n",
    "objective_func_vals = []\n",
    "\n",
    "start = time.time()\n",
    "vqc.fit(train_features, train_labels_new)\n",
    "elapsed = time.time() - start\n",
    "\n",
    "print(f\"Training time: {round(elapsed)} seconds\")"
   ]
  },
  {
   "cell_type": "code",
   "execution_count": 19,
   "id": "0da6dd0d-7a7c-42f0-adc2-966e1896fafd",
   "metadata": {},
   "outputs": [
    {
     "name": "stdout",
     "output_type": "stream",
     "text": [
      "Quantum VQC on the training dataset: 0.34\n",
      "Quantum VQC on the test dataset:     0.34\n"
     ]
    }
   ],
   "source": [
    "# testing the QSVC scores\n",
    "train_score_q4 = vqc.score(train_features, train_labels_new)\n",
    "test_score_q4 = vqc.score(test_features, test_labels_new)\n",
    "\n",
    "print(f\"Quantum VQC on the training dataset: {train_score_q4:.2f}\")\n",
    "print(f\"Quantum VQC on the test dataset:     {test_score_q4:.2f}\")"
   ]
  },
  {
   "cell_type": "code",
   "execution_count": 20,
   "id": "a06a126a-928c-4d00-9bd7-3d12bf174699",
   "metadata": {},
   "outputs": [],
   "source": [
    "predictions = vqc.predict(test_features)"
   ]
  },
  {
   "cell_type": "code",
   "execution_count": 21,
   "id": "a4882a36-4a25-44f6-b818-46e8f23db3a9",
   "metadata": {},
   "outputs": [
    {
     "data": {
      "text/plain": [
       "array([0, 2, 3, 0, 0, 3, 3, 3, 1, 3, 3, 3, 3, 1, 1, 3, 3, 1, 1, 3])"
      ]
     },
     "execution_count": 21,
     "metadata": {},
     "output_type": "execute_result"
    }
   ],
   "source": [
    "predictions[:20]"
   ]
  },
  {
   "cell_type": "code",
   "execution_count": 24,
   "id": "452e1e44-bc01-48d4-8301-4dc54553a630",
   "metadata": {},
   "outputs": [
    {
     "data": {
      "text/plain": [
       "array([0, 0, 3, 1, 3, 2, 3, 0, 0, 2, 3, 3, 3, 2, 3, 1, 0, 0, 3, 3])"
      ]
     },
     "execution_count": 24,
     "metadata": {},
     "output_type": "execute_result"
    }
   ],
   "source": [
    "test_labels_new[:20]"
   ]
  },
  {
   "cell_type": "code",
   "execution_count": 29,
   "id": "e58ff2ad-b4c3-4f2a-8779-18396b492144",
   "metadata": {},
   "outputs": [
    {
     "data": {
      "text/plain": [
       "(2000,)"
      ]
     },
     "execution_count": 29,
     "metadata": {},
     "output_type": "execute_result"
    }
   ],
   "source": [
    "predictions.shape"
   ]
  },
  {
   "cell_type": "code",
   "execution_count": 33,
   "id": "49cecff3-2cc5-4316-af2e-bb44f50ad1e5",
   "metadata": {},
   "outputs": [
    {
     "name": "stdout",
     "output_type": "stream",
     "text": [
      "[[0 0]\n",
      " [0 1]\n",
      " [1 1]\n",
      " [0 0]\n",
      " [0 0]]\n"
     ]
    }
   ],
   "source": [
    "# Define the mapping\n",
    "mapping = {0: [0, 0], 1: [1, 0], 2: [0, 1], 3: [1, 1]}\n",
    "\n",
    "# Use list comprehension to create the new array\n",
    "predictions_labels_final = np.array([mapping[val] for val in predictions])\n",
    "\n",
    "print(predictions_labels_final[:5])"
   ]
  },
  {
   "cell_type": "code",
   "execution_count": 35,
   "id": "13dbeaaf-125b-43cc-8efe-d54139d38f6c",
   "metadata": {},
   "outputs": [
    {
     "data": {
      "text/plain": [
       "(2000, 2)"
      ]
     },
     "execution_count": 35,
     "metadata": {},
     "output_type": "execute_result"
    }
   ],
   "source": [
    "predictions_labels_final.shape"
   ]
  },
  {
   "cell_type": "code",
   "execution_count": 36,
   "id": "7f36107e-46a8-4e12-9f6c-b3af6dd0e376",
   "metadata": {},
   "outputs": [
    {
     "data": {
      "text/plain": [
       "(2000, 2)"
      ]
     },
     "execution_count": 36,
     "metadata": {},
     "output_type": "execute_result"
    }
   ],
   "source": [
    "test_labels.shape"
   ]
  },
  {
   "cell_type": "code",
   "execution_count": 37,
   "id": "cdae59af-25da-4269-b26d-b4745cc65785",
   "metadata": {},
   "outputs": [
    {
     "data": {
      "text/plain": [
       "0.3405"
      ]
     },
     "execution_count": 37,
     "metadata": {},
     "output_type": "execute_result"
    }
   ],
   "source": [
    "accuracy_score(predictions_labels_final, test_labels)"
   ]
  }
 ],
 "metadata": {
  "kernelspec": {
   "display_name": "quantum-base",
   "language": "python",
   "name": "quantum-base"
  },
  "language_info": {
   "codemirror_mode": {
    "name": "ipython",
    "version": 3
   },
   "file_extension": ".py",
   "mimetype": "text/x-python",
   "name": "python",
   "nbconvert_exporter": "python",
   "pygments_lexer": "ipython3",
   "version": "3.9.17"
  }
 },
 "nbformat": 4,
 "nbformat_minor": 5
}
